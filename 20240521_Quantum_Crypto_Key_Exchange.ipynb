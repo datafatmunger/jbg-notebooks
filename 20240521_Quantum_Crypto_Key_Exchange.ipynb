{
 "cells": [
  {
   "cell_type": "markdown",
   "id": "4cbfcf3e",
   "metadata": {},
   "source": [
    "# Quantum Crypto Key Exchange"
   ]
  },
  {
   "cell_type": "code",
   "execution_count": 6,
   "id": "888f9f60",
   "metadata": {},
   "outputs": [
    {
     "name": "stdout",
     "output_type": "stream",
     "text": [
      "Alice's bits: [0, 0, 1, 0, 0, 0, 1, 1, 0, 1, 0, 0, 0, 1, 0, 0, 0, 0, 1, 1, 1, 0, 1, 0, 1, 0, 0, 1, 1, 1, 1, 1, 0, 0, 0, 1, 0, 1, 1, 0, 0, 0, 0, 1, 0, 1, 0, 0, 0, 1, 1, 0, 0, 1, 0, 0, 0, 1, 0, 1, 0, 0, 0, 0, 0, 0, 0, 1, 0, 0, 0, 1, 0, 0, 0, 0, 0, 0, 0, 0, 0, 1, 0, 0, 1, 0, 0, 1, 0, 1, 0, 1, 0, 1, 0, 1, 1, 0, 1, 1]\n",
      "Bob's bits: [1, 0, 1, 1, 0, 1, 1, 0, 0, 1, 1, 1, 1, 1, 0, 0, 0, 0, 1, 1, 1, 0, 1, 0, 1, 0, 0, 1, 1, 1, 1, 1, 0, 1, 1, 1, 0, 1, 1, 1, 0, 0, 0, 0, 1, 1, 0, 0, 0, 0, 1, 1, 0, 0, 0, 0, 0, 1, 0, 1, 0, 1, 0, 0, 1, 0, 0, 1, 0, 0, 0, 1, 1, 0, 0, 0, 1, 0, 0, 1, 0, 0, 0, 1, 1, 1, 1, 1, 0, 0, 0, 1, 0, 0, 0, 0, 0, 0, 1, 1]\n",
      "Alice's bases: ['X', 'Z', 'X', 'X', 'X', 'Z', 'Z', 'X', 'X', 'X', 'X', 'X', 'X', 'Z', 'X', 'X', 'X', 'X', 'Z', 'Z', 'X', 'Z', 'X', 'Z', 'Z', 'Z', 'Z', 'X', 'Z', 'X', 'Z', 'X', 'X', 'X', 'X', 'X', 'X', 'X', 'Z', 'Z', 'X', 'Z', 'X', 'Z', 'X', 'X', 'Z', 'X', 'X', 'Z', 'Z', 'Z', 'Z', 'X', 'X', 'Z', 'X', 'X', 'Z', 'Z', 'Z', 'Z', 'Z', 'X', 'Z', 'Z', 'X', 'Z', 'X', 'X', 'Z', 'X', 'Z', 'Z', 'Z', 'X', 'Z', 'Z', 'Z', 'Z', 'Z', 'X', 'Z', 'Z', 'X', 'X', 'X', 'Z', 'Z', 'X', 'X', 'Z', 'X', 'Z', 'Z', 'X', 'Z', 'Z', 'Z', 'Z']\n",
      "Bob's bases: ['Z', 'Z', 'Z', 'Z', 'X', 'X', 'Z', 'Z', 'X', 'X', 'Z', 'Z', 'Z', 'Z', 'Z', 'X', 'X', 'X', 'Z', 'Z', 'X', 'X', 'X', 'Z', 'X', 'X', 'X', 'X', 'Z', 'X', 'Z', 'Z', 'X', 'Z', 'Z', 'X', 'X', 'Z', 'Z', 'X', 'X', 'Z', 'Z', 'X', 'Z', 'Z', 'Z', 'X', 'X', 'X', 'Z', 'X', 'X', 'Z', 'X', 'X', 'X', 'Z', 'Z', 'X', 'X', 'X', 'X', 'X', 'X', 'X', 'X', 'Z', 'X', 'X', 'Z', 'X', 'X', 'Z', 'Z', 'X', 'X', 'Z', 'Z', 'X', 'Z', 'Z', 'X', 'X', 'Z', 'Z', 'Z', 'Z', 'Z', 'Z', 'X', 'X', 'Z', 'X', 'Z', 'Z', 'X', 'Z', 'Z', 'X']\n"
     ]
    }
   ],
   "source": [
    "#################################################\n",
    "%matplotlib inline\n",
    "\n",
    "# Imports of the Qiskit basic functionalities\n",
    "from qiskit import QuantumCircuit, ClassicalRegister, QuantumRegister\n",
    "from qiskit.primitives import Sampler\n",
    "from qiskit.quantum_info import Statevector, random_statevector, partial_trace\n",
    "from qiskit.visualization import plot_distribution, plot_bloch_multivector\n",
    "import random\n",
    "\n",
    "def create_bell_pair():\n",
    "    qc = QuantumCircuit(2, 2)\n",
    "    qc.h(0)  # Hadamard gate on qubit 0\n",
    "    qc.cx(0, 1)  # CNOT gate with control qubit 0 and target qubit 1\n",
    "    return qc\n",
    "\n",
    "def measure_in_random_basis(qc, qubit, classical_bit, basis):\n",
    "    if basis == 'X':\n",
    "        qc.h(qubit)\n",
    "    qc.measure(qubit, classical_bit)\n",
    "    \n",
    "def bbm92_protocol(num_bits):\n",
    "    alice_basis_choices = [random.choice(['X', 'Z']) for _ in range(num_bits)]\n",
    "    bob_basis_choices = [random.choice(['X', 'Z']) for _ in range(num_bits)]\n",
    "    \n",
    "    alice_bits = []\n",
    "    bob_bits = []\n",
    "    \n",
    "    for alice_basis, bob_basis in zip(alice_basis_choices, bob_basis_choices):\n",
    "        # Create Bell pair\n",
    "        qc = create_bell_pair()\n",
    "        \n",
    "        # Measure Alice's qubit in her chosen basis\n",
    "        measure_in_random_basis(qc, 0, 0, alice_basis)\n",
    "        \n",
    "        # Measure Bob's qubit in his chosen basis\n",
    "        measure_in_random_basis(qc, 1, 1, bob_basis)\n",
    "        \n",
    "        # Simulate the circuit\n",
    "        job = Sampler().run(qc, shots = 10)\n",
    "\n",
    "        # Collect the results from the job\n",
    "        result = job.result()\n",
    "        # Obtain the counts from the results\n",
    "        statistics = result.quasi_dists[0].binary_probabilities()\n",
    "\n",
    "        max_key = max(statistics, key=statistics.get)\n",
    "        \n",
    "        alice_bits.append(int(max_key[0]))\n",
    "        bob_bits.append(int(max_key[1]))\n",
    "    \n",
    "    return alice_bits, bob_bits, alice_basis_choices, bob_basis_choices\n",
    "\n",
    "num_bits = 100  # Example number of bits to generate\n",
    "alice_bits, bob_bits, alice_bases, bob_bases = bbm92_protocol(num_bits)\n",
    "\n",
    "print(\"Alice's bits:\", alice_bits)\n",
    "print(\"Bob's bits:\", bob_bits)\n",
    "print(\"Alice's bases:\", alice_bases)\n",
    "print(\"Bob's bases:\", bob_bases)"
   ]
  },
  {
   "cell_type": "code",
   "execution_count": 7,
   "id": "722a646b",
   "metadata": {},
   "outputs": [
    {
     "name": "stdout",
     "output_type": "stream",
     "text": [
      "Sifted key (Alice): [0, 0, 1, 0, 1, 1, 0, 0, 0, 1, 1, 1, 1, 0, 1, 1, 1, 1, 0, 1, 0, 1, 0, 0, 0, 0, 0, 1, 0, 0, 0, 0, 0, 1, 0, 0, 0, 1, 0, 0, 0, 0, 0, 0, 1, 0, 0, 0, 0, 1]\n",
      "Sifted key (Bob): [0, 0, 1, 0, 1, 1, 0, 0, 0, 1, 1, 1, 1, 0, 1, 1, 1, 1, 0, 1, 0, 1, 0, 0, 0, 0, 0, 1, 0, 0, 0, 0, 0, 1, 0, 0, 0, 1, 0, 0, 0, 0, 0, 0, 1, 0, 0, 0, 0, 1]\n"
     ]
    }
   ],
   "source": [
    "def sift_keys(alice_bits, bob_bits, alice_bases, bob_bases):\n",
    "    sifted_key_alice = []\n",
    "    sifted_key_bob = []\n",
    "    \n",
    "    for ab, bb, a_bit, b_bit in zip(alice_bases, bob_bases, alice_bits, bob_bits):\n",
    "        if ab == bb:\n",
    "            sifted_key_alice.append(a_bit)\n",
    "            sifted_key_bob.append(b_bit)\n",
    "    \n",
    "    return sifted_key_alice, sifted_key_bob\n",
    "\n",
    "sifted_key_alice, sifted_key_bob = sift_keys(alice_bits, bob_bits, alice_bases, bob_bases)\n",
    "\n",
    "print(\"Sifted key (Alice):\", sifted_key_alice)\n",
    "print(\"Sifted key (Bob):\", sifted_key_bob)"
   ]
  },
  {
   "cell_type": "code",
   "execution_count": null,
   "id": "488bb79c",
   "metadata": {},
   "outputs": [],
   "source": []
  }
 ],
 "metadata": {
  "kernelspec": {
   "display_name": "Python 3 (ipykernel)",
   "language": "python",
   "name": "python3"
  },
  "language_info": {
   "codemirror_mode": {
    "name": "ipython",
    "version": 3
   },
   "file_extension": ".py",
   "mimetype": "text/x-python",
   "name": "python",
   "nbconvert_exporter": "python",
   "pygments_lexer": "ipython3",
   "version": "3.11.5"
  }
 },
 "nbformat": 4,
 "nbformat_minor": 5
}
