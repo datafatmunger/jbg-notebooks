{
 "cells": [
  {
   "cell_type": "code",
   "execution_count": 6,
   "id": "aa577075",
   "metadata": {},
   "outputs": [
    {
     "name": "stdout",
     "output_type": "stream",
     "text": [
      "Public key: (65537, 3233)\n",
      "Private key: (2753, 3233)\n",
      "Original message: 42\n",
      "Encrypted message: 2557\n",
      "Decrypted message: 42\n"
     ]
    }
   ],
   "source": [
    "import random\n",
    "\n",
    "def is_prime(n):\n",
    "    if n <= 1:\n",
    "        return False\n",
    "    elif n <= 3:\n",
    "        return True\n",
    "    elif n % 2 == 0 or n % 3 == 0:\n",
    "        return False\n",
    "    i = 5\n",
    "    while i * i <= n:\n",
    "        if n % i == 0 or n % (i + 2) == 0:\n",
    "            return False\n",
    "        i += 6\n",
    "    return True\n",
    "\n",
    "def gcd(a, b):\n",
    "    while b != 0:\n",
    "        a, b = b, a % b\n",
    "    return a\n",
    "\n",
    "def mod_inverse(a, m):\n",
    "    m0, x0, x1 = m, 0, 1\n",
    "    while a > 1:\n",
    "        q = a // m\n",
    "        m, a = a % m, m\n",
    "        x0, x1 = x1 - q * x0, x0\n",
    "    return x1 + m0 if x1 < 0 else x1\n",
    "\n",
    "def generate_keypair(p, q):\n",
    "    if not (is_prime(p) and is_prime(q)):\n",
    "        raise ValueError(\"Both numbers must be prime.\")\n",
    "    elif p == q:\n",
    "        raise ValueError(\"p and q cannot be equal.\")\n",
    "    n = p * q\n",
    "    phi = (p - 1) * (q - 1)\n",
    "    e = 65537  # Commonly used prime for e\n",
    "    if gcd(e, phi) != 1:\n",
    "        raise ValueError(\"e and phi are not coprime. Choose different primes.\")\n",
    "    d = mod_inverse(e, phi)\n",
    "    return ((e, n), (d, n))\n",
    "\n",
    "def encrypt(public_key, plaintext):\n",
    "    e, n = public_key\n",
    "    if plaintext >= n:\n",
    "        raise ValueError(\"The plaintext is too large for the key size.\")\n",
    "    cipher = pow(plaintext, e, n)\n",
    "    return cipher\n",
    "\n",
    "def decrypt(private_key, ciphertext):\n",
    "    d, n = private_key\n",
    "    plain = pow(ciphertext, d, n)\n",
    "    return plain\n",
    "\n",
    "# Example usage:\n",
    "p = 61\n",
    "q = 53\n",
    "\n",
    "public_key, private_key = generate_keypair(p, q)\n",
    "print(\"Public key:\", public_key)\n",
    "print(\"Private key:\", private_key)\n",
    "\n",
    "message = 42  # Must be less than n\n",
    "print(\"Original message:\", message)\n",
    "\n",
    "encrypted_msg = encrypt(public_key, message)\n",
    "print(\"Encrypted message:\", encrypted_msg)\n",
    "\n",
    "decrypted_msg = decrypt(private_key, encrypted_msg)\n",
    "print(\"Decrypted message:\", decrypted_msg)\n"
   ]
  },
  {
   "cell_type": "code",
   "execution_count": null,
   "id": "fc7bda91",
   "metadata": {},
   "outputs": [],
   "source": []
  }
 ],
 "metadata": {
  "kernelspec": {
   "display_name": "Python 3 (ipykernel)",
   "language": "python",
   "name": "python3"
  },
  "language_info": {
   "codemirror_mode": {
    "name": "ipython",
    "version": 3
   },
   "file_extension": ".py",
   "mimetype": "text/x-python",
   "name": "python",
   "nbconvert_exporter": "python",
   "pygments_lexer": "ipython3",
   "version": "3.11.5"
  }
 },
 "nbformat": 4,
 "nbformat_minor": 5
}
