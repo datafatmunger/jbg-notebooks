{
 "cells": [
  {
   "cell_type": "code",
   "execution_count": 1,
   "id": "05df83cc",
   "metadata": {},
   "outputs": [
    {
     "ename": "ModuleNotFoundError",
     "evalue": "No module named 'pydub'",
     "output_type": "error",
     "traceback": [
      "\u001b[0;31m---------------------------------------------------------------------------\u001b[0m",
      "\u001b[0;31mModuleNotFoundError\u001b[0m                       Traceback (most recent call last)",
      "Cell \u001b[0;32mIn[1], line 4\u001b[0m\n\u001b[1;32m      2\u001b[0m \u001b[38;5;28;01mfrom\u001b[39;00m \u001b[38;5;21;01mscipy\u001b[39;00m\u001b[38;5;21;01m.\u001b[39;00m\u001b[38;5;21;01mlinalg\u001b[39;00m \u001b[38;5;28;01mimport\u001b[39;00m eigh\n\u001b[1;32m      3\u001b[0m \u001b[38;5;28;01mfrom\u001b[39;00m \u001b[38;5;21;01mscipy\u001b[39;00m\u001b[38;5;21;01m.\u001b[39;00m\u001b[38;5;21;01mintegrate\u001b[39;00m \u001b[38;5;28;01mimport\u001b[39;00m solve_ivp\n\u001b[0;32m----> 4\u001b[0m \u001b[38;5;28;01mfrom\u001b[39;00m \u001b[38;5;21;01mpydub\u001b[39;00m \u001b[38;5;28;01mimport\u001b[39;00m AudioSegment\n\u001b[1;32m      5\u001b[0m \u001b[38;5;28;01mfrom\u001b[39;00m \u001b[38;5;21;01mpydub\u001b[39;00m\u001b[38;5;21;01m.\u001b[39;00m\u001b[38;5;21;01mplayback\u001b[39;00m \u001b[38;5;28;01mimport\u001b[39;00m play\n\u001b[1;32m      7\u001b[0m \u001b[38;5;66;03m# Constants\u001b[39;00m\n",
      "\u001b[0;31mModuleNotFoundError\u001b[0m: No module named 'pydub'"
     ]
    }
   ],
   "source": [
    "import numpy as np\n",
    "from scipy.linalg import eigh\n",
    "from scipy.integrate import solve_ivp\n",
    "from pydub import AudioSegment\n",
    "from pydub.playback import play\n",
    "\n",
    "# Constants\n",
    "m = 1.0           # Mass of the particle\n",
    "omega = 2 * np.pi * 440  # Angular frequency of oscillator (440 Hz, A4 note)\n",
    "hbar = 1.0        # Planck's reduced constant\n",
    "N = 50            # Number of basis states\n",
    "dt = 0.01         # Time step\n",
    "duration = 5.0    # Duration of the sound (seconds)\n",
    "fs = 44100        # Sampling rate (Hz)\n",
    "\n",
    "# Define the QHO Hamiltonian\n",
    "def quantum_harmonic_oscillator(N, m, omega, hbar):\n",
    "    \"\"\"Generate the Hamiltonian for a Quantum Harmonic Oscillator.\"\"\"\n",
    "    H = np.zeros((N, N))\n",
    "    for n in range(N):\n",
    "        if n > 0:\n",
    "            H[n, n-1] = H[n-1, n] = np.sqrt(n / 2) * hbar * omega\n",
    "        H[n, n] = (n + 0.5) * hbar * omega\n",
    "    return H\n",
    "\n",
    "# Initial State\n",
    "def initial_state(N):\n",
    "    \"\"\"Define an initial state as a superposition of low energy eigenstates.\"\"\"\n",
    "    state = np.zeros(N)\n",
    "    state[0] = 1.0  # Ground state\n",
    "    return state / np.linalg.norm(state)\n",
    "\n",
    "# Time Evolution\n",
    "def evolve_state(H, psi0, t):\n",
    "    \"\"\"Evolve the state using the Hamiltonian.\"\"\"\n",
    "    eigenvalues, eigenvectors = eigh(H)\n",
    "    exp_terms = np.exp(-1j * eigenvalues * t / hbar)\n",
    "    evolved_state = eigenvectors @ (exp_terms * (eigenvectors.T @ psi0))\n",
    "    return evolved_state\n",
    "\n",
    "# Generate Sound Signal\n",
    "def generate_signal(H, psi0, duration, dt, fs):\n",
    "    \"\"\"Generate a sound signal from the wavefunction evolution.\"\"\"\n",
    "    t_samples = np.arange(0, duration, 1/fs)\n",
    "    signal = np.zeros_like(t_samples)\n",
    "    for i, t in enumerate(t_samples):\n",
    "        psi_t = evolve_state(H, psi0, t)\n",
    "        signal[i] = np.real(np.vdot(psi_t, psi_t))  # Measure probability density\n",
    "    return signal\n",
    "\n",
    "# Main script\n",
    "H = quantum_harmonic_oscillator(N, m, omega, hbar)\n",
    "psi0 = initial_state(N)\n",
    "signal = generate_signal(H, psi0, duration, dt, fs)\n",
    "\n",
    "# Normalize signal for audio\n",
    "signal = (signal - np.min(signal)) / (np.max(signal) - np.min(signal))  # Normalize to [0, 1]\n",
    "signal = (signal * 2 - 1) * 32767  # Convert to 16-bit PCM\n",
    "\n",
    "# Create a WAV file\n",
    "from scipy.io.wavfile import write\n",
    "write(\"quantum_oscillator_sound.wav\", fs, signal.astype(np.int16))\n",
    "\n",
    "# Play the sound\n",
    "audio = AudioSegment(\n",
    "    signal.astype(np.int16).tobytes(),\n",
    "    frame_rate=fs,\n",
    "    sample_width=2,\n",
    "    channels=1\n",
    ")\n",
    "play(audio)\n"
   ]
  },
  {
   "cell_type": "code",
   "execution_count": null,
   "id": "4ba64d2a",
   "metadata": {},
   "outputs": [],
   "source": []
  }
 ],
 "metadata": {
  "kernelspec": {
   "display_name": "Python 3 (ipykernel)",
   "language": "python",
   "name": "python3"
  },
  "language_info": {
   "codemirror_mode": {
    "name": "ipython",
    "version": 3
   },
   "file_extension": ".py",
   "mimetype": "text/x-python",
   "name": "python",
   "nbconvert_exporter": "python",
   "pygments_lexer": "ipython3",
   "version": "3.11.5"
  }
 },
 "nbformat": 4,
 "nbformat_minor": 5
}
