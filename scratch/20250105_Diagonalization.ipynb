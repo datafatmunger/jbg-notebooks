{
 "cells": [
  {
   "cell_type": "code",
   "execution_count": 2,
   "id": "bda72b15",
   "metadata": {},
   "outputs": [
    {
     "name": "stdout",
     "output_type": "stream",
     "text": [
      "Diagonal matrix D:\n",
      "[[5. 0. 0.]\n",
      " [0. 1. 0.]\n",
      " [0. 0. 3.]]\n",
      "Transformation matrix P:\n",
      "[[ 1.         -0.70710678 -0.70710678]\n",
      " [ 0.          0.70710678  0.        ]\n",
      " [ 0.          0.          0.70710678]]\n",
      "Verification (P^-1 A P):\n",
      "[[5. 0. 0.]\n",
      " [0. 1. 0.]\n",
      " [0. 0. 3.]]\n"
     ]
    }
   ],
   "source": [
    "import numpy as np\n",
    "\n",
    "def is_diagonalizable(matrix):\n",
    "    \"\"\"\n",
    "    Checks if a matrix is diagonalizable.\n",
    "    \"\"\"\n",
    "    eigenvalues, eigenvectors = np.linalg.eig(matrix)\n",
    "    # Check if the eigenvectors form a linearly independent set\n",
    "    return np.linalg.matrix_rank(eigenvectors) == matrix.shape[0]\n",
    "\n",
    "def diagonalize_matrix(matrix):\n",
    "    \"\"\"\n",
    "    Attempts to diagonalize a matrix.\n",
    "    Returns the diagonal matrix and the transformation matrix if successful.\n",
    "    Raises an error if the matrix is not diagonalizable.\n",
    "    \"\"\"\n",
    "    if not is_diagonalizable(matrix):\n",
    "        raise ValueError(\"The matrix is not diagonalizable.\")\n",
    "    \n",
    "    # Compute eigenvalues and eigenvectors\n",
    "    eigenvalues, eigenvectors = np.linalg.eig(matrix)\n",
    "    # Form the diagonal matrix\n",
    "    diagonal_matrix = np.diag(eigenvalues)\n",
    "    return diagonal_matrix, eigenvectors\n",
    "\n",
    "# Example Usage\n",
    "A = np.array([[5, 4, 2],\n",
    "              [0, 1, 0],\n",
    "              [0, 0, 3]])\n",
    "\n",
    "try:\n",
    "    D, P = diagonalize_matrix(A)\n",
    "    print(\"Diagonal matrix D:\")\n",
    "    print(D)\n",
    "    print(\"Transformation matrix P:\")\n",
    "    print(P)\n",
    "    print(\"Verification (P^-1 A P):\")\n",
    "    print(np.linalg.inv(P) @ A @ P)\n",
    "except ValueError as e:\n",
    "    print(e)\n"
   ]
  },
  {
   "cell_type": "code",
   "execution_count": null,
   "id": "8fb4e503",
   "metadata": {},
   "outputs": [],
   "source": []
  }
 ],
 "metadata": {
  "kernelspec": {
   "display_name": "Python 3 (ipykernel)",
   "language": "python",
   "name": "python3"
  },
  "language_info": {
   "codemirror_mode": {
    "name": "ipython",
    "version": 3
   },
   "file_extension": ".py",
   "mimetype": "text/x-python",
   "name": "python",
   "nbconvert_exporter": "python",
   "pygments_lexer": "ipython3",
   "version": "3.11.5"
  }
 },
 "nbformat": 4,
 "nbformat_minor": 5
}
