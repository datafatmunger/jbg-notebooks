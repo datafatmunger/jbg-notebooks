{
 "cells": [
  {
   "cell_type": "code",
   "execution_count": 1,
   "id": "9a7355e9",
   "metadata": {},
   "outputs": [
    {
     "name": "stdout",
     "output_type": "stream",
     "text": [
      "Final state after applying sqrt(NOT) and CNOT:\n",
      "[[0. +0.j ]\n",
      " [0.5+0.5j]\n",
      " [0.5-0.5j]\n",
      " [0. +0.j ]]\n"
     ]
    }
   ],
   "source": [
    "import numpy as np\n",
    "\n",
    "# Define basic states |0> and |1>\n",
    "ket_0 = np.array([[1], [0]])\n",
    "ket_1 = np.array([[0], [1]])\n",
    "\n",
    "# Define the sqrt(NOT) gate (√X gate)\n",
    "sqrt_not = np.array([[0.5 + 0.5j, 0.5 - 0.5j], \n",
    "                     [0.5 - 0.5j, 0.5 + 0.5j]])\n",
    "\n",
    "# Define the CNOT gate\n",
    "CNOT = np.array([[1, 0, 0, 0],\n",
    "                 [0, 1, 0, 0],\n",
    "                 [0, 0, 0, 1],\n",
    "                 [0, 0, 1, 0]])\n",
    "\n",
    "# Initial state |0>|1>\n",
    "initial_state = np.kron(ket_0, ket_1)\n",
    "\n",
    "# Apply sqrt(NOT) to the first qubit\n",
    "sqrt_not_first_qubit = np.kron(sqrt_not, np.eye(2))\n",
    "state_after_sqrt_not = sqrt_not_first_qubit @ initial_state\n",
    "\n",
    "# Apply CNOT gate\n",
    "final_state = CNOT @ state_after_sqrt_not\n",
    "\n",
    "print(\"Final state after applying sqrt(NOT) and CNOT:\")\n",
    "print(final_state)\n"
   ]
  },
  {
   "cell_type": "code",
   "execution_count": 2,
   "id": "9c729ba1",
   "metadata": {},
   "outputs": [
    {
     "name": "stdout",
     "output_type": "stream",
     "text": [
      "[[1.+0.j 0.+0.j]\n",
      " [0.+0.j 1.+0.j]]\n"
     ]
    }
   ],
   "source": [
    "y = np.array([[0.0 + 0.0j, 0.0 - 1.0j], [0.0 + 1.0j, 0.0 + 0.0j]])\n",
    "print(y @ y)"
   ]
  },
  {
   "cell_type": "code",
   "execution_count": null,
   "id": "3a8a8997",
   "metadata": {},
   "outputs": [],
   "source": []
  }
 ],
 "metadata": {
  "kernelspec": {
   "display_name": "Python 3 (ipykernel)",
   "language": "python",
   "name": "python3"
  },
  "language_info": {
   "codemirror_mode": {
    "name": "ipython",
    "version": 3
   },
   "file_extension": ".py",
   "mimetype": "text/x-python",
   "name": "python",
   "nbconvert_exporter": "python",
   "pygments_lexer": "ipython3",
   "version": "3.11.5"
  }
 },
 "nbformat": 4,
 "nbformat_minor": 5
}
