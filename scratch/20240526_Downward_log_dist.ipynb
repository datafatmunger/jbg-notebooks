{
 "cells": [
  {
   "cell_type": "code",
   "execution_count": 3,
   "id": "b65ba355",
   "metadata": {},
   "outputs": [
    {
     "name": "stdout",
     "output_type": "stream",
     "text": [
      "Reverse logarithmic distribution: [15000.000000000004, 2192.1638274328884, 320.3721497536806, 46.82054920046206, -2559.3565263870323]\n",
      "Sum of shares: 15000.0\n"
     ]
    }
   ],
   "source": [
    "import math\n",
    "\n",
    "def reverse_logarithmic_distribution(C, N):\n",
    "    # Calculate logarithmic scale factor\n",
    "    scale_factor = math.log(C) / N\n",
    "\n",
    "    # Initialize an array to store shares\n",
    "    shares = []\n",
    "\n",
    "    # Calculate shares in reverse\n",
    "    for i in range(N, 0, -1):\n",
    "        # Calculate the share for the ith item\n",
    "        share_i = math.exp(i * scale_factor)\n",
    "\n",
    "        # Store the share\n",
    "        shares.append(share_i)\n",
    "\n",
    "    # Adjust the last share to ensure sum equals C\n",
    "    shares[-1] += C - sum(shares)\n",
    "\n",
    "    return shares\n",
    "\n",
    "# Example usage\n",
    "C = 15000  # Total amount\n",
    "N = 5     # Number of items\n",
    "result = reverse_logarithmic_distribution(C, N)\n",
    "print(\"Reverse logarithmic distribution:\", result)\n",
    "print(\"Sum of shares:\", sum(result))\n"
   ]
  },
  {
   "cell_type": "code",
   "execution_count": null,
   "id": "1ff460eb",
   "metadata": {},
   "outputs": [],
   "source": []
  }
 ],
 "metadata": {
  "kernelspec": {
   "display_name": "Python 3 (ipykernel)",
   "language": "python",
   "name": "python3"
  },
  "language_info": {
   "codemirror_mode": {
    "name": "ipython",
    "version": 3
   },
   "file_extension": ".py",
   "mimetype": "text/x-python",
   "name": "python",
   "nbconvert_exporter": "python",
   "pygments_lexer": "ipython3",
   "version": "3.11.5"
  }
 },
 "nbformat": 4,
 "nbformat_minor": 5
}
