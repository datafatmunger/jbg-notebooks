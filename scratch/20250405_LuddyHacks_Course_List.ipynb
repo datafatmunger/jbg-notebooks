{
 "cells": [
  {
   "cell_type": "code",
   "execution_count": 1,
   "id": "2ba7e702-aae2-472a-9d94-89042c2db820",
   "metadata": {},
   "outputs": [
    {
     "name": "stdout",
     "output_type": "stream",
     "text": [
      "Total courses: 6354\n",
      "First course title: AFRICAN AMERICAN DANCE COMPANY: FOUNDATIONS AND PRACTICES\n"
     ]
    }
   ],
   "source": [
    "import json\n",
    "\n",
    "# Load and parse the JSON file\n",
    "with open(\"courses.json\", \"r\") as f:\n",
    "    data = json.load(f)\n",
    "\n",
    "# Example: print how many courses there are\n",
    "print(f\"Total courses: {data['count']}\")\n",
    "\n",
    "# Example: print the title of the first course\n",
    "print(f\"First course title: {data['courses'][0]['title']}\")\n"
   ]
  },
  {
   "cell_type": "code",
   "execution_count": null,
   "id": "9d6563d2-a47b-4ee5-a2bd-dade59ff28f3",
   "metadata": {},
   "outputs": [],
   "source": []
  }
 ],
 "metadata": {
  "kernelspec": {
   "display_name": "Python (venv)",
   "language": "python",
   "name": "venv"
  },
  "language_info": {
   "codemirror_mode": {
    "name": "ipython",
    "version": 3
   },
   "file_extension": ".py",
   "mimetype": "text/x-python",
   "name": "python",
   "nbconvert_exporter": "python",
   "pygments_lexer": "ipython3",
   "version": "3.13.1"
  }
 },
 "nbformat": 4,
 "nbformat_minor": 5
}
