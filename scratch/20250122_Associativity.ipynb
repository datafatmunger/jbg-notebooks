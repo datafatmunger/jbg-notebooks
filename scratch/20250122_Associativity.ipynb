{
 "cells": [
  {
   "cell_type": "code",
   "execution_count": 2,
   "id": "abbf8fe7",
   "metadata": {},
   "outputs": [
    {
     "name": "stdout",
     "output_type": "stream",
     "text": [
      "Is associative: True\n"
     ]
    }
   ],
   "source": [
    "import numpy as np\n",
    "\n",
    "def normalize(state):\n",
    "    \"\"\"Normalize a quantum state.\"\"\"\n",
    "    return state / np.linalg.norm(state)\n",
    "\n",
    "def is_associative(phi, psi):\n",
    "    \"\"\"\n",
    "    Test if |phi><phi|psi> is associative.\n",
    "\n",
    "    Parameters:\n",
    "        phi (numpy.ndarray): Quantum state |phi>.\n",
    "        psi (numpy.ndarray): Quantum state |psi>.\n",
    "\n",
    "    Returns:\n",
    "        bool: True if |psi'> == |psi''>, False otherwise.\n",
    "    \"\"\"\n",
    "    # Normalize input states\n",
    "    phi = normalize(phi)\n",
    "    psi = normalize(psi)\n",
    "\n",
    "    # |phi><phi| = A\n",
    "    A = np.outer(phi, phi.conj())\n",
    "\n",
    "    # A|psi> = |psi'>\n",
    "    psi_prime = A @ psi\n",
    "\n",
    "    # <phi|psi> = lambda\n",
    "    lam = phi.conj().T @ psi\n",
    "\n",
    "    # lambda|phi> = |psi''>\n",
    "    psi_double_prime = lam * phi\n",
    "\n",
    "    # Check if |psi'> == |psi''>\n",
    "    return np.allclose(psi_prime, psi_double_prime)\n",
    "\n",
    "# Example states\n",
    "phi = np.array([1, 0], dtype=complex)  # |0>\n",
    "psi = np.array([1/np.sqrt(2), 1/np.sqrt(2)], dtype=complex)  # |+>\n",
    "\n",
    "# Test associativity\n",
    "result = is_associative(phi, psi)\n",
    "print(f\"Is associative: {result}\")\n"
   ]
  },
  {
   "cell_type": "code",
   "execution_count": null,
   "id": "ebc68e6a",
   "metadata": {},
   "outputs": [],
   "source": []
  }
 ],
 "metadata": {
  "kernelspec": {
   "display_name": "Python 3 (ipykernel)",
   "language": "python",
   "name": "python3"
  },
  "language_info": {
   "codemirror_mode": {
    "name": "ipython",
    "version": 3
   },
   "file_extension": ".py",
   "mimetype": "text/x-python",
   "name": "python",
   "nbconvert_exporter": "python",
   "pygments_lexer": "ipython3",
   "version": "3.11.5"
  }
 },
 "nbformat": 4,
 "nbformat_minor": 5
}
