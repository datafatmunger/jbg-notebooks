{
 "cells": [
  {
   "cell_type": "code",
   "execution_count": 1,
   "id": "783c8df9",
   "metadata": {},
   "outputs": [
    {
     "data": {
      "text/plain": [
       "1"
      ]
     },
     "execution_count": 1,
     "metadata": {},
     "output_type": "execute_result"
    }
   ],
   "source": [
    "# Let's verify the calculation 43^1000000000 % 100 in Python\n",
    "\n",
    "# Given values\n",
    "base = 43\n",
    "exponent = 1_000_000_000\n",
    "modulus = 100\n",
    "\n",
    "# Python's built-in function for modular exponentiation\n",
    "result = pow(base, exponent, modulus)\n",
    "result\n"
   ]
  },
  {
   "cell_type": "code",
   "execution_count": 2,
   "id": "83e7811c",
   "metadata": {},
   "outputs": [
    {
     "data": {
      "text/plain": [
       "43"
      ]
     },
     "execution_count": 2,
     "metadata": {},
     "output_type": "execute_result"
    }
   ],
   "source": [
    "# Let's verify the calculation 43^1000000000 % 100 in Python\n",
    "\n",
    "# Given values\n",
    "base = 43\n",
    "exponent = 1\n",
    "modulus = 100\n",
    "\n",
    "# Python's built-in function for modular exponentiation\n",
    "result = pow(base, exponent, modulus)\n",
    "result\n"
   ]
  },
  {
   "cell_type": "code",
   "execution_count": 3,
   "id": "0f795b35",
   "metadata": {},
   "outputs": [
    {
     "data": {
      "text/plain": [
       "43"
      ]
     },
     "execution_count": 3,
     "metadata": {},
     "output_type": "execute_result"
    }
   ],
   "source": [
    "# Let's verify the calculation 43^1000000000 % 100 in Python\n",
    "\n",
    "# Given values\n",
    "base = 43\n",
    "exponent = 5\n",
    "modulus = 100\n",
    "\n",
    "# Python's built-in function for modular exponentiation\n",
    "result = pow(base, exponent, modulus)\n",
    "result"
   ]
  },
  {
   "cell_type": "code",
   "execution_count": 11,
   "id": "afafc119",
   "metadata": {},
   "outputs": [
    {
     "data": {
      "text/plain": [
       "6"
      ]
     },
     "execution_count": 11,
     "metadata": {},
     "output_type": "execute_result"
    }
   ],
   "source": [
    "# Let's verify the calculation 43^1000000000 % 100 in Python\n",
    "\n",
    "# Given values\n",
    "base = 41\n",
    "exponent = 29\n",
    "modulus = 65\n",
    "\n",
    "# Python's built-in function for modular exponentiation\n",
    "result = pow(base, exponent, modulus)\n",
    "result"
   ]
  },
  {
   "cell_type": "code",
   "execution_count": 12,
   "id": "c804829f",
   "metadata": {},
   "outputs": [
    {
     "data": {
      "text/plain": [
       "(58070311, 62096119)"
      ]
     },
     "execution_count": 12,
     "metadata": {},
     "output_type": "execute_result"
    }
   ],
   "source": [
    "from sympy import gcd, mod_inverse, isprime, factorint\n",
    "\n",
    "# Given values for the RSA public key\n",
    "e = 31\n",
    "N = 62096119\n",
    "\n",
    "# Step 1: Factor N to find p and q\n",
    "factors = factorint(N)  # Factor N to find p and q\n",
    "p, q = factors.keys()\n",
    "\n",
    "# Step 2: Calculate φ(N) = (p - 1) * (q - 1)\n",
    "phi_N = (p - 1) * (q - 1)\n",
    "\n",
    "# Step 3: Calculate d, the modular inverse of e mod φ(N)\n",
    "d = mod_inverse(e, phi_N)\n",
    "\n",
    "# Private key (d, N)\n",
    "private_key = (d, N)\n",
    "private_key\n"
   ]
  },
  {
   "cell_type": "code",
   "execution_count": 13,
   "id": "a909a084",
   "metadata": {},
   "outputs": [
    {
     "ename": "KeyboardInterrupt",
     "evalue": "",
     "output_type": "error",
     "traceback": [
      "\u001b[0;31m---------------------------------------------------------------------------\u001b[0m",
      "\u001b[0;31mKeyboardInterrupt\u001b[0m                         Traceback (most recent call last)",
      "Cell \u001b[0;32mIn[13], line 15\u001b[0m\n\u001b[1;32m     13\u001b[0m \u001b[38;5;66;03m# Case 1: y = 22\u001b[39;00m\n\u001b[1;32m     14\u001b[0m y1 \u001b[38;5;241m=\u001b[39m \u001b[38;5;241m22\u001b[39m\n\u001b[0;32m---> 15\u001b[0m r1 \u001b[38;5;241m=\u001b[39m \u001b[43mfind_period\u001b[49m\u001b[43m(\u001b[49m\u001b[43my1\u001b[49m\u001b[43m,\u001b[49m\u001b[43m \u001b[49m\u001b[43mN\u001b[49m\u001b[43m)\u001b[49m\n\u001b[1;32m     16\u001b[0m gcd1 \u001b[38;5;241m=\u001b[39m gcd(y1, N)\n\u001b[1;32m     17\u001b[0m result1 \u001b[38;5;241m=\u001b[39m (r1, gcd1 \u001b[38;5;241m==\u001b[39m \u001b[38;5;241m1\u001b[39m, y1 \u001b[38;5;241m%\u001b[39m N \u001b[38;5;241m!=\u001b[39m \u001b[38;5;241m-\u001b[39m\u001b[38;5;241m1\u001b[39m)\n",
      "Cell \u001b[0;32mIn[13], line 9\u001b[0m, in \u001b[0;36mfind_period\u001b[0;34m(y, N)\u001b[0m\n\u001b[1;32m      7\u001b[0m \u001b[38;5;28;01mdef\u001b[39;00m \u001b[38;5;21mfind_period\u001b[39m(y, N):\n\u001b[1;32m      8\u001b[0m     r \u001b[38;5;241m=\u001b[39m \u001b[38;5;241m1\u001b[39m\n\u001b[0;32m----> 9\u001b[0m     \u001b[38;5;28;01mwhile\u001b[39;00m \u001b[38;5;28;43mpow\u001b[39;49m\u001b[43m(\u001b[49m\u001b[43my\u001b[49m\u001b[43m,\u001b[49m\u001b[43m \u001b[49m\u001b[43mr\u001b[49m\u001b[43m,\u001b[49m\u001b[43m \u001b[49m\u001b[43mN\u001b[49m\u001b[43m)\u001b[49m \u001b[38;5;241m!=\u001b[39m \u001b[38;5;241m1\u001b[39m:\n\u001b[1;32m     10\u001b[0m         r \u001b[38;5;241m+\u001b[39m\u001b[38;5;241m=\u001b[39m \u001b[38;5;241m1\u001b[39m\n\u001b[1;32m     11\u001b[0m     \u001b[38;5;28;01mreturn\u001b[39;00m r\n",
      "\u001b[0;31mKeyboardInterrupt\u001b[0m: "
     ]
    }
   ],
   "source": [
    "from sympy import gcd\n",
    "\n",
    "# Given N\n",
    "N = 649\n",
    "\n",
    "# Function to find the period r for a given y\n",
    "def find_period(y, N):\n",
    "    r = 1\n",
    "    while pow(y, r, N) != 1:\n",
    "        r += 1\n",
    "    return r\n",
    "\n",
    "# Case 1: y = 22\n",
    "y1 = 22\n",
    "r1 = find_period(y1, N)\n",
    "gcd1 = gcd(y1, N)\n",
    "result1 = (r1, gcd1 == 1, y1 % N != -1)\n",
    "\n",
    "# Case 2: y = 60\n",
    "y2 = 60\n",
    "r2 = find_period(y2, N)\n",
    "gcd2 = gcd(y2, N)\n",
    "result2 = (r2, gcd2 == 1, y2 % N != -1)\n",
    "\n",
    "# Case 3: y = 648\n",
    "y3 = 648\n",
    "r3 = find_period(y3, N)\n",
    "gcd3 = gcd(y3, N)\n",
    "result3 = (r3, gcd3 == 1, y3 % N != -1)\n",
    "\n",
    "# Output Results\n",
    "results = {\n",
    "    \"y = 22\": result1,\n",
    "    \"y = 60\": result2,\n",
    "    \"y = 648\": result3\n",
    "}\n",
    "\n",
    "results\n"
   ]
  },
  {
   "cell_type": "code",
   "execution_count": 17,
   "id": "321f2195",
   "metadata": {},
   "outputs": [
    {
     "name": "stdout",
     "output_type": "stream",
     "text": [
      "648 and 649 are coprime: True\n"
     ]
    }
   ],
   "source": [
    "from math import gcd\n",
    "\n",
    "def are_coprime(a, b):\n",
    "    return gcd(a, b) == 1\n",
    "\n",
    "# Example usage:\n",
    "a = 648\n",
    "b = 649\n",
    "print(f\"{a} and {b} are coprime: {are_coprime(a, b)}\")"
   ]
  },
  {
   "cell_type": "code",
   "execution_count": 15,
   "id": "3aeeb903",
   "metadata": {},
   "outputs": [
    {
     "data": {
      "text/plain": [
       "{22: '22 is not coprime with 649, so it cannot be used for period finding.',\n",
       " 60: 'The period r = 5 is odd, which may not be useful for factoring.'}"
      ]
     },
     "execution_count": 15,
     "metadata": {},
     "output_type": "execute_result"
    }
   ],
   "source": [
    "from math import gcd\n",
    "\n",
    "# Function to find the period r for a given y\n",
    "def find_period(y, N):\n",
    "    r = 1\n",
    "    while pow(y, r, N) != 1:\n",
    "        r += 1\n",
    "    return r\n",
    "\n",
    "# Function to check periodicity issues\n",
    "def check_periodicity_issues(y, N):\n",
    "    # Check if y is coprime with N\n",
    "    if gcd(y, N) != 1:\n",
    "        return f\"{y} is not coprime with {N}, so it cannot be used for period finding.\"\n",
    "\n",
    "    # Find the period r\n",
    "    r = find_period(y, N)\n",
    "    \n",
    "    # Check if r is even\n",
    "    if r % 2 != 0:\n",
    "        return f\"The period r = {r} is odd, which may not be useful for factoring.\"\n",
    "\n",
    "    # Calculate y^(r/2) mod N\n",
    "    half_power = pow(y, r // 2, N)\n",
    "    \n",
    "    # Check for non-trivial square root of 1\n",
    "    if half_power == 1 or half_power == N - 1:\n",
    "        return f\"The value y^(r/2) mod N = {half_power}, which is trivial and does not help in factoring.\"\n",
    "\n",
    "    # If all checks are passed\n",
    "    return f\"y = {y} with period r = {r} is suitable for factoring, with y^(r/2) mod N = {half_power}.\"\n",
    "\n",
    "# Example values\n",
    "N = 649\n",
    "test_values = [22, 60]\n",
    "\n",
    "# Check periodicity issues for each test value of y\n",
    "results = {y: check_periodicity_issues(y, N) for y in test_values}\n",
    "results\n"
   ]
  },
  {
   "cell_type": "code",
   "execution_count": 18,
   "id": "240f0f99",
   "metadata": {},
   "outputs": [
    {
     "data": {
      "text/plain": [
       "{22: '22 is not coprime with 649, so it cannot be used for period finding.',\n",
       " 60: 'The period r = 5 is odd, which may not be useful for factoring.',\n",
       " 648: 'The value y^(r/2) mod N = 648, which is trivial and does not help in factoring.'}"
      ]
     },
     "execution_count": 18,
     "metadata": {},
     "output_type": "execute_result"
    }
   ],
   "source": [
    "from math import gcd\n",
    "\n",
    "# Function to find the period r for a given y, with shortcut for y = N - 1\n",
    "def find_period(y, N):\n",
    "    if y == N - 1:\n",
    "        # Directly return period 2 if y = N - 1\n",
    "        return 2\n",
    "    \n",
    "    # Standard period-finding loop\n",
    "    r = 1\n",
    "    while pow(y, r, N) != 1:\n",
    "        r += 1\n",
    "    return r\n",
    "\n",
    "# Check periodicity issues with shortcut for y = N - 1\n",
    "def check_periodicity_issues(y, N):\n",
    "    # Check if y is coprime with N\n",
    "    if gcd(y, N) != 1:\n",
    "        return f\"{y} is not coprime with {N}, so it cannot be used for period finding.\"\n",
    "\n",
    "    # Find the period r with shortcut\n",
    "    r = find_period(y, N)\n",
    "    \n",
    "    # Check if r is even\n",
    "    if r % 2 != 0:\n",
    "        return f\"The period r = {r} is odd, which may not be useful for factoring.\"\n",
    "\n",
    "    # Calculate y^(r/2) mod N\n",
    "    half_power = pow(y, r // 2, N)\n",
    "    \n",
    "    # Check for non-trivial square root of 1\n",
    "    if half_power == 1 or half_power == N - 1:\n",
    "        return f\"The value y^(r/2) mod N = {half_power}, which is trivial and does not help in factoring.\"\n",
    "\n",
    "    # If all checks are passed\n",
    "    return f\"y = {y} with period r = {r} is suitable for factoring, with y^(r/2) mod N = {half_power}.\"\n",
    "\n",
    "# Example values\n",
    "N = 649\n",
    "test_values = [22, 60, 648]\n",
    "\n",
    "# Check periodicity issues for each test value of y\n",
    "results = {y: check_periodicity_issues(y, N) for y in test_values}\n",
    "results\n"
   ]
  },
  {
   "cell_type": "code",
   "execution_count": 19,
   "id": "7e89d478",
   "metadata": {},
   "outputs": [
    {
     "name": "stdout",
     "output_type": "stream",
     "text": [
      "The period r for y = 8 mod 21 is: 2\n"
     ]
    }
   ],
   "source": [
    "def find_period(y, N):\n",
    "    # Start with exponent a = 1\n",
    "    result = y % N\n",
    "    a = 1\n",
    "    \n",
    "    # Continue increasing exponent until we reach a result of 1\n",
    "    while result != 1:\n",
    "        a += 1\n",
    "        result = (result * y) % N\n",
    "    \n",
    "    return a\n",
    "\n",
    "# Values for the problem\n",
    "y = 8\n",
    "N = 21\n",
    "\n",
    "# Find and print the period r\n",
    "period = find_period(y, N)\n",
    "print(f\"The period r for y = {y} mod {N} is: {period}\")\n"
   ]
  },
  {
   "cell_type": "code",
   "execution_count": 20,
   "id": "d03a8f19",
   "metadata": {},
   "outputs": [
    {
     "name": "stdout",
     "output_type": "stream",
     "text": [
      "The possible states for |ψ3⟩ in binary are: ['000', '010', '100', '110']\n"
     ]
    }
   ],
   "source": [
    "import numpy as np\n",
    "\n",
    "def possible_states(period, qubits):\n",
    "    # Calculate the dimension of the first register (2^t for t qubits)\n",
    "    dimension = 2 ** qubits\n",
    "    \n",
    "    # Generate the possible states (in binary) that align with multiples of the period\n",
    "    states = [(k * period) % dimension for k in range(dimension // period)]\n",
    "    \n",
    "    # Return the states in binary format as strings\n",
    "    return [f\"{state:0{qubits}b}\" for state in states]\n",
    "\n",
    "# Given values\n",
    "period = 2  # from part (c)\n",
    "qubits = 3  # for the first register\n",
    "\n",
    "# Possible states of the first register |ψ3⟩\n",
    "psi_3_states = possible_states(period, qubits)\n",
    "print(\"The possible states for |ψ3⟩ in binary are:\", psi_3_states)"
   ]
  },
  {
   "cell_type": "code",
   "execution_count": 21,
   "id": "881827f1",
   "metadata": {},
   "outputs": [
    {
     "name": "stdout",
     "output_type": "stream",
     "text": [
      "The state |ψ4⟩ after applying the inverse QFT is:\n",
      "[ 7.07106781e-01+0.00000000e+00j -7.85046229e-17-7.85046229e-17j\n",
      "  0.00000000e+00-1.57009246e-16j  2.35513869e-16-2.35513869e-16j\n",
      "  7.07106781e-01+9.42055475e-16j -3.92523115e-16-3.92523115e-16j\n",
      "  0.00000000e+00-4.71027738e-16j  5.49532361e-16-5.49532361e-16j]\n"
     ]
    }
   ],
   "source": [
    "import numpy as np\n",
    "\n",
    "def inverse_qft_matrix(num_qubits):\n",
    "    \"\"\"Constructs the inverse QFT matrix for num_qubits.\"\"\"\n",
    "    dim = 2 ** num_qubits\n",
    "    omega = np.exp(-2j * np.pi / dim)  # e^{-2pi i / 2^t}\n",
    "    \n",
    "    # Create the matrix\n",
    "    qft_inv = np.zeros((dim, dim), dtype=complex)\n",
    "    for j in range(dim):\n",
    "        for k in range(dim):\n",
    "            qft_inv[j, k] = omega ** (j * k)\n",
    "    \n",
    "    # Normalize by sqrt(dim)\n",
    "    return qft_inv / np.sqrt(dim)\n",
    "\n",
    "def apply_inverse_qft(state, num_qubits):\n",
    "    \"\"\"Applies the inverse QFT to a given state.\"\"\"\n",
    "    qft_inv = inverse_qft_matrix(num_qubits)\n",
    "    return np.dot(qft_inv, state)\n",
    "\n",
    "# Define the possible |ψ3⟩ state based on the period found in part (d)\n",
    "# Here, we assume |ψ3⟩ is an equal superposition of states {0, 2, 4, 6} for r=2\n",
    "psi_3 = np.array([1 if i % 2 == 0 else 0 for i in range(8)], dtype=complex) / np.sqrt(4)\n",
    "\n",
    "# Apply the inverse QFT\n",
    "psi_4 = apply_inverse_qft(psi_3, 3)\n",
    "\n",
    "# Display the resulting state ψ4\n",
    "print(\"The state |ψ4⟩ after applying the inverse QFT is:\")\n",
    "print(psi_4)\n"
   ]
  },
  {
   "cell_type": "code",
   "execution_count": null,
   "id": "9b4e6e29",
   "metadata": {},
   "outputs": [],
   "source": []
  }
 ],
 "metadata": {
  "kernelspec": {
   "display_name": "Python 3 (ipykernel)",
   "language": "python",
   "name": "python3"
  },
  "language_info": {
   "codemirror_mode": {
    "name": "ipython",
    "version": 3
   },
   "file_extension": ".py",
   "mimetype": "text/x-python",
   "name": "python",
   "nbconvert_exporter": "python",
   "pygments_lexer": "ipython3",
   "version": "3.11.5"
  }
 },
 "nbformat": 4,
 "nbformat_minor": 5
}
