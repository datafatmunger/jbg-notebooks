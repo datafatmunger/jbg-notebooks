{
 "cells": [
  {
   "cell_type": "code",
   "execution_count": 1,
   "id": "50890695",
   "metadata": {},
   "outputs": [
    {
     "name": "stdout",
     "output_type": "stream",
     "text": [
      "⟨v_i|phi⟩ ⟨phi|v_i⟩ (LHS): (9+0j)\n",
      "⟨phi|v_i⟩ ⟨v_i|phi⟩ (RHS): (9+0j)\n",
      "Equality holds: True\n"
     ]
    }
   ],
   "source": [
    "import numpy as np\n",
    "\n",
    "# Define complex vectors |v_i⟩ and |phi⟩\n",
    "v_i = np.array([1 + 1j, 0 - 1j, 2 + 0j])\n",
    "phi = np.array([2 - 1j, 1 + 2j, -1 + 1j])\n",
    "\n",
    "# Compute ⟨v_i|phi⟩\n",
    "inner_1 = np.vdot(v_i, phi)  # ⟨v_i|phi⟩\n",
    "\n",
    "# Compute ⟨phi|v_i⟩\n",
    "inner_2 = np.vdot(phi, v_i)  # ⟨phi|v_i⟩\n",
    "\n",
    "# Compute both sides of the equality\n",
    "lhs = inner_1 * np.conj(inner_1)  # ⟨v_i|phi⟩ ⟨phi|v_i⟩\n",
    "rhs = np.conj(inner_2) * inner_2  # ⟨phi|v_i⟩ ⟨v_i|phi⟩\n",
    "\n",
    "# Print the results\n",
    "print(\"⟨v_i|phi⟩ ⟨phi|v_i⟩ (LHS):\", lhs)\n",
    "print(\"⟨phi|v_i⟩ ⟨v_i|phi⟩ (RHS):\", rhs)\n",
    "\n",
    "# Verify equality\n",
    "print(\"Equality holds:\", np.allclose(lhs, rhs))\n"
   ]
  },
  {
   "cell_type": "code",
   "execution_count": null,
   "id": "b2b714df",
   "metadata": {},
   "outputs": [],
   "source": []
  }
 ],
 "metadata": {
  "kernelspec": {
   "display_name": "Python 3 (ipykernel)",
   "language": "python",
   "name": "python3"
  },
  "language_info": {
   "codemirror_mode": {
    "name": "ipython",
    "version": 3
   },
   "file_extension": ".py",
   "mimetype": "text/x-python",
   "name": "python",
   "nbconvert_exporter": "python",
   "pygments_lexer": "ipython3",
   "version": "3.11.5"
  }
 },
 "nbformat": 4,
 "nbformat_minor": 5
}
