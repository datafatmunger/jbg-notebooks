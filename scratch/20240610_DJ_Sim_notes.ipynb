{
 "cells": [
  {
   "cell_type": "code",
   "execution_count": 15,
   "id": "6682f55d",
   "metadata": {},
   "outputs": [],
   "source": [
    "from qiskit import QuantumCircuit, QuantumRegister, ClassicalRegister, transpile\n",
    "from qiskit.providers.basic_provider import BasicSimulator\n",
    "from qiskit.visualization import plot_histogram\n",
    "import numpy as np\n",
    "\n",
    "%matplotlib inline"
   ]
  },
  {
   "cell_type": "code",
   "execution_count": 16,
   "id": "bb343d6f",
   "metadata": {},
   "outputs": [
    {
     "data": {
      "image/png": "[encoded data removed]",
      "text/plain": [
       "<Figure size 705.552x367.889 with 1 Axes>"
      ]
     },
     "execution_count": 16,
     "metadata": {},
     "output_type": "execute_result"
    }
   ],
   "source": [
    "qc = QuantumCircuit(3, 1)\n",
    "\n",
    "qc.h(0)\n",
    "qc.h(1)\n",
    "\n",
    "qc.x(2)\n",
    "qc.h(2)\n",
    "\n",
    "qc.barrier()\n",
    "\n",
    "qc.cx(1, 2)\n",
    "\n",
    "qc.barrier()\n",
    "\n",
    "qc.h(0)\n",
    "qc.h(1)\n",
    "\n",
    "#qc.measure(0, 0)\n",
    "qc.measure(1, 0)\n",
    "\n",
    "qc.draw(output='mpl')"
   ]
  },
  {
   "cell_type": "code",
   "execution_count": 17,
   "id": "34d5b65e",
   "metadata": {},
   "outputs": [
    {
     "name": "stdout",
     "output_type": "stream",
     "text": [
      "{'1': 1024}\n"
     ]
    },
    {
     "data": {
      "image/png": "[encoded data removed]",
      "text/plain": [
       "<Figure size 700x500 with 1 Axes>"
      ]
     },
     "execution_count": 17,
     "metadata": {},
     "output_type": "execute_result"
    }
   ],
   "source": [
    "simulator = BasicSimulator()\n",
    "compiled_circuit = transpile(qc, simulator)\n",
    "job = simulator.run(compiled_circuit)\n",
    "result = job.result()\n",
    "print(result.get_counts())\n",
    "plot_histogram(result.get_counts())"
   ]
  },
  {
   "cell_type": "code",
   "execution_count": 63,
   "id": "2e2cba82",
   "metadata": {},
   "outputs": [],
   "source": [
    "\n",
    "\n",
    "\n",
    "HxI = np.array([\n",
    "    [1, 0, 1, 0],\n",
    "    [0, 1, 0, 1],\n",
    "    [1, 0, -1, 0],\n",
    "    [0, 1, 0, -1]\n",
    "])\n",
    "\n",
    "v = np.array([\n",
    "    [1],\n",
    "    [0],\n",
    "    [1],\n",
    "    [0]\n",
    "])"
   ]
  },
  {
   "cell_type": "code",
   "execution_count": 64,
   "id": "87e7f04d",
   "metadata": {},
   "outputs": [
    {
     "name": "stdout",
     "output_type": "stream",
     "text": [
      "[[1]\n",
      " [1]\n",
      " [1]\n",
      " [0]]\n"
     ]
    }
   ],
   "source": [
    "s0 = np.dot(h0, v)\n",
    "print(s0)"
   ]
  },
  {
   "cell_type": "code",
   "execution_count": 65,
   "id": "50dd1892",
   "metadata": {},
   "outputs": [
    {
     "name": "stdout",
     "output_type": "stream",
     "text": [
      "0.5\n"
     ]
    }
   ],
   "source": [
    "norm = 1 / np.sqrt(4)\n",
    "print(norm)"
   ]
  },
  {
   "cell_type": "code",
   "execution_count": 58,
   "id": "4d268891",
   "metadata": {},
   "outputs": [
    {
     "name": "stdout",
     "output_type": "stream",
     "text": [
      "[[0.5]\n",
      " [0.5]\n",
      " [0.5]\n",
      " [0. ]]\n"
     ]
    }
   ],
   "source": [
    "ns0 = s0 * norm\n",
    "print(ns0)"
   ]
  },
  {
   "cell_type": "code",
   "execution_count": 59,
   "id": "2c31a5d5",
   "metadata": {},
   "outputs": [],
   "source": [
    "x1 = [[1, 0, 0, 0],\n",
    "     [0, 1, 0, 0],\n",
    "     [0, 0, 0, 1],\n",
    "     [0, 0, 1, 0]]"
   ]
  },
  {
   "cell_type": "code",
   "execution_count": 60,
   "id": "a7fbdb83",
   "metadata": {},
   "outputs": [
    {
     "name": "stdout",
     "output_type": "stream",
     "text": [
      "[[1]\n",
      " [1]\n",
      " [0]\n",
      " [1]]\n"
     ]
    }
   ],
   "source": [
    "s1 = np.dot(x1, s0)\n",
    "print(s1)"
   ]
  },
  {
   "cell_type": "code",
   "execution_count": 67,
   "id": "4ee20094",
   "metadata": {},
   "outputs": [
    {
     "name": "stdout",
     "output_type": "stream",
     "text": [
      "[[ 1  0  1  0]\n",
      " [ 0  1  0  1]\n",
      " [ 1  0 -1  0]\n",
      " [ 0  1  0 -1]]\n"
     ]
    }
   ],
   "source": [
    "def tensor_product(matrix1, matrix2):\n",
    "    \"\"\"\n",
    "    Computes the tensor product (Kronecker product) of two matrices.\n",
    "\n",
    "    Parameters:\n",
    "    matrix1 (numpy.ndarray): First matrix.\n",
    "    matrix2 (numpy.ndarray): Second matrix.\n",
    "\n",
    "    Returns:\n",
    "    numpy.ndarray: The tensor product of the two matrices.\n",
    "    \"\"\"\n",
    "    return np.kron(matrix1, matrix2)\n",
    "\n",
    "# Example usage:\n",
    "A = np.array([[1, 1], [1, -1]])\n",
    "B = np.array([[1, 0], [0, 1]])\n",
    "\n",
    "result = tensor_product(A, B)\n",
    "print(result)"
   ]
  },
  {
   "cell_type": "code",
   "execution_count": 70,
   "id": "7e912739",
   "metadata": {},
   "outputs": [
    {
     "name": "stdout",
     "output_type": "stream",
     "text": [
      "Measurement result: 1\n"
     ]
    }
   ],
   "source": [
    "def measure(statevector):\n",
    "    \"\"\"\n",
    "    Measure a qubit statevector into a classical bit.\n",
    "\n",
    "    Parameters:\n",
    "    statevector (numpy.ndarray): A 2-element complex vector representing the qubit state.\n",
    "\n",
    "    Returns:\n",
    "    int: The measurement result (0 or 1).\n",
    "    \"\"\"\n",
    "    # Ensure the statevector is normalized\n",
    "    assert np.isclose(np.linalg.norm(statevector), 1), \"Statevector must be normalized\"\n",
    "\n",
    "    # Compute probabilities\n",
    "    prob_0 = np.abs(statevector[0])**2\n",
    "    prob_1 = np.abs(statevector[1])**2\n",
    "\n",
    "    # Generate a random number to simulate measurement\n",
    "    random_number = np.random.rand()\n",
    "\n",
    "    # Determine the measurement result\n",
    "    if random_number < prob_0:\n",
    "        return 0\n",
    "    else:\n",
    "        return 1\n",
    "\n",
    "# Example usage\n",
    "statevector = np.array([0.6 + 0j, 0.8 + 0j]) / np.sqrt(0.6**2 + 0.8**2)  # normalized statevector\n",
    "measurement_result = measure(statevector)\n",
    "print(f\"Measurement result: {measurement_result}\")"
   ]
  },
  {
   "cell_type": "code",
   "execution_count": 71,
   "id": "8d0aa43b",
   "metadata": {},
   "outputs": [
    {
     "name": "stdout",
     "output_type": "stream",
     "text": [
      "Measurement result: 10\n"
     ]
    }
   ],
   "source": [
    "def measure(statevector):\n",
    "    \"\"\"\n",
    "    Measure a multi-qubit statevector into a classical bitstring.\n",
    "\n",
    "    Parameters:\n",
    "    statevector (numpy.ndarray): A 2^n-element complex vector representing the n-qubit state.\n",
    "\n",
    "    Returns:\n",
    "    str: The measurement result as a bitstring.\n",
    "    \"\"\"\n",
    "    # Ensure the statevector is normalized\n",
    "    assert np.isclose(np.linalg.norm(statevector), 1), \"Statevector must be normalized\"\n",
    "\n",
    "    # Compute the probabilities of each basis state\n",
    "    probabilities = np.abs(statevector)**2\n",
    "\n",
    "    # Generate a random number to simulate measurement\n",
    "    random_number = np.random.rand()\n",
    "\n",
    "    # Determine the measurement result\n",
    "    cumulative_probability = 0.0\n",
    "    for i, probability in enumerate(probabilities):\n",
    "        cumulative_probability += probability\n",
    "        if random_number < cumulative_probability:\n",
    "            # Convert the index to a bitstring\n",
    "            num_qubits = int(np.log2(len(statevector)))\n",
    "            bitstring = format(i, f'0{num_qubits}b')\n",
    "            return bitstring\n",
    "\n",
    "# Example usage\n",
    "statevector = np.array([0.2 + 0j, 0.2 + 0j, 0.6 + 0j, 0.2 + 0j]) / np.sqrt(0.2**2 + 0.2**2 + 0.6**2 + 0.2**2)  # normalized statevector for 2 qubits\n",
    "measurement_result = measure(statevector)\n",
    "print(f\"Measurement result: {measurement_result}\")\n"
   ]
  },
  {
   "cell_type": "code",
   "execution_count": null,
   "id": "67ccbcc9",
   "metadata": {},
   "outputs": [],
   "source": []
  }
 ],
 "metadata": {
  "kernelspec": {
   "display_name": "Python 3 (ipykernel)",
   "language": "python",
   "name": "python3"
  },
  "language_info": {
   "codemirror_mode": {
    "name": "ipython",
    "version": 3
   },
   "file_extension": ".py",
   "mimetype": "text/x-python",
   "name": "python",
   "nbconvert_exporter": "python",
   "pygments_lexer": "ipython3",
   "version": "3.11.5"
  }
 },
 "nbformat": 4,
 "nbformat_minor": 5
}
