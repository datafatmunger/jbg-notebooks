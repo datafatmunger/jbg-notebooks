{
 "cells": [
  {
   "cell_type": "code",
   "execution_count": 2,
   "id": "a86e4220",
   "metadata": {},
   "outputs": [
    {
     "name": "stdout",
     "output_type": "stream",
     "text": [
      "[0.         0.70710678 0.70710678 0.        ]\n"
     ]
    }
   ],
   "source": [
    "import numpy as np\n",
    "\n",
    "# Define the Hadamard matrix\n",
    "H = (1/np.sqrt(2)) * np.array([[1, 1],\n",
    "                               [1, -1]])\n",
    "\n",
    "# Define the CNOT gate\n",
    "CNOT = np.array([[1, 0, 0, 0],\n",
    "                 [0, 1, 0, 0],\n",
    "                 [0, 0, 0, 1],\n",
    "                 [0, 0, 1, 0]])\n",
    "\n",
    "\n",
    "\n",
    "# Define the 2x2 identity matrix\n",
    "I = np.eye(2)\n",
    "\n",
    "# Define the |0⟩ state\n",
    "qubit_0 = np.array([1, 0])\n",
    "\n",
    "# Define the |1⟩ state\n",
    "qubit_1 = np.array([0, 1])\n",
    "\n",
    "# Tensor product to create the combined two-qubit state |0⟩ ⊗ |1⟩\n",
    "psi0 = np.kron(qubit_0, qubit_1)\n",
    "\n",
    "# Tensor product (Kronecker product) of the Hadamard matrix with the identity matrix\n",
    "H1 = np.kron(H, I)\n",
    "\n",
    "# Tensor product (Kronecker product) of the Hadamard matrix with the identity matrix\n",
    "H1 = np.kron(H, I)\n",
    "\n",
    "# Apply H1 to psi0\n",
    "psi1 = np.dot(H1, psi0)\n",
    "\n",
    "# Apply CNOT to psi1\n",
    "psi1 = np.dot(CNOT, psi1)\n",
    "\n",
    "print(psi1)\n"
   ]
  },
  {
   "cell_type": "code",
   "execution_count": 3,
   "id": "d5eb2c8c",
   "metadata": {},
   "outputs": [
    {
     "data": {
      "text/plain": [
       "array([0, 0, 1, 0])"
      ]
     },
     "execution_count": 3,
     "metadata": {},
     "output_type": "execute_result"
    }
   ],
   "source": [
    "np.kron(qubit_1, qubit_0)"
   ]
  },
  {
   "cell_type": "code",
   "execution_count": 4,
   "id": "57da4d22",
   "metadata": {},
   "outputs": [
    {
     "data": {
      "text/plain": [
       "True"
      ]
     },
     "execution_count": 4,
     "metadata": {},
     "output_type": "execute_result"
    }
   ],
   "source": [
    "import numpy as np\n",
    "\n",
    "# Define the computational basis states |0> and |1>\n",
    "ket_0 = np.array([1, 0])\n",
    "ket_1 = np.array([0, 1])\n",
    "\n",
    "# Define the entangled state |ψ⟩ = 1/sqrt(2) * (|01⟩ + |10⟩)\n",
    "psi = (1/np.sqrt(2)) * (np.kron(ket_0, ket_1) + np.kron(ket_1, ket_0))\n",
    "\n",
    "# Function to check if a state is separable\n",
    "def is_separable(psi):\n",
    "    # Reshape psi into a matrix (for Schmidt decomposition)\n",
    "    reshaped_psi = psi.reshape(2, 2)\n",
    "    \n",
    "    # Perform singular value decomposition\n",
    "    U, s, Vh = np.linalg.svd(reshaped_psi)\n",
    "    \n",
    "    # If more than one singular value is non-zero, the state is entangled\n",
    "    return np.count_nonzero(s) == 1\n",
    "\n",
    "# Check if the state is separable\n",
    "is_entangled = not is_separable(psi)\n",
    "is_entangled"
   ]
  },
  {
   "cell_type": "code",
   "execution_count": 5,
   "id": "1aaca68f",
   "metadata": {},
   "outputs": [
    {
     "name": "stdout",
     "output_type": "stream",
     "text": [
      "Schmidt Coefficient: 0.7071\n",
      "Vector A: [0.7071067811865476, 0.7071067811865476]\n",
      "Vector B: [0.7071067811865475, 0.7071067811865475]\n"
     ]
    }
   ],
   "source": [
    "import math\n",
    "\n",
    "def schmidt_decomposition(state, dimA, dimB):\n",
    "    \"\"\"\n",
    "    Perform Schmidt decomposition on a bipartite state.\n",
    "\n",
    "    :param state: A list representing the state vector.\n",
    "    :param dimA: Dimension of subsystem A.\n",
    "    :param dimB: Dimension of subsystem B.\n",
    "    :return: Schmidt coefficients, orthonormal basis for A, orthonormal basis for B.\n",
    "    \"\"\"\n",
    "    if len(state) != dimA * dimB:\n",
    "        raise ValueError(\"State vector size must equal dimA * dimB\")\n",
    "\n",
    "    # Step 1: Reshape the state vector into a matrix of size (dimA, dimB)\n",
    "    matrix = []\n",
    "    for i in range(dimA):\n",
    "        row = state[i * dimB:(i + 1) * dimB]\n",
    "        matrix.append(row)\n",
    "\n",
    "    # Step 2: Compute the Gram matrix (matrix @ matrix^T)\n",
    "    gram_matrix = [[sum(matrix[i][k] * matrix[j][k] for k in range(dimB)) for j in range(dimA)] for i in range(dimA)]\n",
    "\n",
    "    # Step 3: Eigenvalue decomposition (Schmidt coefficients are sqrt of eigenvalues)\n",
    "    # Naive method without libraries (power iteration for demonstration)\n",
    "    def power_iteration(mat, num_simulations=100):\n",
    "        b_k = [1.0 for _ in range(len(mat))]\n",
    "        for _ in range(num_simulations):\n",
    "            # Multiply by matrix\n",
    "            b_k1 = [sum(mat[i][j] * b_k[j] for j in range(len(mat))) for i in range(len(mat))]\n",
    "            # Normalize the vector\n",
    "            b_k1_norm = math.sqrt(sum(x ** 2 for x in b_k1))\n",
    "            b_k = [x / b_k1_norm for x in b_k1]\n",
    "        eigenvalue = sum(b_k[i] * sum(mat[i][j] * b_k[j] for j in range(len(mat))) for i in range(len(mat)))\n",
    "        return eigenvalue, b_k\n",
    "\n",
    "    # Get the largest eigenvalue and eigenvector\n",
    "    eigenvalue, eigenvectorA = power_iteration(gram_matrix)\n",
    "    schmidt_coefficient = math.sqrt(eigenvalue)\n",
    "\n",
    "    # Normalize eigenvectorA\n",
    "    normA = math.sqrt(sum(x**2 for x in eigenvectorA))\n",
    "    eigenvectorA = [x / normA for x in eigenvectorA]\n",
    "\n",
    "    # Step 4: Compute the corresponding vector in subsystem B\n",
    "    eigenvectorB = [sum(matrix[i][j] * eigenvectorA[i] for i in range(dimA)) for j in range(dimB)]\n",
    "    normB = math.sqrt(sum(x**2 for x in eigenvectorB))\n",
    "    eigenvectorB = [x / normB for x in eigenvectorB]\n",
    "\n",
    "    return schmidt_coefficient, eigenvectorA, eigenvectorB\n",
    "\n",
    "# Example: A simple state vector for a 2x2 system\n",
    "state = [0.7071, 0, 0, 0.7071]  # This corresponds to |ψ⟩ = 1/√2 (|00⟩ + |11⟩)\n",
    "dimA = 2\n",
    "dimB = 2\n",
    "\n",
    "schmidt_coeff, vecA, vecB = schmidt_decomposition(state, dimA, dimB)\n",
    "print(f\"Schmidt Coefficient: {schmidt_coeff}\")\n",
    "print(f\"Vector A: {vecA}\")\n",
    "print(f\"Vector B: {vecB}\")\n"
   ]
  },
  {
   "cell_type": "code",
   "execution_count": 7,
   "id": "a147540e",
   "metadata": {},
   "outputs": [
    {
     "name": "stdout",
     "output_type": "stream",
     "text": [
      "Schmidt Coefficient: 1.0\n",
      "Vector A: [1.0, 0.0]\n",
      "Vector B: [1.0, 0.0]\n"
     ]
    }
   ],
   "source": [
    "# Example: A simple state vector for a 2x2 system\n",
    "state = [1, 0, 0, 0]  # This corresponds to |ψ⟩ = 1/√2 (|00⟩ + |11⟩)\n",
    "dimA = 2\n",
    "dimB = 2\n",
    "\n",
    "schmidt_coeff, vecA, vecB = schmidt_decomposition(state, dimA, dimB)\n",
    "print(f\"Schmidt Coefficient: {schmidt_coeff}\")\n",
    "print(f\"Vector A: {vecA}\")\n",
    "print(f\"Vector B: {vecB}\")"
   ]
  },
  {
   "cell_type": "code",
   "execution_count": 12,
   "id": "bb43cd73",
   "metadata": {},
   "outputs": [
    {
     "name": "stdout",
     "output_type": "stream",
     "text": [
      "Schmidt Coefficients: [0.7071, 0.7071]\n",
      "Basis A: [[0.7071067811865476, 0.7071067811865476], [0.7071067811865476, 0.7071067811865476]]\n",
      "Basis B: [[0.7071067811865475, 0.7071067811865475], [0.7071067811865475, 0.7071067811865475]]\n",
      "The state is entangled.\n"
     ]
    }
   ],
   "source": [
    "import math\n",
    "\n",
    "def schmidt_decomposition(state, dimA, dimB):\n",
    "    \"\"\"\n",
    "    Perform Schmidt decomposition on a bipartite state.\n",
    "\n",
    "    :param state: A list representing the state vector.\n",
    "    :param dimA: Dimension of subsystem A.\n",
    "    :param dimB: Dimension of subsystem B.\n",
    "    :return: Schmidt coefficients, orthonormal basis for A, orthonormal basis for B.\n",
    "    \"\"\"\n",
    "    if len(state) != dimA * dimB:\n",
    "        raise ValueError(\"State vector size must equal dimA * dimB\")\n",
    "\n",
    "    # Step 1: Reshape the state vector into a matrix of size (dimA, dimB)\n",
    "    matrix = []\n",
    "    for i in range(dimA):\n",
    "        row = state[i * dimB:(i + 1) * dimB]\n",
    "        matrix.append(row)\n",
    "\n",
    "    # Step 2: Compute the Gram matrix (matrix @ matrix^T)\n",
    "    gram_matrix = [[sum(matrix[i][k] * matrix[j][k] for k in range(dimB)) for j in range(dimA)] for i in range(dimA)]\n",
    "\n",
    "    # Step 3: Eigenvalue decomposition (for demonstration, we'll only handle real symmetric matrices)\n",
    "    def power_iteration(mat, num_simulations=100):\n",
    "        b_k = [1.0 for _ in range(len(mat))]\n",
    "        for _ in range(num_simulations):\n",
    "            b_k1 = [sum(mat[i][j] * b_k[j] for j in range(len(mat))) for i in range(len(mat))]\n",
    "            b_k1_norm = math.sqrt(sum(x ** 2 for x in b_k1))\n",
    "            b_k = [x / b_k1_norm for x in b_k1]\n",
    "        eigenvalue = sum(b_k[i] * sum(mat[i][j] * b_k[j] for j in range(len(mat))) for i in range(len(mat)))\n",
    "        return eigenvalue, b_k\n",
    "\n",
    "    # Step 4: Compute all eigenvalues (Schmidt coefficients)\n",
    "    def qr_algorithm(mat, max_iterations=100, tolerance=1e-10):\n",
    "        n = len(mat)\n",
    "        Q = [[0.0] * n for _ in range(n)]\n",
    "        R = [[0.0] * n for _ in range(n)]\n",
    "        A = [row[:] for row in mat]\n",
    "\n",
    "        for it in range(max_iterations):\n",
    "            # Gram-Schmidt process for QR decomposition\n",
    "            for i in range(n):\n",
    "                Q[i] = [A[j][i] for j in range(n)]\n",
    "                for j in range(i):\n",
    "                    R[j][i] = sum(Q[k][j] * Q[k][i] for k in range(n))\n",
    "                    Q[i] = [Q[k][i] - R[j][i] * Q[k][j] for k in range(n)]\n",
    "                R[i][i] = math.sqrt(sum(Q[k][i] ** 2 for k in range(n)))\n",
    "\n",
    "                # Avoid division by zero\n",
    "                if abs(R[i][i]) < tolerance:\n",
    "                    R[i][i] = 1.0  # Avoid zero division, treat as normalization step\n",
    "                Q[i] = [Q[k][i] / R[i][i] for k in range(n)]\n",
    "\n",
    "            A = [[sum(R[i][k] * Q[k][j] for k in range(n)) for j in range(n)] for i in range(n)]\n",
    "\n",
    "        eigenvalues = [A[i][i] for i in range(n)]\n",
    "        return eigenvalues\n",
    "\n",
    "    schmidt_coefficients = [math.sqrt(eig) for eig in qr_algorithm(gram_matrix) if eig > 1e-10]\n",
    "\n",
    "    # Step 5: Compute basis vectors for subsystem A and B for each Schmidt coefficient\n",
    "    basisA = []\n",
    "    basisB = []\n",
    "    for coeff in schmidt_coefficients:\n",
    "        # Find corresponding eigenvector in A\n",
    "        _, eigenvectorA = power_iteration(gram_matrix)\n",
    "        normA = math.sqrt(sum(x**2 for x in eigenvectorA))\n",
    "        eigenvectorA = [x / normA for x in eigenvectorA]\n",
    "\n",
    "        # Find corresponding vector in B\n",
    "        eigenvectorB = [sum(matrix[i][j] * eigenvectorA[i] for i in range(dimA)) for j in range(dimB)]\n",
    "        normB = math.sqrt(sum(x**2 for x in eigenvectorB))\n",
    "        eigenvectorB = [x / normB for x in eigenvectorB]\n",
    "\n",
    "        basisA.append(eigenvectorA)\n",
    "        basisB.append(eigenvectorB)\n",
    "\n",
    "    return schmidt_coefficients, basisA, basisB\n",
    "\n",
    "# Example: A simple state vector for a 2x2 system\n",
    "state = [0.7071, 0, 0, 0.7071]  # This corresponds to |ψ⟩ = 1/√2 (|00⟩ + |11⟩)\n",
    "dimA = 2\n",
    "dimB = 2\n",
    "\n",
    "schmidt_coeffs, vecA, vecB = schmidt_decomposition(state, dimA, dimB)\n",
    "print(f\"Schmidt Coefficients: {schmidt_coeffs}\")\n",
    "print(f\"Basis A: {vecA}\")\n",
    "print(f\"Basis B: {vecB}\")\n",
    "\n",
    "# Check if the state is entangled\n",
    "if len([coeff for coeff in schmidt_coeffs if abs(coeff) > 1e-10]) > 1:\n",
    "    print(\"The state is entangled.\")\n",
    "else:\n",
    "    print(\"The state is separable.\")\n"
   ]
  },
  {
   "cell_type": "code",
   "execution_count": 19,
   "id": "ee45665a",
   "metadata": {},
   "outputs": [
    {
     "name": "stdout",
     "output_type": "stream",
     "text": [
      "Schmidt Coefficients: [1.0, 1.0]\n",
      "Basis A: [[0.7071067811865476, 0.7071067811865476], [0.7071067811865476, 0.7071067811865476]]\n",
      "Basis B: [[0.7071067811865476, 0.7071067811865476], [0.7071067811865476, 0.7071067811865476]]\n",
      "The state is entangled.\n"
     ]
    }
   ],
   "source": [
    "# Example: A simple state vector for a 2x2 system\n",
    "state = [1, 0, 0, 1]  # This corresponds to |ψ⟩ = 1/√2 (|00⟩ + |11⟩)\n",
    "dimA = 2\n",
    "dimB = 2\n",
    "\n",
    "schmidt_coeffs, vecA, vecB = schmidt_decomposition(state, dimA, dimB)\n",
    "print(f\"Schmidt Coefficients: {schmidt_coeffs}\")\n",
    "print(f\"Basis A: {vecA}\")\n",
    "print(f\"Basis B: {vecB}\")\n",
    "\n",
    "# Check if the state is entangled\n",
    "if len([coeff for coeff in schmidt_coeffs if abs(coeff) > 1e-10]) > 1:\n",
    "    print(\"The state is entangled.\")\n",
    "else:\n",
    "    print(\"The state is separable.\")"
   ]
  },
  {
   "cell_type": "code",
   "execution_count": null,
   "id": "9d6b8142",
   "metadata": {},
   "outputs": [],
   "source": []
  }
 ],
 "metadata": {
  "kernelspec": {
   "display_name": "Python 3 (ipykernel)",
   "language": "python",
   "name": "python3"
  },
  "language_info": {
   "codemirror_mode": {
    "name": "ipython",
    "version": 3
   },
   "file_extension": ".py",
   "mimetype": "text/x-python",
   "name": "python",
   "nbconvert_exporter": "python",
   "pygments_lexer": "ipython3",
   "version": "3.11.5"
  }
 },
 "nbformat": 4,
 "nbformat_minor": 5
}
