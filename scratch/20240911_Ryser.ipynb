{
 "cells": [
  {
   "cell_type": "code",
   "execution_count": 1,
   "id": "526b0081",
   "metadata": {},
   "outputs": [
    {
     "name": "stdout",
     "output_type": "stream",
     "text": [
      "The permanent of the matrix is: 112\n"
     ]
    }
   ],
   "source": [
    "import numpy as np\n",
    "from itertools import combinations\n",
    "\n",
    "def ryser(matrix):\n",
    "    n = len(matrix)\n",
    "    rows = np.array(matrix)\n",
    "    permanent = 0\n",
    "\n",
    "    # Iterate over all subsets of columns using the inclusion-exclusion principle\n",
    "    for k in range(1, n+1):\n",
    "        sgn = (-1) ** (n - k)\n",
    "        sum_subset = 0\n",
    "\n",
    "        # Get all combinations of k rows\n",
    "        for comb in combinations(range(n), k):\n",
    "            subset_sum = np.prod(np.sum(rows[:, comb], axis=1))\n",
    "            sum_subset += subset_sum\n",
    "\n",
    "        permanent += sgn * sum_subset\n",
    "\n",
    "    return permanent // (2 ** (n - 1))\n",
    "\n",
    "# Example usage:\n",
    "matrix = np.array([\n",
    "    [1, 2, 3],\n",
    "    [4, 5, 6],\n",
    "    [7, 8, 9]\n",
    "])\n",
    "\n",
    "permanent = ryser(matrix)\n",
    "print(f\"The permanent of the matrix is: {permanent}\")\n"
   ]
  },
  {
   "cell_type": "code",
   "execution_count": 2,
   "id": "38e95a7e",
   "metadata": {},
   "outputs": [
    {
     "name": "stdout",
     "output_type": "stream",
     "text": [
      "Input state: [1 1 1 0 0]\n",
      "Sample 1: Output modes = [0 2 3], Probability ~ 2.5011e-03\n",
      "Sample 2: Output modes = [0 1 3], Probability ~ 4.3366e-03\n",
      "Sample 3: Output modes = [0 3 4], Probability ~ 7.0771e-02\n",
      "Sample 4: Output modes = [0 2 4], Probability ~ 1.1195e-01\n",
      "Sample 5: Output modes = [1 2 4], Probability ~ 1.2559e-02\n"
     ]
    }
   ],
   "source": [
    "import numpy as np\n",
    "from scipy.linalg import qr\n",
    "from itertools import permutations\n",
    "from scipy.special import perm\n",
    "\n",
    "# Function to compute the permanent of a matrix\n",
    "def matrix_permanent(matrix):\n",
    "    n = len(matrix)\n",
    "    if n == 0:\n",
    "        return 1\n",
    "    if n == 1:\n",
    "        return matrix[0, 0]\n",
    "    total = 0\n",
    "    for p in permutations(range(n)):\n",
    "        prod = 1\n",
    "        for i in range(n):\n",
    "            prod *= matrix[i, p[i]]\n",
    "        total += prod\n",
    "    return total\n",
    "\n",
    "# Function to generate a random unitary matrix using QR decomposition\n",
    "def random_unitary(n):\n",
    "    random_matrix = np.random.randn(n, n) + 1j * np.random.randn(n, n)\n",
    "    q, _ = qr(random_matrix)  # QR decomposition to get a unitary matrix\n",
    "    return q\n",
    "\n",
    "# Function to simulate boson sampling\n",
    "def boson_sampling(n_photons, n_modes, n_samples):\n",
    "    # Step 1: Generate a random unitary matrix (interferometer)\n",
    "    U = random_unitary(n_modes)\n",
    "\n",
    "    # Step 2: Define the initial input state\n",
    "    input_state = np.zeros(n_modes, dtype=int)\n",
    "    input_state[:n_photons] = 1  # First n_photons are occupied\n",
    "    print(f\"Input state: {input_state}\")\n",
    "\n",
    "    # Step 3: Sample output configurations\n",
    "    output_samples = []\n",
    "    for _ in range(n_samples):\n",
    "        # Randomly choose output modes where photons are measured\n",
    "        output_modes = np.sort(np.random.choice(n_modes, n_photons, replace=False))\n",
    "\n",
    "        # Extract the submatrix corresponding to selected modes\n",
    "        U_submatrix = U[output_modes[:, None], np.arange(n_photons)]\n",
    "\n",
    "        # Compute the permanent of the submatrix\n",
    "        perm_value = matrix_permanent(U_submatrix)\n",
    "\n",
    "        # Probability is proportional to the square of the permanent's absolute value\n",
    "        prob = np.abs(perm_value) ** 2\n",
    "\n",
    "        # Store the output sample\n",
    "        output_samples.append((output_modes, prob))\n",
    "\n",
    "    return output_samples\n",
    "\n",
    "# Example parameters\n",
    "n_photons = 3  # Number of photons\n",
    "n_modes = 5    # Number of modes\n",
    "n_samples = 5  # Number of output samples\n",
    "\n",
    "# Run the boson sampling simulation\n",
    "samples = boson_sampling(n_photons, n_modes, n_samples)\n",
    "\n",
    "# Display the output samples and their corresponding probabilities\n",
    "for i, (output, prob) in enumerate(samples):\n",
    "    print(f\"Sample {i+1}: Output modes = {output}, Probability ~ {prob:.4e}\")\n"
   ]
  },
  {
   "cell_type": "code",
   "execution_count": null,
   "id": "774b3b74",
   "metadata": {},
   "outputs": [],
   "source": []
  }
 ],
 "metadata": {
  "kernelspec": {
   "display_name": "Python 3 (ipykernel)",
   "language": "python",
   "name": "python3"
  },
  "language_info": {
   "codemirror_mode": {
    "name": "ipython",
    "version": 3
   },
   "file_extension": ".py",
   "mimetype": "text/x-python",
   "name": "python",
   "nbconvert_exporter": "python",
   "pygments_lexer": "ipython3",
   "version": "3.11.5"
  }
 },
 "nbformat": 4,
 "nbformat_minor": 5
}
