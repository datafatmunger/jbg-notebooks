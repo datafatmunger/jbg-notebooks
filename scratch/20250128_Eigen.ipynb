{
 "cells": [
  {
   "cell_type": "code",
   "execution_count": 2,
   "id": "2cbb460c",
   "metadata": {},
   "outputs": [
    {
     "name": "stdout",
     "output_type": "stream",
     "text": [
      "Hadamard Matrix (H):\n",
      "[[ 0.70710678  0.70710678]\n",
      " [ 0.70710678 -0.70710678]]\n",
      "\n",
      "Eigenvalues:\n",
      "[ 1. -1.]\n",
      "\n",
      "Eigenvectors (columns correspond to eigenvalues):\n",
      "[[ 0.92387953 -0.38268343]\n",
      " [ 0.38268343  0.92387953]]\n",
      "\n",
      "Verification for eigenvalue 1.0:\n",
      "H @ eigenvector: [0.92387953 0.38268343]\n",
      "λ * eigenvector: [0.92387953 0.38268343]\n",
      "\n",
      "Verification for eigenvalue -0.9999999999999999:\n",
      "H @ eigenvector: [ 0.38268343 -0.92387953]\n",
      "λ * eigenvector: [ 0.38268343 -0.92387953]\n"
     ]
    }
   ],
   "source": [
    "import numpy as np\n",
    "\n",
    "# Define the 2x2 Hadamard matrix\n",
    "H = np.array([[1, 1],\n",
    "              [1, -1]]) / np.sqrt(2)\n",
    "\n",
    "# Compute eigenvalues and eigenvectors\n",
    "eigenvalues, eigenvectors = np.linalg.eig(H)\n",
    "\n",
    "# Display results\n",
    "print(\"Hadamard Matrix (H):\")\n",
    "print(H)\n",
    "\n",
    "print(\"\\nEigenvalues:\")\n",
    "print(eigenvalues)\n",
    "\n",
    "print(\"\\nEigenvectors (columns correspond to eigenvalues):\")\n",
    "print(eigenvectors)\n",
    "\n",
    "# Verify eigenvalue equation H * v = λ * v\n",
    "for i in range(len(eigenvalues)):\n",
    "    print(f\"\\nVerification for eigenvalue {eigenvalues[i]}:\")\n",
    "    print(\"H @ eigenvector:\", np.dot(H, eigenvectors[:, i]))\n",
    "    print(\"λ * eigenvector:\", eigenvalues[i] * eigenvectors[:, i])\n"
   ]
  },
  {
   "cell_type": "code",
   "execution_count": 3,
   "id": "4fd3f303",
   "metadata": {},
   "outputs": [
    {
     "name": "stdout",
     "output_type": "stream",
     "text": [
      "Hadamard Matrix (H):\n",
      "[[ 0.70710678  0.70710678]\n",
      " [ 0.70710678 -0.70710678]]\n",
      "\n",
      "Eigenvalues (fractions):\n",
      "[Fraction(1, 1), Fraction(-1, 1)]\n",
      "\n",
      "Eigenvectors (fractions, columns correspond to eigenvalues):\n",
      "Eigenvector 1: ['886/959', '305/797']\n",
      "Eigenvector 2: ['-305/797', '886/959']\n",
      "\n",
      "Verification:\n",
      "Verification for eigenvalue 1:\n",
      "H @ eigenvector: [Fraction(886, 959), Fraction(305, 797)]\n",
      "λ * eigenvector: [Fraction(886, 959), Fraction(305, 797)]\n",
      "Verification for eigenvalue -1:\n",
      "H @ eigenvector: [Fraction(305, 797), Fraction(-886, 959)]\n",
      "λ * eigenvector: [Fraction(305, 797), Fraction(-886, 959)]\n"
     ]
    }
   ],
   "source": []
  },
  {
   "cell_type": "code",
   "execution_count": null,
   "id": "ac3348d7",
   "metadata": {},
   "outputs": [],
   "source": []
  }
 ],
 "metadata": {
  "kernelspec": {
   "display_name": "Python 3 (ipykernel)",
   "language": "python",
   "name": "python3"
  },
  "language_info": {
   "codemirror_mode": {
    "name": "ipython",
    "version": 3
   },
   "file_extension": ".py",
   "mimetype": "text/x-python",
   "name": "python",
   "nbconvert_exporter": "python",
   "pygments_lexer": "ipython3",
   "version": "3.11.5"
  }
 },
 "nbformat": 4,
 "nbformat_minor": 5
}
