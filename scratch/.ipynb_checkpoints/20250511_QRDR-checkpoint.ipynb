{
 "cells": [
  {
   "cell_type": "code",
   "execution_count": 1,
   "id": "adabd692-7ea6-4506-bc23-6f03e0a28a55",
   "metadata": {},
   "outputs": [
    {
     "name": "stdout",
     "output_type": "stream",
     "text": [
      "Compressed representation: [tensor(-0.61696429, requires_grad=True), tensor(-0.80184297, requires_grad=True)]\n"
     ]
    }
   ],
   "source": [
    "import pennylane as qml\n",
    "from pennylane import numpy as np\n",
    "\n",
    "# Settings\n",
    "n_qubits = 6  # High-dimensional space\n",
    "reduced_qubits = 2  # Target dimensionality\n",
    "dev = qml.device(\"default.qubit\", wires=n_qubits)\n",
    "\n",
    "# Example: random classical data vector (normalized)\n",
    "x = np.random.rand(2**n_qubits)\n",
    "x = x / np.linalg.norm(x)\n",
    "\n",
    "@qml.qnode(dev)\n",
    "def qrdr_circuit(params):\n",
    "    # Step 1: Encode x using MottonenStatePreparation\n",
    "    qml.MottonenStatePreparation(x, wires=range(n_qubits))\n",
    "    \n",
    "    # Step 2: Apply parametrized layers to \"highlight resonances\"\n",
    "    for i in range(n_qubits):\n",
    "        qml.RY(params[i], wires=i)\n",
    "    for i in range(n_qubits - 1):\n",
    "        qml.CZ(wires=[i, i+1])\n",
    "\n",
    "    # Step 3: Measure reduced observable (e.g., project to a 2D subspace)\n",
    "    return [qml.expval(qml.PauliZ(i)) for i in range(reduced_qubits)]\n",
    "\n",
    "# Random initialization\n",
    "params = np.random.uniform(0, 2 * np.pi, n_qubits)\n",
    "\n",
    "# Output: compressed representation\n",
    "compressed = qrdr_circuit(params)\n",
    "print(\"Compressed representation:\", compressed)\n"
   ]
  },
  {
   "cell_type": "code",
   "execution_count": 3,
   "id": "0f5f858b-0561-463c-a012-08c7a136beb5",
   "metadata": {},
   "outputs": [
    {
     "ename": "NameError",
     "evalue": "name 'itertools' is not defined",
     "output_type": "error",
     "traceback": [
      "\u001b[0;31m---------------------------------------------------------------------------\u001b[0m",
      "\u001b[0;31mNameError\u001b[0m                                 Traceback (most recent call last)",
      "Cell \u001b[0;32mIn[3], line 64\u001b[0m\n\u001b[1;32m     62\u001b[0m \u001b[38;5;66;03m# === Run ===\u001b[39;00m\n\u001b[1;32m     63\u001b[0m eigenvals \u001b[38;5;241m=\u001b[39m [\u001b[38;5;241m1.0\u001b[39m, \u001b[38;5;241m0.5\u001b[39m, \u001b[38;5;241m0.0\u001b[39m, \u001b[38;5;241m0.0\u001b[39m]  \u001b[38;5;66;03m# 4-dimensional toy spectrum\u001b[39;00m\n\u001b[0;32m---> 64\u001b[0m probs \u001b[38;5;241m=\u001b[39m \u001b[43mqrdr_full_circuit\u001b[49m\u001b[43m(\u001b[49m\u001b[43meigenvals\u001b[49m\u001b[43m)\u001b[49m\n\u001b[1;32m     65\u001b[0m \u001b[38;5;28mprint\u001b[39m(\u001b[38;5;124mf\u001b[39m\u001b[38;5;124m\"\u001b[39m\u001b[38;5;124mProbability of |1⟩ on probe (success): \u001b[39m\u001b[38;5;132;01m{\u001b[39;00mprobs[\u001b[38;5;241m1\u001b[39m]\u001b[38;5;132;01m:\u001b[39;00m\u001b[38;5;124m.6f\u001b[39m\u001b[38;5;132;01m}\u001b[39;00m\u001b[38;5;124m\"\u001b[39m)\n",
      "File \u001b[0;32m~/.venv/lib/python3.13/site-packages/pennylane/workflow/qnode.py:905\u001b[0m, in \u001b[0;36mQNode.__call__\u001b[0;34m(self, *args, **kwargs)\u001b[0m\n\u001b[1;32m    903\u001b[0m \u001b[38;5;28;01mif\u001b[39;00m qml\u001b[38;5;241m.\u001b[39mcapture\u001b[38;5;241m.\u001b[39menabled():\n\u001b[1;32m    904\u001b[0m     \u001b[38;5;28;01mreturn\u001b[39;00m capture_qnode(\u001b[38;5;28mself\u001b[39m, \u001b[38;5;241m*\u001b[39margs, \u001b[38;5;241m*\u001b[39m\u001b[38;5;241m*\u001b[39mkwargs)\n\u001b[0;32m--> 905\u001b[0m \u001b[38;5;28;01mreturn\u001b[39;00m \u001b[38;5;28;43mself\u001b[39;49m\u001b[38;5;241;43m.\u001b[39;49m\u001b[43m_impl_call\u001b[49m\u001b[43m(\u001b[49m\u001b[38;5;241;43m*\u001b[39;49m\u001b[43margs\u001b[49m\u001b[43m,\u001b[49m\u001b[43m \u001b[49m\u001b[38;5;241;43m*\u001b[39;49m\u001b[38;5;241;43m*\u001b[39;49m\u001b[43mkwargs\u001b[49m\u001b[43m)\u001b[49m\n",
      "File \u001b[0;32m~/.venv/lib/python3.13/site-packages/pennylane/workflow/qnode.py:868\u001b[0m, in \u001b[0;36mQNode._impl_call\u001b[0;34m(self, *args, **kwargs)\u001b[0m\n\u001b[1;32m    865\u001b[0m \u001b[38;5;28;01mdef\u001b[39;00m\u001b[38;5;250m \u001b[39m\u001b[38;5;21m_impl_call\u001b[39m(\u001b[38;5;28mself\u001b[39m, \u001b[38;5;241m*\u001b[39margs, \u001b[38;5;241m*\u001b[39m\u001b[38;5;241m*\u001b[39mkwargs) \u001b[38;5;241m-\u001b[39m\u001b[38;5;241m>\u001b[39m qml\u001b[38;5;241m.\u001b[39mtyping\u001b[38;5;241m.\u001b[39mResult:\n\u001b[1;32m    866\u001b[0m \n\u001b[1;32m    867\u001b[0m     \u001b[38;5;66;03m# construct the tape\u001b[39;00m\n\u001b[0;32m--> 868\u001b[0m     tape \u001b[38;5;241m=\u001b[39m \u001b[38;5;28;43mself\u001b[39;49m\u001b[38;5;241;43m.\u001b[39;49m\u001b[43mconstruct\u001b[49m\u001b[43m(\u001b[49m\u001b[43margs\u001b[49m\u001b[43m,\u001b[49m\u001b[43m \u001b[49m\u001b[43mkwargs\u001b[49m\u001b[43m)\u001b[49m\n\u001b[1;32m    870\u001b[0m     \u001b[38;5;28;01mif\u001b[39;00m \u001b[38;5;28mself\u001b[39m\u001b[38;5;241m.\u001b[39minterface \u001b[38;5;241m==\u001b[39m \u001b[38;5;124m\"\u001b[39m\u001b[38;5;124mauto\u001b[39m\u001b[38;5;124m\"\u001b[39m:\n\u001b[1;32m    871\u001b[0m         interface \u001b[38;5;241m=\u001b[39m qml\u001b[38;5;241m.\u001b[39mmath\u001b[38;5;241m.\u001b[39mget_interface(\u001b[38;5;241m*\u001b[39margs, \u001b[38;5;241m*\u001b[39m\u001b[38;5;28mlist\u001b[39m(kwargs\u001b[38;5;241m.\u001b[39mvalues()))\n",
      "File \u001b[0;32m~/.venv/lib/python3.13/site-packages/pennylane/logging/decorators.py:61\u001b[0m, in \u001b[0;36mlog_string_debug_func.<locals>.wrapper_entry\u001b[0;34m(*args, **kwargs)\u001b[0m\n\u001b[1;32m     54\u001b[0m     s_caller \u001b[38;5;241m=\u001b[39m \u001b[38;5;124m\"\u001b[39m\u001b[38;5;124m::L\u001b[39m\u001b[38;5;124m\"\u001b[39m\u001b[38;5;241m.\u001b[39mjoin(\n\u001b[1;32m     55\u001b[0m         [\u001b[38;5;28mstr\u001b[39m(i) \u001b[38;5;28;01mfor\u001b[39;00m i \u001b[38;5;129;01min\u001b[39;00m inspect\u001b[38;5;241m.\u001b[39mgetouterframes(inspect\u001b[38;5;241m.\u001b[39mcurrentframe(), \u001b[38;5;241m2\u001b[39m)[\u001b[38;5;241m1\u001b[39m][\u001b[38;5;241m1\u001b[39m:\u001b[38;5;241m3\u001b[39m]]\n\u001b[1;32m     56\u001b[0m     )\n\u001b[1;32m     57\u001b[0m     lgr\u001b[38;5;241m.\u001b[39mdebug(\n\u001b[1;32m     58\u001b[0m         \u001b[38;5;124mf\u001b[39m\u001b[38;5;124m\"\u001b[39m\u001b[38;5;124mCalling \u001b[39m\u001b[38;5;132;01m{\u001b[39;00mf_string\u001b[38;5;132;01m}\u001b[39;00m\u001b[38;5;124m from \u001b[39m\u001b[38;5;132;01m{\u001b[39;00ms_caller\u001b[38;5;132;01m}\u001b[39;00m\u001b[38;5;124m\"\u001b[39m,\n\u001b[1;32m     59\u001b[0m         \u001b[38;5;241m*\u001b[39m\u001b[38;5;241m*\u001b[39m_debug_log_kwargs,\n\u001b[1;32m     60\u001b[0m     )\n\u001b[0;32m---> 61\u001b[0m \u001b[38;5;28;01mreturn\u001b[39;00m \u001b[43mfunc\u001b[49m\u001b[43m(\u001b[49m\u001b[38;5;241;43m*\u001b[39;49m\u001b[43margs\u001b[49m\u001b[43m,\u001b[49m\u001b[43m \u001b[49m\u001b[38;5;241;43m*\u001b[39;49m\u001b[38;5;241;43m*\u001b[39;49m\u001b[43mkwargs\u001b[49m\u001b[43m)\u001b[49m\n",
      "File \u001b[0;32m~/.venv/lib/python3.13/site-packages/pennylane/workflow/qnode.py:854\u001b[0m, in \u001b[0;36mQNode.construct\u001b[0;34m(self, args, kwargs)\u001b[0m\n\u001b[1;32m    852\u001b[0m \u001b[38;5;28;01mwith\u001b[39;00m pldb_device_manager(\u001b[38;5;28mself\u001b[39m\u001b[38;5;241m.\u001b[39mdevice):\n\u001b[1;32m    853\u001b[0m     \u001b[38;5;28;01mwith\u001b[39;00m qml\u001b[38;5;241m.\u001b[39mqueuing\u001b[38;5;241m.\u001b[39mAnnotatedQueue() \u001b[38;5;28;01mas\u001b[39;00m q:\n\u001b[0;32m--> 854\u001b[0m         \u001b[38;5;28mself\u001b[39m\u001b[38;5;241m.\u001b[39m_qfunc_output \u001b[38;5;241m=\u001b[39m \u001b[38;5;28;43mself\u001b[39;49m\u001b[38;5;241;43m.\u001b[39;49m\u001b[43mfunc\u001b[49m\u001b[43m(\u001b[49m\u001b[38;5;241;43m*\u001b[39;49m\u001b[43margs\u001b[49m\u001b[43m,\u001b[49m\u001b[43m \u001b[49m\u001b[38;5;241;43m*\u001b[39;49m\u001b[38;5;241;43m*\u001b[39;49m\u001b[43mkwargs\u001b[49m\u001b[43m)\u001b[49m\n\u001b[1;32m    856\u001b[0m tape \u001b[38;5;241m=\u001b[39m QuantumScript\u001b[38;5;241m.\u001b[39mfrom_queue(q, shots)\n\u001b[1;32m    858\u001b[0m params \u001b[38;5;241m=\u001b[39m tape\u001b[38;5;241m.\u001b[39mget_parameters(trainable_only\u001b[38;5;241m=\u001b[39m\u001b[38;5;28;01mFalse\u001b[39;00m)\n",
      "Cell \u001b[0;32mIn[3], line 47\u001b[0m, in \u001b[0;36mqrdr_full_circuit\u001b[0;34m(eigenvals)\u001b[0m\n\u001b[1;32m     43\u001b[0m \u001b[38;5;66;03m# 2. Trotterized evolution (approximate e^{-iHt})\u001b[39;00m\n\u001b[1;32m     44\u001b[0m \u001b[38;5;28;01mfor\u001b[39;00m _ \u001b[38;5;129;01min\u001b[39;00m \u001b[38;5;28mrange\u001b[39m(steps):\n\u001b[1;32m     45\u001b[0m     \u001b[38;5;66;03m# Apply problem Hamiltonian if probe == 1\u001b[39;00m\n\u001b[1;32m     46\u001b[0m     qml\u001b[38;5;241m.\u001b[39mctrl(qml\u001b[38;5;241m.\u001b[39mApproxTimeEvolution, control\u001b[38;5;241m=\u001b[39mprobe)(\n\u001b[0;32m---> 47\u001b[0m         \u001b[43mmake_problem_hamiltonian\u001b[49m\u001b[43m(\u001b[49m\u001b[43meigenvals\u001b[49m\u001b[43m)\u001b[49m\u001b[38;5;241m.\u001b[39mops[\u001b[38;5;241m0\u001b[39m],\n\u001b[1;32m     48\u001b[0m         t,\n\u001b[1;32m     49\u001b[0m         \u001b[38;5;241m1\u001b[39m\n\u001b[1;32m     50\u001b[0m     )(wires\u001b[38;5;241m=\u001b[39mreduced)\n\u001b[1;32m     52\u001b[0m     \u001b[38;5;66;03m# Apply interaction term\u001b[39;00m\n\u001b[1;32m     53\u001b[0m     apply_interaction_layer()\n",
      "Cell \u001b[0;32mIn[3], line 25\u001b[0m, in \u001b[0;36mmake_problem_hamiltonian\u001b[0;34m(eigenvals)\u001b[0m\n\u001b[1;32m     23\u001b[0m \u001b[38;5;28;01mdef\u001b[39;00m\u001b[38;5;250m \u001b[39m\u001b[38;5;21mmake_problem_hamiltonian\u001b[39m(eigenvals):\n\u001b[1;32m     24\u001b[0m     \u001b[38;5;66;03m# Generate binary basis states for r qubits\u001b[39;00m\n\u001b[0;32m---> 25\u001b[0m     projector_states \u001b[38;5;241m=\u001b[39m \u001b[38;5;28mlist\u001b[39m(\u001b[43mitertools\u001b[49m\u001b[38;5;241m.\u001b[39mproduct([\u001b[38;5;241m0\u001b[39m, \u001b[38;5;241m1\u001b[39m], repeat\u001b[38;5;241m=\u001b[39mr))[:\u001b[38;5;28mlen\u001b[39m(eigenvals)]\n\u001b[1;32m     26\u001b[0m     \u001b[38;5;28;01mreturn\u001b[39;00m qml\u001b[38;5;241m.\u001b[39mHamiltonian(\n\u001b[1;32m     27\u001b[0m         coeffs\u001b[38;5;241m=\u001b[39m[\u001b[38;5;241m-\u001b[39meig \u001b[38;5;28;01mfor\u001b[39;00m eig \u001b[38;5;129;01min\u001b[39;00m eigenvals],\n\u001b[1;32m     28\u001b[0m         observables\u001b[38;5;241m=\u001b[39m[qml\u001b[38;5;241m.\u001b[39mProjector(state, wires\u001b[38;5;241m=\u001b[39mreduced) \u001b[38;5;28;01mfor\u001b[39;00m state \u001b[38;5;129;01min\u001b[39;00m projector_states]\n\u001b[1;32m     29\u001b[0m     )\n",
      "\u001b[0;31mNameError\u001b[0m: name 'itertools' is not defined"
     ]
    }
   ],
   "source": [
    "import pennylane as qml\n",
    "from pennylane import numpy as np\n",
    "\n",
    "import itertools\n",
    "\n",
    "# === Setup ===\n",
    "x = np.array([0.5, 0.5, 0.5, 0.5])  # normalized input vector\n",
    "n = int(np.log2(len(x)))            # input qubit count\n",
    "r = 2                               # target reduced dimensions (log2(R))\n",
    "total_wires = 1 + r + n             # probe + reduced + input\n",
    "\n",
    "dev = qml.device(\"default.qubit\", wires=total_wires)\n",
    "\n",
    "# Wire assignment\n",
    "probe = 0\n",
    "reduced = list(range(1, 1 + r))\n",
    "input_data = list(range(1 + r, total_wires))\n",
    "\n",
    "# Parameters\n",
    "c = 0.01\n",
    "t = 1.0 / c\n",
    "steps = 1  # Trotter steps\n",
    "\n",
    "# === Helper: problem Hamiltonian (diagonal) ===\n",
    "def make_problem_hamiltonian(eigenvals):\n",
    "    # Generate binary basis states for r qubits\n",
    "    projector_states = list(itertools.product([0, 1], repeat=r))[:len(eigenvals)]\n",
    "    return qml.Hamiltonian(\n",
    "        coeffs=[-eig for eig in eigenvals],\n",
    "        observables=[qml.Projector(state, wires=reduced) for state in projector_states]\n",
    "    )\n",
    "\n",
    "# === Helper: interaction term ===\n",
    "def apply_interaction_layer():\n",
    "    qml.RY(np.pi / 2, wires=probe)  # σ_y = H · Z · H → rotate to Y basis\n",
    "    for w in reduced:\n",
    "        qml.Hadamard(wires=w)\n",
    "\n",
    "# === Main circuit ===\n",
    "@qml.qnode(dev)\n",
    "def qrdr_full_circuit(eigenvals):\n",
    "    # 1. Prepare |0⟩|0⟩⊗r |x⟩\n",
    "    qml.MottonenStatePreparation(x, wires=input_data)\n",
    "\n",
    "    # 2. Trotterized evolution (approximate e^{-iHt})\n",
    "    for _ in range(steps):\n",
    "        # Apply problem Hamiltonian if probe == 1\n",
    "        qml.ctrl(qml.ApproxTimeEvolution, control=probe)(\n",
    "            make_problem_hamiltonian(eigenvals).ops[0],\n",
    "            t,\n",
    "            1\n",
    "        )(wires=reduced)\n",
    "\n",
    "        # Apply interaction term\n",
    "        apply_interaction_layer()\n",
    "        qml.RY(c * np.pi * t, wires=probe)  # probe evolves under Y interaction\n",
    "        for w in reduced:\n",
    "            qml.Hadamard(wires=w)  # undo Hadamard\n",
    "        qml.RY(-np.pi / 2, wires=probe)     # rotate back\n",
    "\n",
    "    # 3. Post-select on probe = 1\n",
    "    return qml.probs(wires=probe)\n",
    "\n",
    "# === Run ===\n",
    "eigenvals = [1.0, 0.5, 0.0, 0.0]  # 4-dimensional toy spectrum\n",
    "probs = qrdr_full_circuit(eigenvals)\n",
    "print(f\"Probability of |1⟩ on probe (success): {probs[1]:.6f}\")\n"
   ]
  },
  {
   "cell_type": "code",
   "execution_count": null,
   "id": "c049e480-9654-4fc0-a3e7-69d3973ca111",
   "metadata": {},
   "outputs": [],
   "source": []
  }
 ],
 "metadata": {
  "kernelspec": {
   "display_name": "Python (venv)",
   "language": "python",
   "name": "venv"
  },
  "language_info": {
   "codemirror_mode": {
    "name": "ipython",
    "version": 3
   },
   "file_extension": ".py",
   "mimetype": "text/x-python",
   "name": "python",
   "nbconvert_exporter": "python",
   "pygments_lexer": "ipython3",
   "version": "3.13.1"
  }
 },
 "nbformat": 4,
 "nbformat_minor": 5
}
