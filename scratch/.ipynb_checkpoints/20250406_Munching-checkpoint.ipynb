{
 "cells": [
  {
   "cell_type": "code",
   "execution_count": 47,
   "id": "eb16b0bd-a996-4bb9-8c7c-f796e15046f0",
   "metadata": {},
   "outputs": [],
   "source": [
    "import json\n",
    "import numpy as np\n",
    "import os\n",
    "from scipy.linalg import expm, logm\n",
    "import sys\n",
    "\n",
    "from qiskit import QuantumCircuit, transpile\n",
    "from qiskit_aer import AerSimulator\n",
    "from qiskit.quantum_info import Statevector, Operator, SparsePauliOp"
   ]
  },
  {
   "cell_type": "code",
   "execution_count": 48,
   "id": "51185f65-29fd-4823-918e-3a8be47763cf",
   "metadata": {},
   "outputs": [
    {
     "data": {
      "text/plain": [
       "<qiskit.circuit.instructionset.InstructionSet at 0x11ade2a70>"
      ]
     },
     "execution_count": 48,
     "metadata": {},
     "output_type": "execute_result"
    }
   ],
   "source": [
    "qc_0 = QuantumCircuit(2)\n",
    "qc_0.h(0)\n",
    "qc_0.cx(0, 1)"
   ]
  },
  {
   "cell_type": "code",
   "execution_count": 52,
   "id": "4d582a06-2cf4-4bea-9fa7-86847b2576c9",
   "metadata": {},
   "outputs": [
    {
     "name": "stdout",
     "output_type": "stream",
     "text": [
      "['II', 'IX', 'IY', 'IZ', 'XI', 'XX', 'XY', 'XZ']\n",
      "[ 0.35355339+0.j          0.35355339+0.j          0.        +0.35355339j\n",
      "  0.35355339+0.j         -0.35355339+0.j          0.35355339+0.j\n",
      " -0.        -0.35355339j  0.35355339+0.j        ]\n"
     ]
    }
   ],
   "source": [
    "U_0 = Operator(qc_0)\n",
    "pauli_op = SparsePauliOp.from_operator(U)\n",
    "pauli_strings = pauli_op.paulis\n",
    "pauli_labels = [p.to_label() for p in pauli_strings]\n",
    "print(pauli_labels)\n",
    "pauli_coeffs = pauli_op.coeffs\n",
    "print(pauli_coeffs)\n",
    "U_1 = pauli_op.to_matrix()"
   ]
  },
  {
   "cell_type": "code",
   "execution_count": 53,
   "id": "4b6bc223-7c6c-4167-b627-f9ee54c8049b",
   "metadata": {},
   "outputs": [
    {
     "data": {
      "text/plain": [
       "True"
      ]
     },
     "execution_count": 53,
     "metadata": {},
     "output_type": "execute_result"
    }
   ],
   "source": [
    "np.allclose(U_0.data, U_1)"
   ]
  },
  {
   "cell_type": "code",
   "execution_count": null,
   "id": "0d327ae7-0e76-4438-8fff-908d75db1bce",
   "metadata": {},
   "outputs": [],
   "source": [
    "def maximal_munch(pauli_str):\n",
    "    chunks = []\n",
    "    start = None\n",
    "\n",
    "    for i, c in enumerate(pauli_str):\n",
    "        if c in {'X', 'Y', 'Z'}:\n",
    "            if start is None:\n",
    "                start = i\n",
    "        else:\n",
    "            if start is not None:\n",
    "                chunks.append((start, pauli_str[start:i]))\n",
    "                start = None\n",
    "\n",
    "    if start is not None:\n",
    "        chunks.append((start, pauli_str[start:]))\n",
    "\n",
    "    return chunks"
   ]
  },
  {
   "cell_type": "code",
   "execution_count": 51,
   "id": "fc28f27a-a456-4bb7-8cfb-131c94c15a6a",
   "metadata": {},
   "outputs": [
    {
     "name": "stdout",
     "output_type": "stream",
     "text": [
      "States equal: True\n"
     ]
    }
   ],
   "source": [
    "def apply_pauli_string(pauli_str, state):\n",
    "    \"\"\"Applies a Pauli string like 'XIZ' to a statevector.\"\"\"\n",
    "    n = len(pauli_str)\n",
    "    qc = QuantumCircuit(n)\n",
    "    for i, p in enumerate(reversed(pauli_str)):  # Qiskit is little-endian\n",
    "        if p == 'X':\n",
    "            qc.x(i)\n",
    "        elif p == 'Y':\n",
    "            qc.y(i)\n",
    "        elif p == 'Z':\n",
    "            qc.z(i)\n",
    "    return state.evolve(Operator(qc))\n",
    "\n",
    "def states_equal_up_to_global_phase(state1, state2, tol=1e-10):\n",
    "    \"\"\"Returns True if state1 == e^{iφ} * state2\"\"\"\n",
    "    inner_product = np.vdot(state1.data, state2.data)\n",
    "    return np.abs(np.abs(inner_product) - 1) < tol\n",
    "\n",
    "original_ops = pauli_labels\n",
    "\n",
    "\n",
    "init = Statevector.from_label('000')\n",
    "\n",
    "state_U = init\n",
    "for op in original_ops:\n",
    "    state_U = apply_pauli_string(op, state_U)\n",
    "\n",
    "state_V = apply_pauli_string(munched_op, init)\n",
    "\n",
    "print(\"States equal:\", states_equal_up_to_global_phase(state_U, state_V))\n"
   ]
  },
  {
   "cell_type": "code",
   "execution_count": null,
   "id": "f340db7a-20e9-40a8-af23-768e98ae0842",
   "metadata": {},
   "outputs": [],
   "source": []
  }
 ],
 "metadata": {
  "kernelspec": {
   "display_name": "Python (venv)",
   "language": "python",
   "name": "venv"
  },
  "language_info": {
   "codemirror_mode": {
    "name": "ipython",
    "version": 3
   },
   "file_extension": ".py",
   "mimetype": "text/x-python",
   "name": "python",
   "nbconvert_exporter": "python",
   "pygments_lexer": "ipython3",
   "version": "3.13.1"
  }
 },
 "nbformat": 4,
 "nbformat_minor": 5
}
