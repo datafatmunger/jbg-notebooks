{
 "cells": [
  {
   "cell_type": "code",
   "execution_count": 2,
   "id": "089e5171",
   "metadata": {},
   "outputs": [
    {
     "name": "stdout",
     "output_type": "stream",
     "text": [
      "Final tape configuration: ▷10100bbbbbbb\n"
     ]
    }
   ],
   "source": [
    "# Define the Turing machine program\n",
    "class TuringMachine:\n",
    "    def __init__(self, tape, initial_state='qs', head_position=0):\n",
    "        self.tape = list(tape)\n",
    "        self.head_position = head_position\n",
    "        self.current_state = initial_state\n",
    "        self.blank_symbol = 'b'\n",
    "\n",
    "    def step(self):\n",
    "        # Read the symbol under the head\n",
    "        symbol = self.tape[self.head_position]\n",
    "        \n",
    "        # Define the Turing machine program as a series of conditionals\n",
    "        if self.current_state == 'qs':\n",
    "            if symbol == '▷':\n",
    "                self.tape[self.head_position] = '▷'\n",
    "                self.head_position += 1  # Move right\n",
    "            elif symbol == '0':\n",
    "                self.tape[self.head_position] = '0'\n",
    "                self.head_position += 1  # Move right\n",
    "            elif symbol == '1':\n",
    "                self.tape[self.head_position] = '1'\n",
    "                self.head_position += 1  # Move right\n",
    "            elif symbol == 'b':\n",
    "                self.tape[self.head_position] = 'b'\n",
    "                self.current_state = 'q1'\n",
    "                self.head_position -= 1  # Move left\n",
    "\n",
    "        elif self.current_state == 'q1':\n",
    "            if symbol == '▷':\n",
    "                self.tape[self.head_position] = '▷'\n",
    "                self.head_position += 1  # Move right\n",
    "            elif symbol == '0':\n",
    "                self.tape[self.head_position] = '1'\n",
    "                self.current_state = 'qh'  # Halt\n",
    "                self.head_position += 1  # Move right\n",
    "            elif symbol == '1':\n",
    "                self.tape[self.head_position] = '0'\n",
    "                self.head_position -= 1  # Move left\n",
    "            elif symbol == 'b':\n",
    "                self.current_state = 'qh'  # Halt\n",
    "                self.head_position -= 1  # Move left\n",
    "\n",
    "    def run(self):\n",
    "        # Run the Turing machine until it halts (qh state)\n",
    "        while self.current_state != 'qh':\n",
    "            self.step()\n",
    "\n",
    "        # Return the final tape configuration\n",
    "        return ''.join(self.tape)\n",
    "\n",
    "\n",
    "# Input tape: '▷100bbbb...'\n",
    "input_tape = '▷10011bbbbbbb'\n",
    "\n",
    "# Create a Turing machine with the given input tape\n",
    "tm = TuringMachine(tape=input_tape)\n",
    "\n",
    "# Run the Turing machine\n",
    "final_tape = tm.run()\n",
    "\n",
    "# Output the final tape configuration\n",
    "print(\"Final tape configuration:\", final_tape)\n"
   ]
  },
  {
   "cell_type": "code",
   "execution_count": null,
   "id": "103fea79",
   "metadata": {},
   "outputs": [],
   "source": []
  }
 ],
 "metadata": {
  "kernelspec": {
   "display_name": "Python 3 (ipykernel)",
   "language": "python",
   "name": "python3"
  },
  "language_info": {
   "codemirror_mode": {
    "name": "ipython",
    "version": 3
   },
   "file_extension": ".py",
   "mimetype": "text/x-python",
   "name": "python",
   "nbconvert_exporter": "python",
   "pygments_lexer": "ipython3",
   "version": "3.11.5"
  }
 },
 "nbformat": 4,
 "nbformat_minor": 5
}
