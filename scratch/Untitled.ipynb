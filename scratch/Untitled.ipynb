{
 "cells": [
  {
   "cell_type": "code",
   "execution_count": 2,
   "id": "380273a1",
   "metadata": {},
   "outputs": [
    {
     "name": "stdout",
     "output_type": "stream",
     "text": [
      "Tensor product of matrix1 and matrix2:\n",
      "[[ 1.  0.  0.  0.]\n",
      " [ 0. -1.  0. -0.]\n",
      " [ 0.  0. -1. -0.]\n",
      " [ 0. -0. -0.  1.]]\n"
     ]
    }
   ],
   "source": [
    "import numpy as np\n",
    "\n",
    "# Define the matrices\n",
    "# matrix1 = np.array([[1.0, 0.0], [0.0, -1.0]])\n",
    "# matrix2 = np.array([[0.0, 1.0], [1.0, 0.0]])\n",
    "matrix1 = np.array([[1.0, 0.0], [0.0, -1.0]])\n",
    "matrix2 = np.array([[0.0, 1.0], [1.0, 0.0]])\n",
    "\n",
    "# Compute the tensor product\n",
    "tensor_product = np.kron(matrix1, matrix1)\n",
    "\n",
    "# Display the result\n",
    "print(\"Tensor product of matrix1 and matrix2:\")\n",
    "print(tensor_product)"
   ]
  },
  {
   "cell_type": "code",
   "execution_count": 3,
   "id": "67cd80f3",
   "metadata": {},
   "outputs": [
    {
     "data": {
      "text/plain": [
       "array([[3., 2.],\n",
       "       [2., 1.]])"
      ]
     },
     "execution_count": 3,
     "metadata": {},
     "output_type": "execute_result"
    }
   ],
   "source": [
    "2 + matrix1"
   ]
  },
  {
   "cell_type": "code",
   "execution_count": 5,
   "id": "b66928fc",
   "metadata": {},
   "outputs": [
    {
     "data": {
      "text/plain": [
       "array([[-1., -2.],\n",
       "       [-2., -3.]])"
      ]
     },
     "execution_count": 5,
     "metadata": {},
     "output_type": "execute_result"
    }
   ],
   "source": [
    "matrix1 - 2"
   ]
  },
  {
   "cell_type": "code",
   "execution_count": null,
   "id": "892a9efe",
   "metadata": {},
   "outputs": [],
   "source": []
  }
 ],
 "metadata": {
  "kernelspec": {
   "display_name": "Python 3 (ipykernel)",
   "language": "python",
   "name": "python3"
  },
  "language_info": {
   "codemirror_mode": {
    "name": "ipython",
    "version": 3
   },
   "file_extension": ".py",
   "mimetype": "text/x-python",
   "name": "python",
   "nbconvert_exporter": "python",
   "pygments_lexer": "ipython3",
   "version": "3.11.5"
  }
 },
 "nbformat": 4,
 "nbformat_minor": 5
}
