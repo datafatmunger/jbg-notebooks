{
 "cells": [
  {
   "cell_type": "code",
   "execution_count": 4,
   "id": "eb16b0bd-a996-4bb9-8c7c-f796e15046f0",
   "metadata": {},
   "outputs": [],
   "source": [
    "import json\n",
    "import numpy as np\n",
    "import os\n",
    "from scipy.linalg import expm, logm\n",
    "import sys\n",
    "\n",
    "from qiskit import QuantumCircuit, transpile\n",
    "from qiskit_aer import AerSimulator\n",
    "from qiskit.quantum_info import Statevector, Operator, SparsePauliOp"
   ]
  },
  {
   "cell_type": "code",
   "execution_count": 5,
   "id": "51185f65-29fd-4823-918e-3a8be47763cf",
   "metadata": {},
   "outputs": [
    {
     "data": {
      "text/plain": [
       "<qiskit.circuit.instructionset.InstructionSet at 0x10539b0d0>"
      ]
     },
     "execution_count": 5,
     "metadata": {},
     "output_type": "execute_result"
    }
   ],
   "source": [
    "qc_0 = QuantumCircuit(2)\n",
    "qc_0.h(0)\n",
    "qc_0.cx(0, 1)"
   ]
  },
  {
   "cell_type": "code",
   "execution_count": 6,
   "id": "4d582a06-2cf4-4bea-9fa7-86847b2576c9",
   "metadata": {},
   "outputs": [
    {
     "name": "stdout",
     "output_type": "stream",
     "text": [
      "['II', 'IX', 'IY', 'IZ', 'XI', 'XX', 'XY', 'XZ']\n",
      "[ 0.35355339+0.j          0.35355339+0.j          0.        +0.35355339j\n",
      "  0.35355339+0.j         -0.35355339+0.j          0.35355339+0.j\n",
      " -0.        -0.35355339j  0.35355339+0.j        ]\n"
     ]
    }
   ],
   "source": [
    "U_0 = Operator(qc_0)\n",
    "pauli_op = SparsePauliOp.from_operator(U_0)\n",
    "pauli_strings = pauli_op.paulis\n",
    "pauli_labels = [p.to_label() for p in pauli_strings]\n",
    "print(pauli_labels)\n",
    "pauli_coeffs = pauli_op.coeffs\n",
    "print(pauli_coeffs)\n",
    "U_1 = pauli_op.to_matrix()"
   ]
  },
  {
   "cell_type": "code",
   "execution_count": 7,
   "id": "4b6bc223-7c6c-4167-b627-f9ee54c8049b",
   "metadata": {},
   "outputs": [
    {
     "data": {
      "text/plain": [
       "True"
      ]
     },
     "execution_count": 7,
     "metadata": {},
     "output_type": "execute_result"
    }
   ],
   "source": [
    "np.allclose(U_0.data, U_1)"
   ]
  },
  {
   "cell_type": "code",
   "execution_count": 8,
   "id": "0d327ae7-0e76-4438-8fff-908d75db1bce",
   "metadata": {},
   "outputs": [],
   "source": [
    "def maximal_munch(pauli_str):\n",
    "    chunks = []\n",
    "    start = None\n",
    "\n",
    "    for i, c in enumerate(pauli_str):\n",
    "        if c in {'X', 'Y', 'Z'}:\n",
    "            if start is None:\n",
    "                start = i\n",
    "        else:\n",
    "            if start is not None:\n",
    "                chunks.append((start, pauli_str[start:i]))\n",
    "                start = None\n",
    "\n",
    "    if start is not None:\n",
    "        chunks.append((start, pauli_str[start:]))\n",
    "\n",
    "    return chunks"
   ]
  },
  {
   "cell_type": "code",
   "execution_count": 9,
   "id": "f340db7a-20e9-40a8-af23-768e98ae0842",
   "metadata": {},
   "outputs": [
    {
     "name": "stdout",
     "output_type": "stream",
     "text": [
      "⚠️ Complex coeff 0.35355339059327373j for IY — using only real part.\n",
      "⚠️ Complex coeff (-0-0.35355339059327373j) for XY — using only real part.\n",
      "Unitary match: False\n"
     ]
    }
   ],
   "source": [
    "# --- Basis rotation helpers ---\n",
    "def apply_basis_change(qc, pauli_str, inverse=False):\n",
    "    for i, p in enumerate(pauli_str):\n",
    "        if p == 'I':\n",
    "            continue\n",
    "        if inverse:\n",
    "            if p == 'X':\n",
    "                qc.h(i)\n",
    "            elif p == 'Y':\n",
    "                qc.s(i)\n",
    "                qc.h(i)\n",
    "        else:\n",
    "            if p == 'X':\n",
    "                qc.h(i)\n",
    "            elif p == 'Y':\n",
    "                qc.h(i)\n",
    "                qc.sdg(i)\n",
    "\n",
    "# --- Exponential of Pauli string ---\n",
    "def apply_pauli_exp(qc, pauli_str, theta):\n",
    "    if abs(theta) < 1e-10:\n",
    "        return\n",
    "    qubits = [i for i, p in enumerate(pauli_str) if p != 'I']\n",
    "    if not qubits:\n",
    "        return\n",
    "    apply_basis_change(qc, pauli_str)\n",
    "    for i in range(len(qubits) - 1):\n",
    "        qc.cx(qubits[i], qubits[i + 1])\n",
    "    qc.rz(2 * theta, qubits[-1])\n",
    "    for i in reversed(range(len(qubits) - 1)):\n",
    "        qc.cx(qubits[i], qubits[i + 1])\n",
    "    apply_basis_change(qc, pauli_str, inverse=True)\n",
    "\n",
    "# --- Build full circuit from PauliOp decomposition ---\n",
    "def build_pauli_evolution_circuit(pauli_labels, pauli_coeffs, num_qubits):\n",
    "    qc = QuantumCircuit(num_qubits)\n",
    "    for label, coeff in zip(pauli_labels, pauli_coeffs):\n",
    "        if abs(coeff) < 1e-10:\n",
    "            continue\n",
    "        if abs(coeff.imag) > 1e-10:\n",
    "            print(f\"⚠️ Complex coeff {coeff} for {label} — using only real part.\")\n",
    "        apply_pauli_exp(qc, label, coeff.real)\n",
    "    return qc\n",
    "\n",
    "# --- Reconstruct the circuit ---\n",
    "qc_exp = build_pauli_evolution_circuit(pauli_labels, pauli_coeffs, 2)\n",
    "U_exp = Operator(qc_exp)\n",
    "\n",
    "# --- Compare to original unitary ---\n",
    "print(\"Unitary match:\", np.allclose(U_0.data, U_exp.data))\n"
   ]
  },
  {
   "cell_type": "code",
   "execution_count": 10,
   "id": "4ee66341-45c6-4881-ac56-988d4031e720",
   "metadata": {},
   "outputs": [
    {
     "name": "stdout",
     "output_type": "stream",
     "text": [
      "ψ_0: overlap = 0.739866\n",
      "ψ_1: overlap = 0.336186\n",
      "ψ_2: overlap = 0.514800\n",
      "ψ_3: overlap = 0.628811\n",
      "ψ_4: overlap = 0.663371\n"
     ]
    }
   ],
   "source": [
    "# Create input states\n",
    "test_states = [\n",
    "    Statevector.from_label('00'),\n",
    "    Statevector.from_label('01'),\n",
    "    Statevector.from_label('10'),\n",
    "    Statevector.from_label('11'),\n",
    "    Statevector.from_instruction(qc_0),  # Bell state itself\n",
    "]\n",
    "\n",
    "# Compare evolutions under U_0 vs U_exp\n",
    "results = []\n",
    "for i, sv in enumerate(test_states):\n",
    "    evolved_true = sv.evolve(U_0)\n",
    "    evolved_exp = sv.evolve(U_exp)\n",
    "    fidelity = abs(evolved_true.inner(evolved_exp))  # Magnitude of inner product\n",
    "    results.append((f'ψ_{i}', fidelity))\n",
    "\n",
    "for label, overlap in results:\n",
    "    print(f\"{label}: overlap = {overlap:.6f}\")\n"
   ]
  },
  {
   "cell_type": "code",
   "execution_count": null,
   "id": "81c80b26-21da-4005-8e1a-3e482094afa5",
   "metadata": {},
   "outputs": [],
   "source": []
  }
 ],
 "metadata": {
  "kernelspec": {
   "display_name": "Python (venv)",
   "language": "python",
   "name": "venv"
  },
  "language_info": {
   "codemirror_mode": {
    "name": "ipython",
    "version": 3
   },
   "file_extension": ".py",
   "mimetype": "text/x-python",
   "name": "python",
   "nbconvert_exporter": "python",
   "pygments_lexer": "ipython3",
   "version": "3.13.1"
  }
 },
 "nbformat": 4,
 "nbformat_minor": 5
}
