{
 "cells": [
  {
   "cell_type": "code",
   "execution_count": 2,
   "id": "0a28b5c0",
   "metadata": {},
   "outputs": [
    {
     "data": {
      "text/plain": [
       "(sqrt(2 - sqrt(2))/2, sqrt(sqrt(2) + 2)/2)"
      ]
     },
     "execution_count": 2,
     "metadata": {},
     "output_type": "execute_result"
    }
   ],
   "source": [
    "from sympy import pi, sin, cos, simplify\n",
    "import numpy as np\n",
    "\n",
    "# Calculate sin and cos(theta/2) where theta = pi/4 in symbolic form\n",
    "theta_sym = pi / 4\n",
    "sin_value = simplify(sin(theta_sym / 2))\n",
    "cos_value = simplify(cos(theta_sym / 2))\n",
    "\n",
    "sin_value, cos_value\n"
   ]
  },
  {
   "cell_type": "code",
   "execution_count": 3,
   "id": "29e6507c",
   "metadata": {},
   "outputs": [
    {
     "name": "stdout",
     "output_type": "stream",
     "text": [
      "[[sqrt(2)/2 -sqrt(2 - sqrt(2))*sqrt(sqrt(2) + 2)/2]\n",
      " [sqrt(2 - sqrt(2))*sqrt(sqrt(2) + 2)/2 sqrt(2)/2]]\n"
     ]
    }
   ],
   "source": [
    "Ry = np.array([[cos_value, -sin_value],\n",
    "               [sin_value, cos_value]])\n",
    "\n",
    "# Perform matrix multiplication\n",
    "C = np.dot(Ry, Ry)  # or equivalently, C = A @ B\n",
    "\n",
    "# Print the result\n",
    "print(C)\n"
   ]
  },
  {
   "cell_type": "code",
   "execution_count": null,
   "id": "86501640",
   "metadata": {},
   "outputs": [],
   "source": []
  }
 ],
 "metadata": {
  "kernelspec": {
   "display_name": "Python 3 (ipykernel)",
   "language": "python",
   "name": "python3"
  },
  "language_info": {
   "codemirror_mode": {
    "name": "ipython",
    "version": 3
   },
   "file_extension": ".py",
   "mimetype": "text/x-python",
   "name": "python",
   "nbconvert_exporter": "python",
   "pygments_lexer": "ipython3",
   "version": "3.11.5"
  }
 },
 "nbformat": 4,
 "nbformat_minor": 5
}
