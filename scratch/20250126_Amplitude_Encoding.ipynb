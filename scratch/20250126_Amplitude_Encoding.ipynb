{
 "cells": [
  {
   "cell_type": "code",
   "execution_count": 1,
   "id": "19c85a71",
   "metadata": {},
   "outputs": [
    {
     "name": "stdout",
     "output_type": "stream",
     "text": [
      "Quantum State (Amplitude Encoded):\n",
      "|0>: 0.4082\n",
      "|1>: 0.8165\n",
      "|2>: 0.4082\n",
      "|3>: 0.0000\n",
      "\n",
      "State Norm: 1.0000 (should be 1.0)\n"
     ]
    }
   ],
   "source": [
    "import numpy as np\n",
    "\n",
    "# Classical data points\n",
    "classical_data = np.array([0.5, 1.0, 0.5, 0.0])\n",
    "\n",
    "# Normalize the data to ensure it represents valid quantum state amplitudes\n",
    "norm = np.linalg.norm(classical_data)\n",
    "quantum_state = classical_data / norm\n",
    "\n",
    "# Display the normalized quantum state\n",
    "print(\"Quantum State (Amplitude Encoded):\")\n",
    "for i, amplitude in enumerate(quantum_state):\n",
    "    print(f\"|{i}>: {amplitude:.4f}\")\n",
    "\n",
    "# Validate that the state is normalized\n",
    "state_norm = np.sum(np.abs(quantum_state)**2)\n",
    "print(f\"\\nState Norm: {state_norm:.4f} (should be 1.0)\")\n"
   ]
  },
  {
   "cell_type": "code",
   "execution_count": 2,
   "id": "b4270e73",
   "metadata": {},
   "outputs": [
    {
     "name": "stdout",
     "output_type": "stream",
     "text": [
      "Generated Quantum State:\n",
      "|0>: 0.4082\n",
      "|1>: 0.8165\n",
      "|2>: 0.4082\n",
      "|3>: 0.0000\n",
      "\n",
      "State Norm: 1.0000 (should be 1.0)\n"
     ]
    }
   ],
   "source": [
    "import numpy as np\n",
    "\n",
    "# Classical data points\n",
    "classical_data = np.array([0.5, 1.0, 0.5, 0.0])\n",
    "\n",
    "# Normalize to create a valid quantum state\n",
    "norm = np.linalg.norm(classical_data)\n",
    "target_state = classical_data / norm\n",
    "\n",
    "# Define the initial state |0> (assuming a 4-dimensional Hilbert space)\n",
    "initial_state = np.array([1, 0, 0, 0])\n",
    "\n",
    "# Compute the Householder vector to reflect |0> onto target_state\n",
    "v = target_state - initial_state\n",
    "v /= np.linalg.norm(v)\n",
    "\n",
    "# Construct the Householder reflection matrix H = I - 2vv^T\n",
    "H = np.eye(4) - 2 * np.outer(v, v)\n",
    "\n",
    "# Apply the operator to |0>\n",
    "generated_state = H @ initial_state\n",
    "\n",
    "# Display the results\n",
    "print(\"Generated Quantum State:\")\n",
    "for i, amplitude in enumerate(generated_state):\n",
    "    print(f\"|{i}>: {amplitude:.4f}\")\n",
    "\n",
    "# Validate normalization\n",
    "state_norm = np.sum(np.abs(generated_state)**2)\n",
    "print(f\"\\nState Norm: {state_norm:.4f} (should be 1.0)\")\n"
   ]
  },
  {
   "cell_type": "code",
   "execution_count": 3,
   "id": "bc144a40",
   "metadata": {},
   "outputs": [
    {
     "name": "stdout",
     "output_type": "stream",
     "text": [
      "Householder Reflection Matrix:\n",
      " [[ 0.66666667 -0.66666667 -0.33333333  0.        ]\n",
      " [-0.66666667 -0.33333333 -0.66666667  0.        ]\n",
      " [-0.33333333 -0.66666667  0.66666667  0.        ]\n",
      " [ 0.          0.          0.          1.        ]]\n",
      "\n",
      "Time Evolution Operator U(pi):\n",
      " [[-1.00000000e+00+5.65724423e-16j  1.98023979e-31+4.33599994e-16j\n",
      "   0.00000000e+00+1.34972442e-16j  0.00000000e+00+0.00000000e+00j]\n",
      " [ 0.00000000e+00+5.75147090e-16j -1.00000000e+00+1.28699252e-15j\n",
      "   8.12780516e-32+4.11302870e-16j  0.00000000e+00+0.00000000e+00j]\n",
      " [ 1.57854970e-32+2.27763000e-16j  2.57414087e-31+4.55336890e-16j\n",
      "  -1.00000000e+00+7.07831747e-16j  0.00000000e+00+0.00000000e+00j]\n",
      " [ 0.00000000e+00+0.00000000e+00j  0.00000000e+00+0.00000000e+00j\n",
      "   0.00000000e+00+0.00000000e+00j -1.00000000e+00+1.52695104e-16j]]\n",
      "\n",
      "Difference (should be close to zero):\n",
      " [[ 1.66666667-5.65724423e-16j -0.66666667-4.33599994e-16j\n",
      "  -0.33333333-1.34972442e-16j  0.        +0.00000000e+00j]\n",
      " [-0.66666667-5.75147090e-16j  0.66666667-1.28699252e-15j\n",
      "  -0.66666667-4.11302870e-16j  0.        +0.00000000e+00j]\n",
      " [-0.33333333-2.27763000e-16j -0.66666667-4.55336890e-16j\n",
      "   1.66666667-7.07831747e-16j  0.        +0.00000000e+00j]\n",
      " [ 0.        +0.00000000e+00j  0.        +0.00000000e+00j\n",
      "   0.        +0.00000000e+00j  2.        -1.52695104e-16j]]\n"
     ]
    }
   ],
   "source": [
    "import numpy as np\n",
    "from scipy.linalg import expm\n",
    "\n",
    "# Classical data points\n",
    "classical_data = np.array([0.5, 1.0, 0.5, 0.0])\n",
    "\n",
    "# Normalize to create a valid quantum state\n",
    "norm = np.linalg.norm(classical_data)\n",
    "target_state = classical_data / norm\n",
    "\n",
    "# Define the Householder reflection vector v\n",
    "v = target_state.reshape(-1, 1)  # Column vector\n",
    "H_reflection = np.eye(len(classical_data)) - 2 * (v @ v.T)\n",
    "\n",
    "# Define the Hamiltonian H = 2vv^T - I\n",
    "H_hamiltonian = 2 * (v @ v.T) - np.eye(len(classical_data))\n",
    "\n",
    "# Compute time evolution operator U = exp(-i * H * pi)\n",
    "U = expm(-1j * np.pi * H_hamiltonian)\n",
    "\n",
    "# Verify that U matches the Householder transformation\n",
    "print(\"Householder Reflection Matrix:\\n\", H_reflection)\n",
    "print(\"\\nTime Evolution Operator U(pi):\\n\", U)\n",
    "print(\"\\nDifference (should be close to zero):\\n\", H_reflection - U)\n"
   ]
  },
  {
   "cell_type": "code",
   "execution_count": null,
   "id": "960c40dc",
   "metadata": {},
   "outputs": [],
   "source": []
  }
 ],
 "metadata": {
  "kernelspec": {
   "display_name": "Python 3 (ipykernel)",
   "language": "python",
   "name": "python3"
  },
  "language_info": {
   "codemirror_mode": {
    "name": "ipython",
    "version": 3
   },
   "file_extension": ".py",
   "mimetype": "text/x-python",
   "name": "python",
   "nbconvert_exporter": "python",
   "pygments_lexer": "ipython3",
   "version": "3.11.5"
  }
 },
 "nbformat": 4,
 "nbformat_minor": 5
}
