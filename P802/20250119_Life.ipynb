{
 "cells": [
  {
   "cell_type": "code",
   "execution_count": 2,
   "id": "c12e86a3",
   "metadata": {},
   "outputs": [
    {
     "data": {
      "image/png": "[encoded data removed]",
      "text/plain": [
       "<Figure size 640x480 with 1 Axes>"
      ]
     },
     "metadata": {},
     "output_type": "display_data"
    }
   ],
   "source": [
    "import numpy as np\n",
    "import matplotlib.pyplot as plt\n",
    "from matplotlib.animation import FuncAnimation\n",
    "\n",
    "# Define the size of the grid\n",
    "grid_size = (50, 50)  # Adjust for a larger or smaller grid\n",
    "\n",
    "# Initialize the grid with random 0s and 1s\n",
    "def initialize_grid(size):\n",
    "    return np.random.choice([0, 1], size=size)\n",
    "\n",
    "# Compute the next state of the grid based on Conway's rules\n",
    "def update_grid(grid):\n",
    "    new_grid = grid.copy()\n",
    "    for i in range(grid.shape[0]):\n",
    "        for j in range(grid.shape[1]):\n",
    "            # Count live neighbors\n",
    "            total = sum(\n",
    "                grid[i + x, j + y]\n",
    "                for x in [-1, 0, 1]\n",
    "                for y in [-1, 0, 1]\n",
    "                if (x != 0 or y != 0) and (0 <= i + x < grid.shape[0]) and (0 <= j + y < grid.shape[1])\n",
    "            )\n",
    "\n",
    "            # Apply Conway's rules\n",
    "            if grid[i, j] == 1:\n",
    "                if total < 2 or total > 3:\n",
    "                    new_grid[i, j] = 0  # Dies\n",
    "            else:\n",
    "                if total == 3:\n",
    "                    new_grid[i, j] = 1  # Becomes alive\n",
    "\n",
    "    return new_grid\n",
    "\n",
    "# Display the grid using matplotlib\n",
    "fig, ax = plt.subplots()\n",
    "\n",
    "# Initialize the grid\n",
    "grid = initialize_grid(grid_size)\n",
    "im = ax.imshow(grid, cmap=\"binary\", interpolation=\"nearest\")\n",
    "plt.axis(\"off\")\n",
    "\n",
    "# Function to update the plot\n",
    "def animate(frame):\n",
    "    global grid\n",
    "    grid = update_grid(grid)\n",
    "    im.set_data(grid)\n",
    "    return [im]\n",
    "\n",
    "# Create the animation\n",
    "ani = FuncAnimation(fig, animate, frames=200, interval=100, blit=True)\n",
    "\n",
    "# To display in a Jupyter notebook\n",
    "plt.show()\n"
   ]
  },
  {
   "cell_type": "code",
   "execution_count": null,
   "id": "9fc8a354",
   "metadata": {},
   "outputs": [],
   "source": []
  }
 ],
 "metadata": {
  "kernelspec": {
   "display_name": "Python 3 (ipykernel)",
   "language": "python",
   "name": "python3"
  },
  "language_info": {
   "codemirror_mode": {
    "name": "ipython",
    "version": 3
   },
   "file_extension": ".py",
   "mimetype": "text/x-python",
   "name": "python",
   "nbconvert_exporter": "python",
   "pygments_lexer": "ipython3",
   "version": "3.11.5"
  }
 },
 "nbformat": 4,
 "nbformat_minor": 5
}
