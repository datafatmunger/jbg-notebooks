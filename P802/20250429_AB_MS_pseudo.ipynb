{
 "cells": [
  {
   "cell_type": "code",
   "execution_count": null,
   "id": "04359c59-81e2-4f5e-9972-d2752b038b96",
   "metadata": {},
   "outputs": [],
   "source": [
    "def implement_pauli_string(circuit, pauli_string, theta):\n",
    "    pre_rotations = []\n",
    "    post_rotations = []\n",
    "    qubits = []\n",
    "\n",
    "    for pauli, qubit in pauli_string:\n",
    "        if pauli == 'X':\n",
    "            pass  # no basis change needed\n",
    "        elif pauli == 'Y':\n",
    "            pre_rotations.append(('Rz', qubit, -np.pi/2))\n",
    "            post_rotations.append(('Rz', qubit, np.pi/2))\n",
    "        elif pauli == 'Z':\n",
    "            pre_rotations.append(('Ry', qubit, np.pi/2))\n",
    "            post_rotations.append(('Ry', qubit, -np.pi/2))\n",
    "        qubits.append(qubit)\n",
    "\n",
    "    # Apply pre-rotations\n",
    "    for rot in pre_rotations:\n",
    "        gate_type, qubit, angle = rot\n",
    "        circuit.add_rotation(gate_type, qubit, angle)\n",
    "\n",
    "    # Apply MS entangling gate (XX)\n",
    "    circuit.add_ms_gate(qubits, theta)\n",
    "\n",
    "    # Apply post-rotations\n",
    "    for rot in post_rotations:\n",
    "        gate_type, qubit, angle = rot\n",
    "        circuit.add_rotation(gate_type, qubit, angle)\n",
    "\n",
    "\n",
    "# Evolution for Term 1 with t=1.0\n",
    "implement_pauli_string(circuit, [('X',0), ('X',1)], theta=0.25)\n",
    "implement_pauli_string(circuit, [('X',0), ('Y',1)], theta=-0.25)\n",
    "implement_pauli_string(circuit, [('Y',0), ('X',1)], theta=0.25)\n",
    "implement_pauli_string(circuit, [('Y',0), ('Y',1)], theta=0.25)"
   ]
  }
 ],
 "metadata": {
  "kernelspec": {
   "display_name": "Python (venv)",
   "language": "python",
   "name": "venv"
  },
  "language_info": {
   "codemirror_mode": {
    "name": "ipython",
    "version": 3
   },
   "file_extension": ".py",
   "mimetype": "text/x-python",
   "name": "python",
   "nbconvert_exporter": "python",
   "pygments_lexer": "ipython3",
   "version": "3.13.1"
  }
 },
 "nbformat": 4,
 "nbformat_minor": 5
}
