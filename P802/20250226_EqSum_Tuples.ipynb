{
 "cells": [
  {
   "cell_type": "code",
   "execution_count": 52,
   "id": "3b70e693-5dec-400f-90ff-662f54ffbe1f",
   "metadata": {},
   "outputs": [
    {
     "data": {
      "text/plain": [
       "<qiskit.circuit.instructionset.InstructionSet at 0x134c93670>"
      ]
     },
     "execution_count": 52,
     "metadata": {},
     "output_type": "execute_result"
    }
   ],
   "source": [
    "from qiskit import QuantumCircuit, QuantumRegister, ClassicalRegister\n",
    "import numpy as np\n",
    "import matplotlib.pyplot as plt\n",
    "\n",
    "# Define parameters\n",
    "gamma = 0.5   # Cost unitary parameter\n",
    "beta  = 0.5   # Mixing unitary parameter\n",
    "n_qubits = 3  # Three qubits (labeled: x, y, z)\n",
    "trotter_steps = 50\n",
    "\n",
    "# --- Derived from the projector-decomposition ---\n",
    "# (y,z) sector: H_yz = 2.5 + 1.5 Z_y + 1.0 Z_z\n",
    "# (x,z) sector: H_xz = 1.5 + 0.5 Z_x + 1.0 Z_z\n",
    "# (x,y) sector: H_xy = 2   + 0.5 Z_x + 1.5 Z_y\n",
    "#\n",
    "# Total (ignoring constants) becomes:\n",
    "#   H_total = 1.0 Z_x + 3.0 Z_y + 2.0 Z_z\n",
    "#\n",
    "# In Qiskit, RZGate(theta) = exp(-i * theta/2 * Z),\n",
    "# so to implement exp(-i * gamma * B * Z) we use theta = 2 * gamma * B.\n",
    "\n",
    "# Create Quantum and Classical Registers\n",
    "qr = QuantumRegister(n_qubits, name='q')\n",
    "cr = ClassicalRegister(n_qubits, name='cr')\n",
    "qc = QuantumCircuit(qr, cr)\n",
    "\n",
    "# === STEP 1: Prepare a uniform superposition ===\n",
    "for i in range(n_qubits):\n",
    "    qc.h(qr[i])\n",
    "\n",
    "# === STEP 2: Trotterized evolution ===\n",
    "for step in range(trotter_steps):\n",
    "    # --- Apply the Cost Unitary U_C(gamma) ---\n",
    "    # Implement U_C ∝ exp(-i * gamma * (Z_x + 3 Z_y + 2 Z_z))\n",
    "    # (Global phase exp(-i*gamma*6) is dropped.)\n",
    "    qc.rz(2 * gamma * 1.0, qr[0])  # qubit x: 2*gamma*1.0\n",
    "    qc.rz(2 * gamma * 3.0, qr[1])  # qubit y: 2*gamma*3.0\n",
    "    qc.rz(2 * gamma * 2.0, qr[2])  # qubit z: 2*gamma*2.0\n",
    "    \n",
    "    # --- Apply the Mixing Unitary U_M(beta) ---\n",
    "    for i in range(n_qubits):\n",
    "        qc.rx(2 * beta, qr[i])\n",
    "\n",
    "# === STEP 3: Measurement ===\n",
    "qc.measure(qr, cr)\n",
    "\n",
    "# Draw the circuit\n",
    "#print(qc.draw())\n"
   ]
  },
  {
   "cell_type": "code",
   "execution_count": 79,
   "id": "0b36dd73-b7d6-4883-9352-835e2db115d3",
   "metadata": {},
   "outputs": [
    {
     "name": "stdout",
     "output_type": "stream",
     "text": [
      "{'111': 103, '100': 136, '010': 146, '101': 149, '110': 135, '011': 130, '001': 117, '000': 108}\n"
     ]
    },
    {
     "data": {
      "image/png": "[encoded data removed]",
      "text/plain": [
       "<Figure size 640x480 with 1 Axes>"
      ]
     },
     "execution_count": 79,
     "metadata": {},
     "output_type": "execute_result"
    }
   ],
   "source": [
    "from qiskit.providers.basic_provider import BasicSimulator\n",
    "from qiskit.visualization import plot_histogram\n",
    "import numpy as np\n",
    "import matplotlib.pyplot as plt\n",
    "\n",
    "simulator = BasicSimulator()\n",
    "\n",
    "# Simulate the circuit\n",
    "compiled_circuit = transpile(qc, simulator)\n",
    "job = simulator.run(compiled_circuit, shots=1024)\n",
    "result = job.result()\n",
    "counts = result.get_counts()\n",
    "\n",
    "# Print the counts\n",
    "print(result.get_counts())\n",
    "\n",
    "# Plot the histogram\n",
    "plot_histogram(result.get_counts())"
   ]
  },
  {
   "cell_type": "code",
   "execution_count": 78,
   "id": "1671a745-2d23-4df8-ad31-209ed5c8b889",
   "metadata": {},
   "outputs": [
    {
     "data": {
      "text/plain": [
       "<qiskit.circuit.instructionset.InstructionSet at 0x13559efb0>"
      ]
     },
     "execution_count": 78,
     "metadata": {},
     "output_type": "execute_result"
    }
   ],
   "source": [
    "from qiskit import QuantumCircuit, QuantumRegister, ClassicalRegister\n",
    "\n",
    "# Define parameters\n",
    "gamma = 0.5          # Cost unitary parameter\n",
    "beta = 0.1           # Mixing unitary parameter\n",
    "T = 0.25             # Total evolution time\n",
    "n_qubits = 3         # Number of qubits\n",
    "trotter_steps = 10   # Number of Trotter steps\n",
    "\n",
    "qr = QuantumRegister(n_qubits, 'q')\n",
    "cr = ClassicalRegister(n_qubits, 'cr')\n",
    "qc = QuantumCircuit(qr, cr)\n",
    "\n",
    "for i in range(n_qubits):\n",
    "    qc.h(qr[i])\n",
    "\n",
    "qubit_index = {'x': 0, 'y': 1, 'z': 2}\n",
    "\n",
    "tuples = [\n",
    "    (0, [('y', -0.5), ('z', -0.5)]),\n",
    "    (2, [('y', -0.5), ('z',  0.5)]),\n",
    "    (3, [('y',  0.5), ('z', -0.5)]),\n",
    "    (5, [('y',  0.5), ('z',  0.5)]),\n",
    "    (0, [('x', -0.5), ('z', -0.5)]),\n",
    "    (2, [('x', -0.5), ('z',  0.5)]),\n",
    "    (1, [('x',  0.5), ('z', -0.5)]),\n",
    "    (3, [('x',  0.5), ('z',  0.5)]),\n",
    "    (0, [('x', -0.5), ('y', -0.5)]),\n",
    "    (3, [('x', -0.5), ('y',  0.5)]),\n",
    "    (1, [('x',  0.5), ('y', -0.5)]),\n",
    "    (4, [('x',  0.5), ('y',  0.5)]),\n",
    "]\n",
    "\n",
    "# === Trotterized evolution ===\n",
    "for step in range(trotter_steps):\n",
    "    # --- Apply the Cost Unitary U_C(gamma) ---\n",
    "    for tup in tuples:\n",
    "        k, terms = tup\n",
    "        n = len(terms)\n",
    "        \n",
    "        if n == 2:\n",
    "            alpha = terms[0][1] + terms[1][1]\n",
    "            total_coeff = 0\n",
    "            qubit_pair = []\n",
    "            for (qubit, coeff) in terms:\n",
    "                total_coeff += alpha * coeff\n",
    "                qubit_pair.append(qubit_index[qubit])\n",
    "            theta = -2 * gamma * total_coeff * (T / trotter_steps)\n",
    "            qc.rzz(theta, qr[qubit_pair[0]], qr[qubit_pair[1]])\n",
    "        else:\n",
    "            raise ValueError(\"Tuple with unsupported number of terms: {}\".format(n))\n",
    "    \n",
    "    \n",
    "    # --- Apply the Mixing Unitary U_M(beta) ---\n",
    "    for i in range(n_qubits):\n",
    "        qc.rx(2 * beta * (T / trotter_steps), qr[i])\n",
    "        \n",
    "qc.measure(qr, cr)\n",
    "\n"
   ]
  },
  {
   "cell_type": "code",
   "execution_count": 75,
   "id": "cbb2b31f-8a4c-4f52-ba31-f86bc16c202c",
   "metadata": {},
   "outputs": [
    {
     "name": "stdout",
     "output_type": "stream",
     "text": [
      "{'011': 111, '001': 138, '101': 144, '010': 149, '000': 128, '111': 120, '110': 110, '100': 124}\n"
     ]
    },
    {
     "data": {
      "image/png": "[encoded data removed]",
      "text/plain": [
       "<Figure size 640x480 with 1 Axes>"
      ]
     },
     "execution_count": 75,
     "metadata": {},
     "output_type": "execute_result"
    }
   ],
   "source": [
    "# Use the following code instead if you want to run on a simulator:\n",
    "from qiskit_ibm_runtime.fake_provider import FakeKyiv\n",
    "from qiskit_ibm_runtime import SamplerV2 as Sampler, QiskitRuntimeService\n",
    "\n",
    "backend = FakeKyiv()\n",
    "\n",
    "# Define Sampler\n",
    "sampler = Sampler(mode=backend)\n",
    "\n",
    "compiled_circuit = transpile(qc, backend)\n",
    "\n",
    "# Run calculation\n",
    "job = sampler.run([compiled_circuit], shots=1024)\n",
    " \n",
    "result = job.result()\n",
    "\n",
    "counts = result[0].data.cr.get_counts()\n",
    "\n",
    "print(counts)\n",
    "\n",
    "# Plot the histogram\n",
    "plot_histogram(counts)"
   ]
  },
  {
   "cell_type": "code",
   "execution_count": null,
   "id": "76194cb3-b8f4-430a-8a0e-716f7482fbbf",
   "metadata": {},
   "outputs": [],
   "source": []
  }
 ],
 "metadata": {
  "kernelspec": {
   "display_name": "Python (venv)",
   "language": "python",
   "name": "venv"
  },
  "language_info": {
   "codemirror_mode": {
    "name": "ipython",
    "version": 3
   },
   "file_extension": ".py",
   "mimetype": "text/x-python",
   "name": "python",
   "nbconvert_exporter": "python",
   "pygments_lexer": "ipython3",
   "version": "3.13.1"
  }
 },
 "nbformat": 4,
 "nbformat_minor": 5
}
