{
 "cells": [
  {
   "cell_type": "code",
   "execution_count": 26,
   "id": "05385883-dfe1-4398-adfb-101d2d19375a",
   "metadata": {},
   "outputs": [
    {
     "data": {
      "text/plain": [
       "<qiskit.circuit.instructionset.InstructionSet at 0x11d5d8af0>"
      ]
     },
     "execution_count": 26,
     "metadata": {},
     "output_type": "execute_result"
    }
   ],
   "source": [
    "from qiskit import QuantumCircuit, transpile\n",
    "from qiskit.circuit.library import RZZGate, RXXGate, RXGate\n",
    "import numpy as np\n",
    "\n",
    "# Define the desired rotation angle\n",
    "theta = np.pi\n",
    "\n",
    "# Create a quantum circuit with 2 qubits (target + ancilla)\n",
    "qc = QuantumCircuit(2, 1)\n",
    "\n",
    "# Apply RXX to create an effective interaction\n",
    "qc.append(RXXGate(np.pi/2), [0, 1])\n",
    "\n",
    "# Apply RZZ to introduce a controlled Z-phase\n",
    "qc.append(RZZGate(theta), [0, 1])\n",
    "\n",
    "# Apply another RXX to cancel unwanted effects\n",
    "qc.append(RXXGate(-np.pi/2), [0, 1])\n",
    "\n",
    "# Measure the ancilla (optional, for debugging)\n",
    "qc.measure(0, 0)\n"
   ]
  },
  {
   "cell_type": "code",
   "execution_count": 36,
   "id": "df31cb27-97c4-4a7b-888c-c470f3b4e3c2",
   "metadata": {},
   "outputs": [
    {
     "name": "stdout",
     "output_type": "stream",
     "text": [
      "Top 5 solutions:\n",
      "00001000: 18\n",
      "00001001: 17\n",
      "00010100: 16\n",
      "00000100: 16\n",
      "00011000: 15\n"
     ]
    }
   ],
   "source": [
    "from qiskit.providers.basic_provider import BasicSimulator\n",
    "from qiskit.visualization import plot_histogram\n",
    "\n",
    "simulator = BasicSimulator()\n",
    "\n",
    "# Simulate the circuit\n",
    "compiled_circuit = transpile(qc, simulator)\n",
    "job = simulator.run(compiled_circuit, shots=1024)\n",
    "result = job.result()\n",
    "counts = result.get_counts()\n",
    "\n",
    "# Sort the outcomes by frequency (highest first) and take the top 5.\n",
    "top5 = sorted(counts.items(), key=lambda x: x[1], reverse=True)[:5]\n",
    "\n",
    "# Print the top 5 solutions.\n",
    "print(\"Top 5 solutions:\")\n",
    "for bitstr, cnt in top5:\n",
    "    print(f\"{bitstr}: {cnt}\")\n"
   ]
  },
  {
   "cell_type": "code",
   "execution_count": 35,
   "id": "24f783b6-5ad7-428f-b49e-21220f969f95",
   "metadata": {},
   "outputs": [
    {
     "data": {
      "text/plain": [
       "<qiskit.circuit.instructionset.InstructionSet at 0x11d8f46d0>"
      ]
     },
     "execution_count": 35,
     "metadata": {},
     "output_type": "execute_result"
    }
   ],
   "source": [
    "# Define parameters\n",
    "gamma = 0.5\n",
    "beta  = 0.1\n",
    "n_qubits = 8\n",
    "trotter_steps = 1000\n",
    "T = 10\n",
    "\n",
    "# Define quantum registers (8 data qubits + 8 ancilla qubits)\n",
    "qr = QuantumRegister(2 * n_qubits, name=\"q\")  # 16 qubits in total\n",
    "cr = ClassicalRegister(n_qubits, name=\"cr\")   # Classical register for measurement\n",
    "qc = QuantumCircuit(qr, cr)\n",
    "\n",
    "# Initialize data qubits in superposition\n",
    "for i in range(n_qubits):\n",
    "    qc.h(qr[i])\n",
    "\n",
    "# Function to replace RZ with the fake RZ using a dedicated ancilla\n",
    "def fake_rz(qc, theta, target, ancilla):\n",
    "    \"\"\"Replaces RZ(theta) with an equivalent using only RZZ and RXX, with a dedicated ancilla qubit.\"\"\"\n",
    "    qc.append(RXXGate(np.pi / 2), [target, ancilla])  # Entangle with ancilla\n",
    "    qc.append(RZZGate(theta), [target, ancilla])      # Apply phase shift\n",
    "    qc.append(RXXGate(-np.pi / 2), [target, ancilla])  # Disentangle\n",
    "\n",
    "# Trotterized evolution steps\n",
    "for step in range(trotter_steps):\n",
    "\n",
    "    alpha = -2 * gamma * (T / trotter_steps)\n",
    "\n",
    "    # Use separate ancilla qubits for each fake RZ\n",
    "    fake_rz(qc, alpha * -2.0, 2, 2 + n_qubits)  \n",
    "    fake_rz(qc, alpha - 1.0, 3, 3 + n_qubits)\n",
    "    qc.append(RZZGate(alpha * 2.0), [2, 3])\n",
    "\n",
    "    fake_rz(qc, alpha * -6.0, 4, 4 + n_qubits)\n",
    "    fake_rz(qc, alpha * -3.0, 5, 5 + n_qubits)\n",
    "    qc.append(RZZGate(alpha * 2.0), [4, 5])\n",
    "\n",
    "    fake_rz(qc, alpha * -6.0, 0, 0 + n_qubits)\n",
    "    fake_rz(qc, alpha * -3.0, 1, 1 + n_qubits)\n",
    "    qc.append(RZZGate(alpha * 2.0), [0, 1])\n",
    "\n",
    "    fake_rz(qc, -6.0, 6, 6 + n_qubits)\n",
    "    fake_rz(qc, -3.0, 7, 7 + n_qubits)\n",
    "    qc.append(RZZGate(alpha * 2.0), [6, 7])\n",
    "\n",
    "    # Apply RX gates (unchanged)\n",
    "    for i in range(n_qubits):\n",
    "        qc.append(RXGate(2 * beta), [i])\n",
    "\n",
    "# Measure only the data qubits\n",
    "qc.measure(range(n_qubits), range(n_qubits))\n"
   ]
  },
  {
   "cell_type": "code",
   "execution_count": null,
   "id": "78efc36c-4c2a-474c-b513-e9715a7cf8df",
   "metadata": {},
   "outputs": [],
   "source": [
    "import pennylane as qml\n",
    "import numpy as np\n",
    "import pyzx\n",
    "import matplotlib.pyplot as plt\n",
    "\n",
    "# Define parameters\n",
    "gamma = 0.5\n",
    "beta = 0.1\n",
    "n_qubits = 8\n",
    "trotter_steps = 1000\n",
    "T = 10\n",
    "shots = 1024  # Match Qiskit's number of runs\n",
    "\n",
    "# Use \"default.qubit\" with shot-based sampling\n",
    "dev = qml.device(\"default.qubit\", wires=2 * n_qubits, shots=shots)\n",
    "\n",
    "def fake_rz(theta, target, ancilla):\n",
    "    \"\"\"Replaces RZ(theta) with an equivalent using only RZZ and RXX, with a dedicated ancilla qubit.\"\"\"\n",
    "    qml.IsingXX(np.pi / 2, wires=[target, ancilla])  # Entangle with ancilla\n",
    "    qml.IsingZZ(theta, wires=[target, ancilla])      # Apply phase shift\n",
    "    qml.IsingXX(-np.pi / 2, wires=[target, ancilla])  # Disentangle\n",
    "\n",
    "@qml.transforms.to_zx  # Convert to ZX-graph\n",
    "@qml.qnode(dev)\n",
    "def circuit():\n",
    "    # Initialize data qubits in superposition\n",
    "    for i in range(n_qubits):\n",
    "        qml.Hadamard(wires=i)\n",
    "\n",
    "    # Trotterized evolution steps\n",
    "    for step in range(trotter_steps):\n",
    "        alpha = -2 * gamma * (T / trotter_steps)\n",
    "\n",
    "        # Use separate ancilla qubits for each fake RZ\n",
    "        fake_rz(alpha * -2.0, 2, 2 + n_qubits)\n",
    "        fake_rz(alpha - 1.0, 3, 3 + n_qubits)\n",
    "        qml.IsingZZ(alpha * 2.0, wires=[2, 3])\n",
    "\n",
    "        fake_rz(alpha * -6.0, 4, 4 + n_qubits)\n",
    "        fake_rz(alpha * -3.0, 5, 5 + n_qubits)\n",
    "        qml.IsingZZ(alpha * 2.0, wires=[4, 5])\n",
    "\n",
    "        fake_rz(alpha * -6.0, 0, 0 + n_qubits)\n",
    "        fake_rz(alpha * -3.0, 1, 1 + n_qubits)\n",
    "        qml.IsingZZ(alpha * 2.0, wires=[0, 1])\n",
    "\n",
    "        fake_rz(-6.0, 6, 6 + n_qubits)\n",
    "        fake_rz(-3.0, 7, 7 + n_qubits)\n",
    "        qml.IsingZZ(alpha * 2.0, wires=[6, 7])\n",
    "\n",
    "        # Apply RX gates\n",
    "        for i in range(n_qubits):\n",
    "            qml.RX(2 * beta, wires=i)\n",
    "\n",
    "    # Measure only the data qubits\n",
    "    return qml.sample(wires=range(n_qubits))\n",
    "\n",
    "# Convert the circuit into a ZX graph\n",
    "zx_graph = circuit()\n",
    "\n",
    "# Draw the ZX-calculus representation using PyZX\n",
    "fig = pyzx.draw_matplotlib(zx_graph)\n",
    "\n",
    "# The following lines ensure the figure is properly displayed\n",
    "manager = plt.figure().canvas.manager\n",
    "manager.canvas.figure = fig\n",
    "fig.set_canvas(manager.canvas)\n",
    "\n",
    "plt.show()\n"
   ]
  },
  {
   "cell_type": "code",
   "execution_count": null,
   "id": "eddb4b8e-e478-4898-900c-7416116cadea",
   "metadata": {},
   "outputs": [],
   "source": []
  }
 ],
 "metadata": {
  "kernelspec": {
   "display_name": "Python (venv)",
   "language": "python",
   "name": "venv"
  },
  "language_info": {
   "codemirror_mode": {
    "name": "ipython",
    "version": 3
   },
   "file_extension": ".py",
   "mimetype": "text/x-python",
   "name": "python",
   "nbconvert_exporter": "python",
   "pygments_lexer": "ipython3",
   "version": "3.13.1"
  }
 },
 "nbformat": 4,
 "nbformat_minor": 5
}
