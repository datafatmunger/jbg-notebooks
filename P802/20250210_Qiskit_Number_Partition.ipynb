{
 "cells": [
  {
   "cell_type": "code",
   "execution_count": 31,
   "id": "ae2b1f22",
   "metadata": {},
   "outputs": [
    {
     "data": {
      "text/plain": [
       "<qiskit.circuit.instructionset.InstructionSet at 0x10d4a2fb0>"
      ]
     },
     "execution_count": 31,
     "metadata": {},
     "output_type": "execute_result"
    }
   ],
   "source": [
    "from qiskit import QuantumCircuit, QuantumRegister, ClassicalRegister, transpile\n",
    "from qiskit.circuit.library import RZGate, RZZGate\n",
    "from qiskit.providers.basic_provider import BasicSimulator\n",
    "from qiskit.visualization import plot_histogram\n",
    "import numpy as np\n",
    "import matplotlib.pyplot as plt\n",
    "\n",
    "# Define parameters\n",
    "gamma = 0.5   # Cost unitary parameter\n",
    "beta  = 0.3   # Mixing unitary parameter\n",
    "n_qubits = 3  # Four spins / qubits\n",
    "\n",
    "trotter_steps = 100\n",
    "T = 10.0  \n",
    "\n",
    "# Create a QuantumCircuit with 4 qubits and 4 classical bits\n",
    "qc = QuantumCircuit(n_qubits, n_qubits)\n",
    "\n",
    "# === STEP 1: Prepare a uniform superposition ===\n",
    "for i in range(n_qubits):\n",
    "    qc.h(i)\n",
    "\n",
    "# Time-dependent interpolation\n",
    "def s(t):\n",
    "    return t / T\n",
    "\n",
    "# Step 2: Trotterized evolution\n",
    "for step in range(trotter_steps):\n",
    "    # === STEP 2: Apply the Cost Unitary U_C(gamma) ===\n",
    "    # H_C = 4 Z0 Z1 + 4 Z0 Z2 + 6 Z0 Z3 + 8 Z1 Z2 + 12 Z1 Z3 + 12 Z2 Z3\n",
    "    # Implement each ZZ term using Rzz.\n",
    "\n",
    "    t = (step + 1) * (T / trotter_steps)\n",
    "    s_t = s(t)\n",
    "    \n",
    "    #qc.rzz(-2 * s_t * gamma * 4 * (T / trotter_steps), 0, 1)\n",
    "    #qc.rzz(-2 * s_t * gamma * 4 * (T / trotter_steps), 0, 2)\n",
    "    #qc.rzz(-2 * s_t * gamma * 6 * (T / trotter_steps), 0, 3)\n",
    "    #qc.rzz(-2 * s_t * gamma * 8 * (T / trotter_steps), 1, 2)\n",
    "    #qc.rzz(-2 * s_t * gamma * 12 * (T / trotter_steps), 1, 3)\n",
    "    #qc.rzz(-2 * s_t * gamma * 12 * (T / trotter_steps), 2, 3)\n",
    "\n",
    "    qc.rzz(-2 * s_t * gamma * 6 * (T / trotter_steps), 0, 1)\n",
    "    qc.rzz(-2 * s_t * gamma * 4 * (T / trotter_steps), 0, 2)\n",
    "    qc.rzz(-2 * s_t * gamma * 12 * (T / trotter_steps), 1, 2)\n",
    "    \n",
    "    \n",
    "# === STEP 3: Apply the Mixing Unitary U_M(beta) ===\n",
    "for i in range(n_qubits):\n",
    "    qc.rx(2 * beta, i)\n",
    "\n",
    "# === STEP 4: Measurement ===\n",
    "qc.measure(range(n_qubits), range(n_qubits))\n",
    "\n",
    "# Draw the circuit\n",
    "#qc.draw(output='mpl', style='iqp')\n"
   ]
  },
  {
   "cell_type": "code",
   "execution_count": 32,
   "id": "5034ee58",
   "metadata": {},
   "outputs": [
    {
     "name": "stdout",
     "output_type": "stream",
     "text": [
      "{'000': 123, '111': 102, '101': 214, '010': 221, '100': 48, '110': 134, '001': 136, '011': 46}\n"
     ]
    },
    {
     "data": {
      "image/png": "[encoded data removed]",
      "text/plain": [
       "<Figure size 640x480 with 1 Axes>"
      ]
     },
     "execution_count": 32,
     "metadata": {},
     "output_type": "execute_result"
    }
   ],
   "source": [
    "simulator = BasicSimulator()\n",
    "\n",
    "# Simulate the circuit\n",
    "compiled_circuit = transpile(qc, simulator)\n",
    "job = simulator.run(compiled_circuit, shots=1024)\n",
    "result = job.result()\n",
    "counts = result.get_counts()\n",
    "\n",
    "# Print the counts\n",
    "print(result.get_counts())\n",
    "\n",
    "# Plot the histogram\n",
    "plot_histogram(result.get_counts())"
   ]
  },
  {
   "cell_type": "code",
   "execution_count": null,
   "id": "a7fb2c11-90c5-4e7e-b800-eca241b3dbd1",
   "metadata": {},
   "outputs": [],
   "source": []
  }
 ],
 "metadata": {
  "kernelspec": {
   "display_name": "Python 3 (ipykernel)",
   "language": "python",
   "name": "python3"
  },
  "language_info": {
   "codemirror_mode": {
    "name": "ipython",
    "version": 3
   },
   "file_extension": ".py",
   "mimetype": "text/x-python",
   "name": "python",
   "nbconvert_exporter": "python",
   "pygments_lexer": "ipython3",
   "version": "3.13.1"
  }
 },
 "nbformat": 4,
 "nbformat_minor": 5
}
