{
 "cells": [
  {
   "cell_type": "code",
   "execution_count": 2,
   "id": "439ba60a-fcce-450f-a052-733573d4dee5",
   "metadata": {},
   "outputs": [
    {
     "data": {
      "text/plain": [
       "[(1, 4),\n",
       " (2, 16),\n",
       " (3, 64),\n",
       " (4, 74),\n",
       " (5, 23),\n",
       " (6, 1),\n",
       " (7, 4),\n",
       " (8, 16),\n",
       " (9, 64),\n",
       " (10, 74),\n",
       " (11, 23),\n",
       " (12, 1),\n",
       " (13, 4),\n",
       " (14, 16),\n",
       " (15, 64),\n",
       " (16, 74),\n",
       " (17, 23),\n",
       " (18, 1),\n",
       " (19, 4)]"
      ]
     },
     "execution_count": 2,
     "metadata": {},
     "output_type": "execute_result"
    }
   ],
   "source": [
    "# Let's compute powers of 4 modulo 91 step by step, printing intermediate values\n",
    "\n",
    "base = 4\n",
    "modulus = 91\n",
    "\n",
    "results = []\n",
    "value = 1\n",
    "\n",
    "for r in range(1, 20):  # try powers up to 10 for safety\n",
    "    value = (value * base) % modulus\n",
    "    results.append((r, value))\n",
    "\n",
    "results\n"
   ]
  },
  {
   "cell_type": "code",
   "execution_count": 3,
   "id": "10f75f00-5685-408b-be2a-4d2e8928e5d1",
   "metadata": {},
   "outputs": [
    {
     "data": {
      "text/plain": [
       "(64, 13, 7)"
      ]
     },
     "execution_count": 3,
     "metadata": {},
     "output_type": "execute_result"
    }
   ],
   "source": [
    "import math\n",
    "\n",
    "# From part (a), we know r = 6, so r/2 = 3\n",
    "r_half = 3\n",
    "base = 4\n",
    "N = 91\n",
    "\n",
    "# Compute 4^(r/2)\n",
    "power = base ** r_half  # 4^3 = 64\n",
    "\n",
    "# Compute gcds\n",
    "gcd_plus = math.gcd(power + 1, N)  # gcd(64 + 1, 91)\n",
    "gcd_minus = math.gcd(power - 1, N)  # gcd(64 - 1, 91)\n",
    "\n",
    "(power, gcd_plus, gcd_minus)\n"
   ]
  },
  {
   "cell_type": "code",
   "execution_count": null,
   "id": "b21e45dc-ef85-431d-928c-3434126109b4",
   "metadata": {},
   "outputs": [],
   "source": []
  }
 ],
 "metadata": {
  "kernelspec": {
   "display_name": "Python (venv)",
   "language": "python",
   "name": "venv"
  },
  "language_info": {
   "codemirror_mode": {
    "name": "ipython",
    "version": 3
   },
   "file_extension": ".py",
   "mimetype": "text/x-python",
   "name": "python",
   "nbconvert_exporter": "python",
   "pygments_lexer": "ipython3",
   "version": "3.13.1"
  }
 },
 "nbformat": 4,
 "nbformat_minor": 5
}
