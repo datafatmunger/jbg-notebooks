{
 "cells": [
  {
   "cell_type": "code",
   "execution_count": null,
   "id": "f260908d",
   "metadata": {},
   "outputs": [],
   "source": [
    "Discrete Logarithm Problem\n",
    "\n",
    "Given gg and h=gxh=gx in a cyclic group GG, the goal is for the prover to convince the verifier that they know xx without revealing xx."
   ]
  },
  {
   "cell_type": "code",
   "execution_count": 5,
   "id": "4d3a679e",
   "metadata": {},
   "outputs": [
    {
     "name": "stdout",
     "output_type": "stream",
     "text": [
      "Prover commitment (t): 32\n",
      "Verifier challenge (c): 4\n",
      "Prover response (s): 25\n",
      "Proof accepted: True\n"
     ]
    }
   ],
   "source": [
    "import random\n",
    "\n",
    "class ZeroKnowledgeProof:\n",
    "    def __init__(self, g, h, x, p):\n",
    "        self.g = g\n",
    "        self.h = h\n",
    "        self.x = x\n",
    "        self.p = p  # prime modulus for the group\n",
    "\n",
    "    def prover_commitment(self):\n",
    "        self.r = random.randint(1, self.p - 1)\n",
    "        self.t = pow(self.g, self.r, self.p)\n",
    "        return self.t\n",
    "\n",
    "    def prover_response(self, c):\n",
    "        self.s = (self.r + c * self.x) % (self.p - 1)  # modulo (p-1) for the exponent\n",
    "        return self.s\n",
    "\n",
    "    def verifier_check(self, t, c, s):\n",
    "        left = pow(self.g, s, self.p)\n",
    "        right = (t * pow(self.h, c, self.p)) % self.p\n",
    "        return left == right\n",
    "\n",
    "# Example usage:\n",
    "p = 101  # prime modulus\n",
    "g = 2\n",
    "x = 5  # secret exponent\n",
    "h = pow(g, x, p)\n",
    "\n",
    "zkp = ZeroKnowledgeProof(g, h, x, p)\n",
    "\n",
    "# Step 1: Prover sends commitment\n",
    "t = zkp.prover_commitment()\n",
    "print(f\"Prover commitment (t): {t}\")\n",
    "\n",
    "# Step 2: Verifier sends challenge\n",
    "c = random.randint(1, 10)\n",
    "print(f\"Verifier challenge (c): {c}\")\n",
    "\n",
    "# Step 3: Prover sends response\n",
    "s = zkp.prover_response(c)\n",
    "print(f\"Prover response (s): {s}\")\n",
    "\n",
    "# Step 4: Verifier checks the proof\n",
    "result = zkp.verifier_check(t, c, s)\n",
    "print(f\"Proof accepted: {result}\")\n"
   ]
  },
  {
   "cell_type": "code",
   "execution_count": null,
   "id": "de28fa2f",
   "metadata": {},
   "outputs": [],
   "source": []
  }
 ],
 "metadata": {
  "kernelspec": {
   "display_name": "Python 3 (ipykernel)",
   "language": "python",
   "name": "python3"
  },
  "language_info": {
   "codemirror_mode": {
    "name": "ipython",
    "version": 3
   },
   "file_extension": ".py",
   "mimetype": "text/x-python",
   "name": "python",
   "nbconvert_exporter": "python",
   "pygments_lexer": "ipython3",
   "version": "3.11.5"
  }
 },
 "nbformat": 4,
 "nbformat_minor": 5
}
