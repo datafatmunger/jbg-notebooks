{
 "cells": [
  {
   "cell_type": "code",
   "execution_count": 1,
   "id": "9fd4fe06-5fcb-422c-a71b-c62997e374fc",
   "metadata": {},
   "outputs": [
    {
     "name": "stdout",
     "output_type": "stream",
     "text": [
      "Category Prediction Accuracy: 0.50\n",
      "Pronoun Prediction Accuracy: 0.50\n"
     ]
    },
    {
     "data": {
      "image/png": "[encoded data removed]",
      "text/plain": [
       "<Figure size 640x480 with 1 Axes>"
      ]
     },
     "metadata": {},
     "output_type": "display_data"
    }
   ],
   "source": [
    "import numpy as np\n",
    "import pandas as pd\n",
    "from sklearn.preprocessing import LabelEncoder, MinMaxScaler\n",
    "from sklearn.metrics.pairwise import cosine_similarity\n",
    "import matplotlib.pyplot as plt\n",
    "\n",
    "# Load dataset function\n",
    "def load_data():\n",
    "    file_path = \"Gender & Pronouns survey (Responses) - Form Responses 1.csv\"\n",
    "    data = pd.read_csv(file_path)\n",
    "\n",
    "    # Select relevant columns\n",
    "    input_columns = [\n",
    "        \"Based on your Physical Appearance, select one that best identifies you\",\n",
    "        \"What is your Dressing Style?\",\n",
    "        \"How do you identify yourself (Self-Identification)?\"\n",
    "    ]\n",
    "    target_columns = [\"What is your Gender Category?\", \"What is your Pronoun(s)?\"]\n",
    "\n",
    "    # Drop rows with missing values in essential columns\n",
    "    data_cleaned = data[input_columns + target_columns].dropna()\n",
    "\n",
    "    # Encode categorical text data into numerical values\n",
    "    label_encoders = {}\n",
    "    for col in input_columns + target_columns:\n",
    "        le = LabelEncoder()\n",
    "        data_cleaned[col] = le.fit_transform(data_cleaned[col])\n",
    "        label_encoders[col] = le  # Store encoders for future use\n",
    "\n",
    "    # Normalize input data\n",
    "    scaler = MinMaxScaler()\n",
    "    X = scaler.fit_transform(data_cleaned[input_columns].values)  # Normalize to range [0, 1]\n",
    "    Y = data_cleaned[target_columns].values  # Last 2 columns as output\n",
    "    return X, Y, label_encoders\n",
    "\n",
    "# Similarity-based classification function\n",
    "def classify_new_sample(X_train, Y_train, new_sample):\n",
    "    similarities = cosine_similarity([new_sample], X_train)[0]\n",
    "    \n",
    "    # Find the most similar category based on average similarity scores\n",
    "    category_similarities = {}\n",
    "    for category in np.unique(Y_train[:, 0]):\n",
    "        indices = np.where(Y_train[:, 0] == category)[0]\n",
    "        category_similarities[category] = np.mean(similarities[indices])\n",
    "    \n",
    "    predicted_category = max(category_similarities, key=category_similarities.get)\n",
    "    \n",
    "    # Find the most similar pronoun based on the same method\n",
    "    pronoun_similarities = {}\n",
    "    for pronoun in np.unique(Y_train[:, 1]):\n",
    "        indices = np.where(Y_train[:, 1] == pronoun)[0]\n",
    "        pronoun_similarities[pronoun] = np.mean(similarities[indices])\n",
    "    \n",
    "    predicted_pronoun = max(pronoun_similarities, key=pronoun_similarities.get)\n",
    "    \n",
    "    return predicted_category, predicted_pronoun\n",
    "\n",
    "# Main function\n",
    "def main():\n",
    "    X, Y, label_encoders = load_data()\n",
    "    \n",
    "    # Split data into training and testing\n",
    "    num_train = int(0.8 * len(X))\n",
    "    X_train, X_test = X[:num_train], X[num_train:]\n",
    "    Y_train, Y_test = Y[:num_train], Y[num_train:]\n",
    "    \n",
    "    # Predict categories for test data\n",
    "    predictions = [classify_new_sample(X_train, Y_train, sample) for sample in X_test]\n",
    "    predictions = np.array(predictions)\n",
    "    \n",
    "    # Compute accuracy\n",
    "    category_accuracy = np.mean(predictions[:, 0] == Y_test[:, 0])\n",
    "    pronoun_accuracy = np.mean(predictions[:, 1] == Y_test[:, 1])\n",
    "    \n",
    "    print(f\"Category Prediction Accuracy: {category_accuracy:.2f}\")\n",
    "    print(f\"Pronoun Prediction Accuracy: {pronoun_accuracy:.2f}\")\n",
    "    \n",
    "    # Visualizing similarity distribution\n",
    "    similarities = [cosine_similarity([sample], X_train)[0] for sample in X_test]\n",
    "    avg_similarities = [np.mean(sim) for sim in similarities]\n",
    "    \n",
    "    plt.figure()\n",
    "    plt.hist(avg_similarities, bins=20, alpha=0.75, color='blue')\n",
    "    plt.xlabel(\"Average Cosine Similarity\")\n",
    "    plt.ylabel(\"Frequency\")\n",
    "    plt.title(\"Distribution of Similarities to Training Data\")\n",
    "    plt.show()\n",
    "    \n",
    "if __name__ == \"__main__\":\n",
    "    main()\n"
   ]
  },
  {
   "cell_type": "code",
   "execution_count": null,
   "id": "d17a9177-358d-41e9-bc91-c9e984a6942c",
   "metadata": {},
   "outputs": [],
   "source": []
  }
 ],
 "metadata": {
  "kernelspec": {
   "display_name": "Python (venv)",
   "language": "python",
   "name": "venv"
  },
  "language_info": {
   "codemirror_mode": {
    "name": "ipython",
    "version": 3
   },
   "file_extension": ".py",
   "mimetype": "text/x-python",
   "name": "python",
   "nbconvert_exporter": "python",
   "pygments_lexer": "ipython3",
   "version": "3.13.1"
  }
 },
 "nbformat": 4,
 "nbformat_minor": 5
}
