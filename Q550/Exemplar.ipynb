{
 "cells": [
  {
   "cell_type": "code",
   "execution_count": 12,
   "id": "1b4b1db1-27a8-4655-ba91-10b4013203ab",
   "metadata": {},
   "outputs": [
    {
     "data": {
      "image/png": "[encoded data removed]",
      "text/plain": [
       "<Figure size 640x480 with 1 Axes>"
      ]
     },
     "metadata": {},
     "output_type": "display_data"
    },
    {
     "data": {
      "image/png": "[encoded data removed]",
      "text/plain": [
       "<Figure size 640x480 with 1 Axes>"
      ]
     },
     "metadata": {},
     "output_type": "display_data"
    },
    {
     "name": "stdout",
     "output_type": "stream",
     "text": [
      "Proportion of correct patterns: 0.0\n"
     ]
    }
   ],
   "source": [
    "import numpy as np\n",
    "import pandas as pd\n",
    "from sklearn.preprocessing import LabelEncoder, MinMaxScaler\n",
    "import matplotlib.pyplot as plt\n",
    "\n",
    "# Load dataset function\n",
    "def load_data():\n",
    "    file_path = \"Gender & Pronouns survey (Responses) - Form Responses 1.csv\"\n",
    "    data = pd.read_csv(file_path)\n",
    "\n",
    "    # Select relevant columns\n",
    "    input_columns = [\n",
    "        \"Based on your Physical Appearance, select one that best identifies you\",\n",
    "        \"What is your Dressing Style?\",\n",
    "        \"How do you identify yourself (Self-Identification)?\"\n",
    "    ]\n",
    "    target_columns = [\"What is your Gender Category?\", \"What is your Pronoun(s)?\"]\n",
    "\n",
    "    # Drop rows with missing values in essential columns\n",
    "    data_cleaned = data[input_columns + target_columns].dropna()\n",
    "\n",
    "    # Encode categorical text data into numerical values\n",
    "    label_encoders = {}\n",
    "    for col in input_columns + target_columns:\n",
    "        le = LabelEncoder()\n",
    "        data_cleaned[col] = le.fit_transform(data_cleaned[col])\n",
    "        label_encoders[col] = le  # Store encoders for future use\n",
    "\n",
    "    # Normalize input data\n",
    "    scaler = MinMaxScaler()\n",
    "    X = scaler.fit_transform(data_cleaned[input_columns].values)  # Normalize to range [0, 1]\n",
    "    Y = data_cleaned[target_columns].values  # Last 2 columns as output\n",
    "    return X, Y\n",
    "\n",
    "# Define the input-output function\n",
    "def in_out(I1, I2, I3, X, W, sig, st):\n",
    "    \"\"\"Compute output given input features and weights.\"\"\"\n",
    "    in1 = np.exp(-((I1 - X[st, 0]) / sig) ** 2)\n",
    "    in2 = np.exp(-((I2 - X[st, 1]) / sig) ** 2)\n",
    "    in3 = np.exp(-((I3 - X[st, 2]) / sig) ** 2)\n",
    "    In = np.array([in1, in2, in3])\n",
    "    \n",
    "    # Weighted sum\n",
    "    Out = np.dot(W, In)\n",
    "    return Out\n",
    "\n",
    "# Exemplar function with smoother updates\n",
    "def exemplar(alf, b, sig, X, Y, nr, cutoff, W=None):\n",
    "    ns = X.shape[0]\n",
    "    if W is None:\n",
    "        W = np.zeros((Y.shape[1], X.shape[1]))\n",
    "    T = np.zeros((nr, Y.shape[1]))\n",
    "    mT = np.zeros(nr)\n",
    "    \n",
    "    smooth_factor = 0.1  # Smoothing factor to stabilize updates\n",
    "\n",
    "    for rep in range(nr):\n",
    "        for st in range(ns):\n",
    "            Out = in_out(X[st, 0], X[st, 1], X[st, 2], X, W, sig, st)\n",
    "            grad = (Y[st].reshape(-1, 1) - Out.reshape(-1, 1)) @ np.array([X[st]])\n",
    "            grad = np.clip(grad, -0.1, 0.1)  # Restrict updates for stability\n",
    "            W += alf * grad\n",
    "            W = (1 - smooth_factor) * W + smooth_factor * grad  # Apply smoothing\n",
    "        \n",
    "        for st in range(Y.shape[1]):\n",
    "            Out = in_out(X[st, 0], X[st, 1], X[st, 2], X, W, sig, st)\n",
    "            Out = Out - np.max(Out)  # Prevent numerical instability\n",
    "            pa = np.exp(b * Out) / np.sum(np.exp(b * Out))\n",
    "            T[rep, st] = pa[0]\n",
    "\n",
    "        mT[rep] = ((T[rep, 1] - T[rep, 0]) > cutoff).astype(float)\n",
    "\n",
    "        # Debugging output\n",
    "        #print(f\"Iteration {rep+1}: Weight Mean {np.mean(W):.6f}, T {T[rep]}\")\n",
    "\n",
    "    return mT, T, W\n",
    "\n",
    "# Main program\n",
    "def main():\n",
    "    X, Y = load_data()\n",
    "    \n",
    "    nr = 50\n",
    "    alf = 0.05  # Reduced learning rate for smoother convergence\n",
    "    b = 2.5\n",
    "    sig = 5\n",
    "    cutoff = 0.2\n",
    "\n",
    "    mT, T, W = exemplar(alf, b, sig, X, Y, nr, cutoff)\n",
    "    \n",
    "    plt.figure()\n",
    "    plt.plot(range(1, nr + 1), (T[:, 1] + T[:, 0]) / 2, '-.', linewidth=2)\n",
    "    plt.xlabel('Learning trials')\n",
    "    plt.ylabel('Probability correct')\n",
    "    plt.show()\n",
    "\n",
    "    # Compute and display proportion of correct patterns\n",
    "    aa = 25\n",
    "    bb = 15\n",
    "    AV = np.linspace(0.01, 1.0, aa)\n",
    "    BV = np.linspace(0.5, 3.0, bb)\n",
    "    MT = np.zeros((aa, bb))\n",
    "\n",
    "    for i in range(aa):\n",
    "        for j in range(bb):\n",
    "            alf_current = AV[i]\n",
    "            b_current = BV[j]\n",
    "            mT, _, _ = exemplar(alf_current, b_current, sig, X, Y, nr, cutoff, W)\n",
    "            MT[i, j] = mT[-1]\n",
    "\n",
    "    plt.figure()\n",
    "    plt.spy(MT)\n",
    "    plt.show()\n",
    "\n",
    "    pcp = np.sum(MT == 1) / (MT.shape[0] * MT.shape[1])\n",
    "    print('Proportion of correct patterns:', pcp)\n",
    "\n",
    "if __name__ == \"__main__\":\n",
    "    main()"
   ]
  },
  {
   "cell_type": "code",
   "execution_count": null,
   "id": "2efed3ea-9c83-4bd2-8680-d77cd5a31052",
   "metadata": {},
   "outputs": [],
   "source": []
  }
 ],
 "metadata": {
  "kernelspec": {
   "display_name": "Python (venv)",
   "language": "python",
   "name": "venv"
  },
  "language_info": {
   "codemirror_mode": {
    "name": "ipython",
    "version": 3
   },
   "file_extension": ".py",
   "mimetype": "text/x-python",
   "name": "python",
   "nbconvert_exporter": "python",
   "pygments_lexer": "ipython3",
   "version": "3.13.1"
  }
 },
 "nbformat": 4,
 "nbformat_minor": 5
}
