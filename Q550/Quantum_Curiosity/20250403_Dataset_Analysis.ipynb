{
 "cells": [
  {
   "cell_type": "code",
   "execution_count": 1,
   "id": "10435d68-0253-47ca-a6eb-1fa2e075eca1",
   "metadata": {},
   "outputs": [
    {
     "name": "stdout",
     "output_type": "stream",
     "text": [
      "over50K\n",
      "0    0.749857\n",
      "1    0.250143\n",
      "Name: proportion, dtype: float64\n"
     ]
    }
   ],
   "source": [
    "import pandas as pd\n",
    "\n",
    "data = pd.read_csv(\"Datasets/adult/adult_int.csv\", index_col=0)\n",
    "print(data.iloc[:, -1].value_counts(normalize=True))\n"
   ]
  },
  {
   "cell_type": "code",
   "execution_count": 3,
   "id": "324f4346-9bbf-45bb-8411-c92231edd197",
   "metadata": {},
   "outputs": [
    {
     "name": "stdout",
     "output_type": "stream",
     "text": [
      "readmitted\n",
      "2    5503\n",
      "1    3453\n",
      "0    1071\n",
      "Name: count, dtype: int64\n"
     ]
    }
   ],
   "source": [
    "import pandas as pd\n",
    "df = pd.read_csv(\"Datasets/diabetic_data_test_int.csv\", index_col=0)\n",
    "print(df.iloc[:, -1].value_counts())  # look at label distribution"
   ]
  },
  {
   "cell_type": "code",
   "execution_count": 4,
   "id": "24bb73af-3ff1-4851-a002-25432280dcaf",
   "metadata": {},
   "outputs": [
    {
     "name": "stdout",
     "output_type": "stream",
     "text": [
      "Show_Up\n",
      "1    188312\n",
      "0     81688\n",
      "Name: count, dtype: int64\n"
     ]
    }
   ],
   "source": [
    "import pandas as pd\n",
    "df = pd.read_csv(\"Datasets/No_show_int.csv\", index_col=0)\n",
    "print(df.iloc[:, -1].value_counts())  # look at label distribution"
   ]
  },
  {
   "cell_type": "code",
   "execution_count": null,
   "id": "2bb9bf2c-556f-4a72-b1d0-2d146aefd955",
   "metadata": {},
   "outputs": [],
   "source": []
  }
 ],
 "metadata": {
  "kernelspec": {
   "display_name": "Python (venv)",
   "language": "python",
   "name": "venv"
  },
  "language_info": {
   "codemirror_mode": {
    "name": "ipython",
    "version": 3
   },
   "file_extension": ".py",
   "mimetype": "text/x-python",
   "name": "python",
   "nbconvert_exporter": "python",
   "pygments_lexer": "ipython3",
   "version": "3.13.1"
  }
 },
 "nbformat": 4,
 "nbformat_minor": 5
}
