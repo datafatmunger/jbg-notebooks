{
 "cells": [
  {
   "cell_type": "code",
   "execution_count": 1,
   "id": "e7f8d62a-7822-46f3-bbdb-9f9882a49c09",
   "metadata": {},
   "outputs": [],
   "source": [
    "import pennylane as qml"
   ]
  },
  {
   "cell_type": "code",
   "execution_count": 2,
   "id": "b96f9de6-dcd7-460c-98e7-0466c926f9ea",
   "metadata": {},
   "outputs": [],
   "source": [
    "# dictionary of wire numbers we want each letter of the alphabet to have\n",
    "qubit = {'a':1, 'b':2, 'c':3, 'd':4, 'e':5, 'f':6, 'g':7, 'h':8, 'i':9, 'j':10,\n",
    "         'k':11, 'l':12, 'm':13, 'n':14, 'o':15, 'p':16, 'q':17, 'r':18, 's':19,\n",
    "         't':20, 'u':21, 'v':22, 'w':23, 'x':24, 'y':25, 'z':26}"
   ]
  },
  {
   "cell_type": "code",
   "execution_count": 3,
   "id": "0fa1918b-c13e-4369-8f63-21d6e9686305",
   "metadata": {},
   "outputs": [],
   "source": [
    "def Solve(exp, vars, ops):\n",
    "    # TODO: Initialize the qubits in superposition\n",
    "\n",
    "    # lists to handle the helper qubits, the current qubit(s), \n",
    "    # and the operations on the recent two current qubits\n",
    "    helpQ = list(range(vars+1, vars + ops)) + [0] \n",
    "    # we append 0 at the end, as we want our final output to be in wire 0\n",
    "    currQ = []\n",
    "    currOp = []\n",
    "\n",
    "    #for char in exp:\n",
    "        # TODO: Implement the logic for handling parentheses, AND, and OR\n",
    "        # i.e. \n",
    "        # if the char is not ')'\n",
    "        #            if the char is '(', '&', or '|', append it to currOp\n",
    "        #            else, append the wire number of it to currQ\n",
    "        # else, \n",
    "        #      while the most recent (last in the list) element of currOp doesn't become '('\n",
    "        #            pop the two most recent current qubits in currQ, and the first\n",
    "        #            element from helpQ (the output qubit for AND and OR), and the \n",
    "        #            current operation (i.e. '&' or '|')\n",
    "        #            ... and apply the quantum equivalent of AND/OR accordingly\n",
    "        #            followed by appending the output wire of AND/OR back to currQ\n",
    "        #      pop this opening bracket '(' that we just closed, from currOp\n",
    "\n",
    "    # returning the final outputs and the intial states that give those outputs\n",
    "    # wires 0, 1, 2, 3, ... hold final_output, a, b, c, ... respectively\n",
    "    return qml.counts(wires=list(range(vars+1))) # https://docs.pennylane.ai/en/stable/code/api/pennylane.counts.html"
   ]
  },
  {
   "cell_type": "code",
   "execution_count": 15,
   "id": "86baa557-e4d1-41a6-9415-c548ed0eca5d",
   "metadata": {},
   "outputs": [],
   "source": [
    "# Define the Solve function\n",
    "def Solve(exp, vars, ops):\n",
    "    # Initialize the qubits in superposition (Hadamard on all variable qubits)\n",
    "    for i in range(1, vars + 1):\n",
    "        qml.Hadamard(wires=i)\n",
    "    \n",
    "    # Lists to track helper qubits, current qubits, and operations\n",
    "    helpQ = list(range(vars + 1, vars + ops)) + [0]  # The output is stored in wire 0\n",
    "    currQ = []\n",
    "    currOp = []\n",
    "\n",
    "    for char in exp:\n",
    "        if char not in \")\":\n",
    "            if char in \"(&|\":\n",
    "                currOp.append(char)\n",
    "            elif char.isalpha():\n",
    "                currQ.append(qubit[char])  # Add variable's qubit wire number\n",
    "        else:\n",
    "            # Process until the matching '(' is found\n",
    "            while currOp and currOp[-1] != \"(\":\n",
    "                op = currOp.pop()\n",
    "                b = currQ.pop()\n",
    "                a = currQ.pop()\n",
    "                out = helpQ.pop(0)\n",
    "\n",
    "                if op == \"&\":\n",
    "                    # Apply Toffoli for AND: output in 'out' qubit\n",
    "                    qml.Toffoli(wires=[a, b, out])\n",
    "                elif op == \"|\":\n",
    "                    qml.PauliX(wires=a)\n",
    "                    qml.PauliX(wires=b)\n",
    "                    qml.Toffoli(wires=[a, b, out])\n",
    "                    qml.PauliX(wires=a)\n",
    "                    qml.PauliX(wires=b)\n",
    "                    qml.PauliX(wires=out)  # <-- This extra inversion turns NOR into OR\n",
    "\n",
    "                currQ.append(out)\n",
    "            currOp.pop()  # Remove the matching '('\n",
    "\n",
    "    # Return the count of results for wire 0 being 1\n",
    "    return qml.counts(wires=list(range(vars + 1)))"
   ]
  },
  {
   "cell_type": "code",
   "execution_count": 16,
   "id": "aada0767-0682-41ed-99b2-4040a3352572",
   "metadata": {},
   "outputs": [
    {
     "name": "stdout",
     "output_type": "stream",
     "text": [
      "(a|b) has 3 solutions.\n",
      "(a&b) has 1 solutions.\n",
      "((a&b)|c) has 5 solutions.\n",
      "((a|b)&((c&d)|e)) has 15 solutions.\n",
      "((((a|b)&c)|a)&((d&e&f)|(g|h|i))) has 285 solutions.\n"
     ]
    }
   ],
   "source": [
    "## The number of solutions to the expression to equal 1\n",
    "\n",
    "exp = [\"(a|b)\", \"(a&b)\", \"((a&b)|c)\", \"((a|b)&((c&d)|e))\", \"((((a|b)&c)|a)&((d&e&f)|(g|h|i)))\"]\n",
    "vars = [2, 2, 3, 5, 9]\n",
    "ops = [1, 1, 2, 4, 9]\n",
    "\n",
    "n_sols = [0] * 5\n",
    "\n",
    "for i in range(len(exp)):\n",
    "    dev = qml.device(name = \"default.qubit\", wires = vars[i] + ops[i], shots = 10000)\n",
    "    SOLVE = qml.QNode(Solve, dev)\n",
    "    state = SOLVE(exp[i], vars[i], ops[i])\n",
    "    for s in state.keys():\n",
    "        if s[0]=='1':       # The final output of our calculation is in wire 0\n",
    "            n_sols[i] += 1\n",
    "\n",
    "for i in range(len(exp)):\n",
    "    print(exp[i], \"has\", n_sols[i], \"solutions.\")"
   ]
  },
  {
   "cell_type": "code",
   "execution_count": 9,
   "id": "5e5d92f3-26b9-4b9b-928e-f312fb6c7824",
   "metadata": {},
   "outputs": [
    {
     "name": "stdout",
     "output_type": "stream",
     "text": [
      "Satisfying assignments for ((a|b)&((c&d)|e)) = 1:\n",
      "01001\n",
      "01011\n",
      "01101\n",
      "01110\n",
      "01111\n",
      "10001\n",
      "10011\n",
      "10101\n",
      "10110\n",
      "10111\n",
      "11001\n",
      "11011\n",
      "11101\n",
      "11110\n",
      "11111\n",
      "Total number of satisfying assignments: 15\n"
     ]
    }
   ],
   "source": [
    "# TODO: Print the 15 solutions returned for expression (4) to equal 1\n",
    "@qml.qnode(dev)\n",
    "def circuit():\n",
    "    return Solve(\"((a|b)&((c&d)|e))\", 5, 4)\n",
    "\n",
    "# Run the circuit and get the counts.\n",
    "counts = circuit()\n",
    "\n",
    "# The measurement is performed on wires [0,1,2,3,4,5]:\n",
    "# - The first bit (index 0) is the output qubit.\n",
    "# - The remaining bits (indices 1–5) represent the variable assignments for a, b, c, d, e.\n",
    "# We will extract and print only those assignments where the output is '1'.\n",
    "\n",
    "satisfying_assignments = set()\n",
    "\n",
    "for outcome, cnt in counts.items():\n",
    "    # outcome is a bitstring of length 6; the first character corresponds to wire 0.\n",
    "    if outcome[0] == '1':\n",
    "        # Bits 1–5 represent the assignment for a, b, c, d, e.\n",
    "        satisfying_assignments.add(outcome[1:])\n",
    "\n",
    "print(\"Satisfying assignments for ((a|b)&((c&d)|e)) = 1:\")\n",
    "for sol in sorted(satisfying_assignments):\n",
    "    print(sol)\n",
    "    \n",
    "print(\"Total number of satisfying assignments:\", len(satisfying_assignments))"
   ]
  },
  {
   "cell_type": "code",
   "execution_count": 12,
   "id": "81753fa1-ef00-4b8c-b991-6e7676171e3e",
   "metadata": {},
   "outputs": [
    {
     "data": {
      "image/png": "[encoded data removed]",
      "text/plain": [
       "<Figure size 800x600 with 1 Axes>"
      ]
     },
     "metadata": {},
     "output_type": "display_data"
    }
   ],
   "source": [
    "# TODO: Draw the circuit for expression (3)\n",
    "import matplotlib.pyplot as plt\n",
    "# Expression (3): \"((a&b)|c)\"\n",
    "# We have 3 variable qubits (wires 1,2,3), one helper for AND (wire 4), and wire 0 as the output.\n",
    "dev3 = qml.device(\"default.qubit\", wires=5)\n",
    "\n",
    "@qml.qnode(dev3)\n",
    "def circuit3():\n",
    "    return Solve(\"((a&b)|c)\", 3, 2)\n",
    "\n",
    "# Draw the circuit for expression (3)\n",
    "#drawn_circuit = qml.draw(circuit3)\n",
    "#print(drawn_circuit())\n",
    "\n",
    "qml.draw_mpl(circuit3)()\n",
    "plt.show()"
   ]
  },
  {
   "cell_type": "code",
   "execution_count": null,
   "id": "7330652e-6705-471b-86fa-5cf6b49a4161",
   "metadata": {},
   "outputs": [],
   "source": []
  }
 ],
 "metadata": {
  "kernelspec": {
   "display_name": "Python 3 (ipykernel)",
   "language": "python",
   "name": "python3"
  },
  "language_info": {
   "codemirror_mode": {
    "name": "ipython",
    "version": 3
   },
   "file_extension": ".py",
   "mimetype": "text/x-python",
   "name": "python",
   "nbconvert_exporter": "python",
   "pygments_lexer": "ipython3",
   "version": "3.13.1"
  }
 },
 "nbformat": 4,
 "nbformat_minor": 5
}
