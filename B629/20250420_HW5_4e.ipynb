{
 "cells": [
  {
   "cell_type": "code",
   "execution_count": 4,
   "id": "3311f43a-354d-4628-8da3-116578a5b44b",
   "metadata": {},
   "outputs": [
    {
     "data": {
      "image/png": "[encoded data removed]",
      "text/plain": [
       "<Figure size 640x480 with 1 Axes>"
      ]
     },
     "metadata": {},
     "output_type": "display_data"
    },
    {
     "name": "stdout",
     "output_type": "stream",
     "text": [
      "Top results (sorted):\n",
      "128 → 288 times\n",
      "192 → 240 times\n",
      " 64 → 239 times\n",
      "  0 → 233 times\n"
     ]
    }
   ],
   "source": [
    "import pennylane as qml\n",
    "from pennylane import numpy as np\n",
    "import matplotlib.pyplot as plt\n",
    "from collections import Counter\n",
    "\n",
    "NUM_TOTAL_QUBITS = 12\n",
    "NUM_CONTROL_QUBITS = 8\n",
    "TARGET_QUBITS = [8, 9, 10, 11]\n",
    "REPEATS = 1000\n",
    "\n",
    "def build_full_U_xmodN(x=2, N=15):\n",
    "    dim = 2**12\n",
    "    U = np.eye(dim, dtype=complex)\n",
    "\n",
    "    for a in range(2**8):\n",
    "        result = pow(x, a, N)\n",
    "        for t in range(2**4):\n",
    "            idx_in = (a << 4) | t\n",
    "            idx_out = (a << 4) | (result if t == 1 else t)\n",
    "            if idx_in != idx_out:\n",
    "                U[idx_out, idx_in] = 1\n",
    "                U[idx_in, idx_in] = 0\n",
    "\n",
    "    return U\n",
    "\n",
    "def inverse_qft(wires):\n",
    "    n = len(wires)\n",
    "    for i in range(n // 2):\n",
    "        qml.SWAP(wires=[wires[i], wires[n - i - 1]])\n",
    "    for i in reversed(range(n)):\n",
    "        for j in reversed(range(i + 1, n)):\n",
    "            qml.ctrl(qml.PhaseShift(-np.pi / 2 ** (j - i), wires=wires[j]), control=wires[i])\n",
    "        qml.Hadamard(wires=wires[i])\n",
    "\n",
    "dev = qml.device(\"default.qubit\", wires=NUM_TOTAL_QUBITS, shots=REPEATS)\n",
    "\n",
    "U = build_full_U_xmodN()\n",
    "\n",
    "@qml.qnode(dev)\n",
    "def shor_full_circuit():\n",
    "    for i in range(NUM_CONTROL_QUBITS):\n",
    "        qml.Hadamard(wires=i)\n",
    "\n",
    "    qml.PauliX(wires=11)\n",
    "\n",
    "    qml.QubitUnitary(U, wires=range(NUM_TOTAL_QUBITS))\n",
    "\n",
    "    inverse_qft(list(range(NUM_CONTROL_QUBITS)))\n",
    "\n",
    "    return qml.sample(wires=range(NUM_TOTAL_QUBITS))\n",
    "\n",
    "samples = shor_full_circuit()\n",
    "bitstrings = [\"\".join(str(bit) for bit in sample[:NUM_CONTROL_QUBITS]) for sample in samples]\n",
    "counts = Counter(bitstrings)\n",
    "decimal_counts = Counter(int(b, 2) for b in bitstrings)\n",
    "\n",
    "# Plot\n",
    "plt.bar(decimal_counts.keys(), decimal_counts.values())\n",
    "plt.xlabel(\"Decimal value of first 8 bits\")\n",
    "plt.ylabel(\"Frequency\")\n",
    "plt.title(\"Measurement outcomes (first 8 bits only)\")\n",
    "plt.show()\n",
    "\n",
    "# Print top results\n",
    "print(\"Top results (sorted):\")\n",
    "for value, count in decimal_counts.most_common():\n",
    "    print(f\"{value:3d} → {count} times\")\n"
   ]
  },
  {
   "cell_type": "code",
   "execution_count": 6,
   "id": "a8c3357a-1334-4fb6-9a9a-3a7b6051d642",
   "metadata": {},
   "outputs": [
    {
     "name": "stdout",
     "output_type": "stream",
     "text": [
      "Measured value: 0 → Fraction: 0 → Candidate r: 1\n",
      "Measured value: 64 → Fraction: 1/4 → Candidate r: 4\n",
      "Measured value: 128 → Fraction: 1/2 → Candidate r: 2\n",
      "Measured value: 192 → Fraction: 3/4 → Candidate r: 4\n",
      "r: [1, 2, 4]\n"
     ]
    }
   ],
   "source": [
    "from fractions import Fraction\n",
    "\n",
    "def find_candidate_rs(measured_values, n_bits):\n",
    "    candidates = set()\n",
    "    for value in measured_values:\n",
    "        frac = Fraction(value, 2 ** n_bits).limit_denominator(256)\n",
    "        r = frac.denominator\n",
    "        candidates.add(r)\n",
    "        print(f\"Measured value: {value} → Fraction: {frac} → Candidate r: {r}\")\n",
    "    return sorted(candidates)\n",
    "\n",
    "top_values = [0, 64, 128, 192]\n",
    "n_bits = 8\n",
    "\n",
    "candidate_rs = find_candidate_rs(top_values, n_bits)\n",
    "print(\"r:\", candidate_rs)\n"
   ]
  },
  {
   "cell_type": "code",
   "execution_count": 5,
   "id": "dcc5b456-85c2-4cf9-ac2a-059389c56d90",
   "metadata": {},
   "outputs": [
    {
     "name": "stdout",
     "output_type": "stream",
     "text": [
      "Nontrivial factors: (3, 5)\n"
     ]
    }
   ],
   "source": [
    "import math\n",
    "\n",
    "def shor_find_factors(x, N, r):    \n",
    "    if r % 2 != 0:\n",
    "        print(\"Period r must be even. Try again.\")\n",
    "        return None\n",
    "\n",
    "    xr2 = pow(x, r // 2, N)\n",
    "    if xr2 == N - 1 or xr2 == 1:\n",
    "        print(\"Trivial factor found; try a different x.\")\n",
    "        return None\n",
    "\n",
    "    factor1 = math.gcd(xr2 - 1, N)\n",
    "    factor2 = math.gcd(xr2 + 1, N)\n",
    "\n",
    "    if factor1 in (1, N) or factor2 in (1, N):\n",
    "        print(\"Only trivial factors found.\")\n",
    "        return None\n",
    "\n",
    "    return factor1, factor2\n",
    "\n",
    "factors = shor_find_factors(x=2, N=15, r=4)\n",
    "print(\"Nontrivial factors:\", factors)\n"
   ]
  },
  {
   "cell_type": "code",
   "execution_count": null,
   "id": "25482aaf-40fe-4daf-b5ae-281c2c00795d",
   "metadata": {},
   "outputs": [],
   "source": []
  }
 ],
 "metadata": {
  "kernelspec": {
   "display_name": "Python (venv)",
   "language": "python",
   "name": "venv"
  },
  "language_info": {
   "codemirror_mode": {
    "name": "ipython",
    "version": 3
   },
   "file_extension": ".py",
   "mimetype": "text/x-python",
   "name": "python",
   "nbconvert_exporter": "python",
   "pygments_lexer": "ipython3",
   "version": "3.13.1"
  }
 },
 "nbformat": 4,
 "nbformat_minor": 5
}
