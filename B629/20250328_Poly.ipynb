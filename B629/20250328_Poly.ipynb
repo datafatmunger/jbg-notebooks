{
 "cells": [
  {
   "cell_type": "code",
   "execution_count": 5,
   "id": "05d82393-a852-463d-9300-fff2b23c48b7",
   "metadata": {},
   "outputs": [],
   "source": [
    "from plyfile import PlyData\n",
    "import numpy as np\n",
    "\n",
    "def read_ply(filename):\n",
    "    \"\"\"Reads a PLY file and returns the x, y, and z coordinates as a NumPy array.\"\"\"\n",
    "    plydata = PlyData.read(filename)\n",
    "    # Access the first element (vertices) directly\n",
    "    vertices = plydata['vertex']\n",
    "    x = vertices['x']\n",
    "    y = vertices['y']\n",
    "    z = vertices['z']\n",
    "    return np.column_stack((x, y, z))"
   ]
  },
  {
   "cell_type": "code",
   "execution_count": 8,
   "id": "cb30bd7e-d086-44cf-b5e1-ed1216440503",
   "metadata": {},
   "outputs": [
    {
     "name": "stdout",
     "output_type": "stream",
     "text": [
      "[[-1.1682616e-02  3.2226269e+00 -7.1690440e+00]\n",
      " [ 3.0156495e-02  3.2942004e+00 -7.0903602e+00]\n",
      " [-5.0173581e-02  3.2012017e+00 -7.1605921e+00]\n",
      " ...\n",
      " [ 4.9901471e-01 -1.8212005e+00 -1.2231232e+01]\n",
      " [ 4.9184832e-01 -1.7516638e+00 -1.2238552e+01]\n",
      " [ 4.9593040e-01 -1.8855141e+00 -1.2452033e+01]]\n",
      "375513\n"
     ]
    }
   ],
   "source": [
    "coors = read_ply(\"points0.ply\")\n",
    "print(coors)\n",
    "print(coors.size)"
   ]
  },
  {
   "cell_type": "code",
   "execution_count": null,
   "id": "25b5900b-92a8-48ab-9ca0-dd9b443252a4",
   "metadata": {},
   "outputs": [],
   "source": []
  }
 ],
 "metadata": {
  "kernelspec": {
   "display_name": "Python (venv)",
   "language": "python",
   "name": "venv"
  },
  "language_info": {
   "codemirror_mode": {
    "name": "ipython",
    "version": 3
   },
   "file_extension": ".py",
   "mimetype": "text/x-python",
   "name": "python",
   "nbconvert_exporter": "python",
   "pygments_lexer": "ipython3",
   "version": "3.13.1"
  }
 },
 "nbformat": 4,
 "nbformat_minor": 5
}
