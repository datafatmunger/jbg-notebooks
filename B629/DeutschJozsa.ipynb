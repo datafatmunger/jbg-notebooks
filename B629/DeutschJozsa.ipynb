{
 "cells": [
  {
   "cell_type": "code",
   "execution_count": 6,
   "id": "de557ec8-4e47-4055-839e-2658e923eeb8",
   "metadata": {
    "tags": []
   },
   "outputs": [
    {
     "ename": "ModuleNotFoundError",
     "evalue": "No module named 'pennylane'",
     "output_type": "error",
     "traceback": [
      "\u001b[1;31m---------------------------------------------------------------------------\u001b[0m",
      "\u001b[1;31mModuleNotFoundError\u001b[0m                       Traceback (most recent call last)",
      "Cell \u001b[1;32mIn[6], line 1\u001b[0m\n\u001b[1;32m----> 1\u001b[0m \u001b[38;5;28;01mimport\u001b[39;00m \u001b[38;5;21;01mpennylane\u001b[39;00m \u001b[38;5;28;01mas\u001b[39;00m \u001b[38;5;21;01mqml\u001b[39;00m\n\u001b[0;32m      2\u001b[0m \u001b[38;5;28;01mimport\u001b[39;00m \u001b[38;5;21;01mmatplotlib\u001b[39;00m\u001b[38;5;21;01m.\u001b[39;00m\u001b[38;5;21;01mpyplot\u001b[39;00m \u001b[38;5;28;01mas\u001b[39;00m \u001b[38;5;21;01mplt\u001b[39;00m\n\u001b[0;32m      3\u001b[0m \u001b[38;5;28;01mimport\u001b[39;00m \u001b[38;5;21;01mnumpy\u001b[39;00m \u001b[38;5;28;01mas\u001b[39;00m \u001b[38;5;21;01mnp\u001b[39;00m\n",
      "\u001b[1;31mModuleNotFoundError\u001b[0m: No module named 'pennylane'"
     ]
    }
   ],
   "source": [
    "import pennylane as qml\n",
    "import matplotlib.pyplot as plt\n",
    "import numpy as np\n",
    "dev = qml.device(\"default.qubit\", wires = 4)"
   ]
  },
  {
   "cell_type": "code",
   "execution_count": null,
   "id": "df57d67d-41b3-42bb-a9f9-0c1910f1bd70",
   "metadata": {
    "tags": []
   },
   "outputs": [],
   "source": [
    "def Uf(type):\n",
    "    if type == 'all one':\n",
    "        qml.PauliX(wires = 3)\n",
    "    elif type == 'balanced':\n",
    "        qml.PauliX(0)\n",
    "        qml.CNOT([0,3])\n",
    "        qml.PauliX(0)\n",
    "        qml.CNOT([1, 3])\n",
    "        qml.PauliX(wires = 2)\n",
    "        qml.CNOT(wires = [2,3])\n",
    "        qml.PauliX(wires = 2)\n",
    "    \n",
    "@qml.qnode(dev)\n",
    "def circuit(type):\n",
    "    qml.Hadamard(wires = 0)\n",
    "    qml.Hadamard(wires = 1)\n",
    "    qml.Hadamard(wires = 2)\n",
    "    qml.PauliX(wires = 3)\n",
    "    qml.Hadamard(wires = 3)\n",
    "    \n",
    "    Uf(type)\n",
    "    \n",
    "    qml.Hadamard(wires = 0)\n",
    "    qml.Hadamard(wires = 1)\n",
    "    qml.Hadamard(wires = 2)\n",
    "    return qml.probs([0, 1, 2])\n",
    "    "
   ]
  },
  {
   "cell_type": "code",
   "execution_count": null,
   "id": "3e5d6a08-ccb7-4fc0-a1dc-6aa20ff9772a",
   "metadata": {
    "tags": []
   },
   "outputs": [],
   "source": [
    "type ='all one'  #'all one' 'all zero' 'balanced'\n",
    "\n",
    "\n",
    "fig, ax = qml.draw_mpl(circuit, style = 'pennylane')(type)\n",
    "fig.suptitle(\"Deutsch-Jozsa with \" + type + \" function\" , fontsize=\"xx-large\")\n",
    "plt.show()\n",
    "\n",
    "\n",
    "probs = circuit(type);\n",
    "print('probabilities=', probs)"
   ]
  },
  {
   "cell_type": "code",
   "execution_count": null,
   "id": "86980721-6938-4cdf-a0b4-3052c19db47b",
   "metadata": {},
   "outputs": [],
   "source": [
    "D"
   ]
  }
 ],
 "metadata": {
  "kernelspec": {
   "display_name": "Python 3",
   "language": "python",
   "name": "python3"
  },
  "language_info": {
   "codemirror_mode": {
    "name": "ipython",
    "version": 3
   },
   "file_extension": ".py",
   "mimetype": "text/x-python",
   "name": "python",
   "nbconvert_exporter": "python",
   "pygments_lexer": "ipython3",
   "version": "3.11.2"
  }
 },
 "nbformat": 4,
 "nbformat_minor": 5
}
