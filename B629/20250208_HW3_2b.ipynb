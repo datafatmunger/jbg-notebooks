{
 "cells": [
  {
   "cell_type": "code",
   "execution_count": 3,
   "id": "318e13b0-60c2-4bea-bad1-a02f2326d10f",
   "metadata": {},
   "outputs": [
    {
     "name": "stdout",
     "output_type": "stream",
     "text": [
      "State after applying CNOT with ancilla prepared in |–⟩:\n",
      "[ 0.65328148+0.j -0.65328148+0.j -0.27059805+0.j  0.27059805+0.j]\n",
      "\n",
      "Expected state (after applying Z on the control qubit):\n",
      "[ 0.65328148 -0.65328148 -0.27059805  0.27059805]\n"
     ]
    }
   ],
   "source": [
    "import pennylane as qml\n",
    "from pennylane import numpy as np\n",
    "\n",
    "# Create a device with 2 qubits\n",
    "dev = qml.device('default.qubit', wires=2)\n",
    "\n",
    "@qml.qnode(dev)\n",
    "def z_via_cnot_circuit(phi):\n",
    "    # Prepare the control qubit (wire 0) in an arbitrary state:\n",
    "    # |ψ⟩ = cos(φ/2)|0⟩ + sin(φ/2)|1⟩\n",
    "    qml.RY(phi, wires=0)\n",
    "    \n",
    "    # Prepare the ancilla (wire 1) in state |–⟩ = H|1⟩.\n",
    "    # Start with |0⟩, then flip to |1⟩ and apply Hadamard.\n",
    "    qml.PauliX(wires=1)\n",
    "    qml.Hadamard(wires=1)\n",
    "    \n",
    "    # Apply CNOT with qubit 0 as control and qubit 1 as target.\n",
    "    qml.CNOT(wires=[0, 1])\n",
    "    \n",
    "    # Return the full 2-qubit state\n",
    "    return qml.state()\n",
    "\n",
    "# Set a parameter for the control qubit rotation\n",
    "phi = np.pi / 4  # Example angle\n",
    "\n",
    "# Run the circuit\n",
    "state = z_via_cnot_circuit(phi)\n",
    "print(\"State after applying CNOT with ancilla prepared in |–⟩:\")\n",
    "print(state)\n",
    "\n",
    "# To verify the action, we compute the expected state.\n",
    "# The initial control state is |ψ⟩ = cos(φ/2)|0⟩ + sin(φ/2)|1⟩,\n",
    "# and after applying Z we get: cos(φ/2)|0⟩ - sin(φ/2)|1⟩.\n",
    "# The ancilla remains in |–⟩ = (|0⟩ - |1⟩)/√2.\n",
    "control_after_Z = np.array([np.cos(phi/2), -np.sin(phi/2)])\n",
    "ancilla_state = (1/np.sqrt(2)) * np.array([1, -1])\n",
    "expected_state = np.kron(control_after_Z, ancilla_state)\n",
    "\n",
    "print(\"\\nExpected state (after applying Z on the control qubit):\")\n",
    "print(expected_state)\n",
    "\n",
    "\n"
   ]
  },
  {
   "cell_type": "code",
   "execution_count": null,
   "id": "67cc2fad-5cf0-414f-ae46-fecd99c748ac",
   "metadata": {},
   "outputs": [],
   "source": []
  }
 ],
 "metadata": {
  "kernelspec": {
   "display_name": "Python (venv)",
   "language": "python",
   "name": "venv"
  },
  "language_info": {
   "codemirror_mode": {
    "name": "ipython",
    "version": 3
   },
   "file_extension": ".py",
   "mimetype": "text/x-python",
   "name": "python",
   "nbconvert_exporter": "python",
   "pygments_lexer": "ipython3",
   "version": "3.13.1"
  }
 },
 "nbformat": 4,
 "nbformat_minor": 5
}
