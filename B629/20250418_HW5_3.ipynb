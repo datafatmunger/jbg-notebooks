{
 "cells": [
  {
   "cell_type": "code",
   "execution_count": 1,
   "id": "03cac1f6-4265-4cf1-979e-192dcc55e18e",
   "metadata": {},
   "outputs": [
    {
     "name": "stdout",
     "output_type": "stream",
     "text": [
      "Measured bits: [1 0 1] => Decimal: 5\n",
      "Measured bits: [1 0 1] => Decimal: 5\n",
      "Measured bits: [1 0 1] => Decimal: 5\n",
      "Measured bits: [1 0 1] => Decimal: 5\n",
      "Measured bits: [1 0 1] => Decimal: 5\n",
      "Measured bits: [1 0 1] => Decimal: 5\n",
      "Measured bits: [1 0 1] => Decimal: 5\n",
      "Measured bits: [1 0 1] => Decimal: 5\n",
      "Measured bits: [1 0 1] => Decimal: 5\n",
      "Measured bits: [1 0 1] => Decimal: 5\n"
     ]
    }
   ],
   "source": [
    "import pennylane as qml\n",
    "from pennylane import numpy as np\n",
    "\n",
    "# Parameters\n",
    "t = 3                      # number of counting qubits\n",
    "alpha = 5 / 8              # phase = 0.101 (binary)\n",
    "wires = list(range(t + 1)) # counting qubits + target\n",
    "\n",
    "dev = qml.device(\"default.qubit\", wires=t+1, shots=1)\n",
    "\n",
    "def controlled_U(power):\n",
    "    \"\"\"Returns a controlled phase gate: e^{2pi i * alpha * 2^power}\"\"\"\n",
    "    angle = 2 * np.pi * alpha * (2 ** power)\n",
    "    return qml.ctrl(qml.PhaseShift, control=wires[power])(angle, wires=t)\n",
    "\n",
    "@qml.qnode(dev)\n",
    "def phase_estimation_circuit():\n",
    "    # Step 1: Initialize |0...0>|u> where |u> is an eigenstate\n",
    "    # We'll use |1> as eigenstate of PhaseShift\n",
    "    qml.PauliX(wires[t])\n",
    "\n",
    "    # Step 2: Apply Hadamards to counting qubits\n",
    "    for i in range(t):\n",
    "        qml.Hadamard(wires=i)\n",
    "\n",
    "    # Step 3: Apply controlled-U^{2^j}\n",
    "    for i in range(t):\n",
    "        angle = 2 * np.pi * alpha * (2 ** (t - 1 - i))\n",
    "        qml.ctrl(qml.PhaseShift, control=wires[i])(angle, wires=t)\n",
    "\n",
    "    # Step 4: Apply inverse QFT\n",
    "    qml.adjoint(qml.templates.QFT)(wires=wires[:t])\n",
    "\n",
    "    # Step 5: Measure\n",
    "    return qml.sample(wires=range(t))\n",
    "\n",
    "# Run the circuit\n",
    "samples = [phase_estimation_circuit() for _ in range(10)]\n",
    "for s in samples:\n",
    "    print(\"Measured bits:\", s, \"=> Decimal:\", int(\"\".join(str(b) for b in s), 2))\n"
   ]
  },
  {
   "cell_type": "code",
   "execution_count": null,
   "id": "236cde7f-96d3-4917-b741-cdb8c1d7839f",
   "metadata": {},
   "outputs": [],
   "source": []
  }
 ],
 "metadata": {
  "kernelspec": {
   "display_name": "Python (venv)",
   "language": "python",
   "name": "venv"
  },
  "language_info": {
   "codemirror_mode": {
    "name": "ipython",
    "version": 3
   },
   "file_extension": ".py",
   "mimetype": "text/x-python",
   "name": "python",
   "nbconvert_exporter": "python",
   "pygments_lexer": "ipython3",
   "version": "3.13.1"
  }
 },
 "nbformat": 4,
 "nbformat_minor": 5
}
