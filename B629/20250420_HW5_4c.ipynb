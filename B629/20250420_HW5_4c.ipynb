{
 "cells": [
  {
   "cell_type": "code",
   "execution_count": 1,
   "id": "a51771b7-68c6-4a4f-86a9-bd8ad659129f",
   "metadata": {},
   "outputs": [],
   "source": [
    "import pennylane as qml\n",
    "from pennylane import numpy as np\n",
    "\n",
    "def modexp_perm(m, modulus=15, base=2, nbits=4):\n",
    "    return {a: (pow(base, m, modulus) * a) % modulus for a in range(2**nbits)}\n",
    "\n",
    "def make_U_m(m, nbits=4):\n",
    "    perm = modexp_perm(m, modulus=15, base=2, nbits=nbits)\n",
    "    dim = 2**nbits\n",
    "    U = np.zeros((dim, dim), dtype=complex)\n",
    "    for a, b in perm.items():\n",
    "        U[b, a] = 1\n",
    "    return U\n",
    "\n",
    "def compute_expected_index(result):\n",
    "    bitstring = f\"1{result:04b}00\"\n",
    "    return int(bitstring, 2)\n",
    "\n",
    "def controlled_modular_multiplication(m, control_wire, target_wires):\n",
    "    U = make_U_m(m, nbits=len(target_wires))\n",
    "    qml.ControlledQubitUnitary(U, control_wires=[control_wire], wires=target_wires)"
   ]
  },
  {
   "cell_type": "code",
   "execution_count": 2,
   "id": "b5e8ba66-beeb-4a91-9f8b-8ad6fe660941",
   "metadata": {},
   "outputs": [],
   "source": [
    "def verify_controlled_modular_multiplication(m):\n",
    "    dev = qml.device(\"default.qubit\", wires=7)  # 1 control + 4 target + 2 ancilla\n",
    "\n",
    "    @qml.qnode(dev)\n",
    "    def circuit():\n",
    "        # prepare |1⟩_C ⊗ |1⟩_T ⊗ |00⟩_ancilla\n",
    "        qml.PauliX(wires=0)\n",
    "        qml.BasisState(np.array([0, 0, 0, 1]), wires=[1, 2, 3, 4])\n",
    "        # apply controlled U^m\n",
    "        controlled_modular_multiplication(\n",
    "            m, control_wire=0, target_wires=[1, 2, 3, 4]\n",
    "        )\n",
    "        return qml.state()\n",
    "\n",
    "    state = circuit()\n",
    "    result = pow(2, m, 15)\n",
    "    expected_index = compute_expected_index(result)\n",
    "    probs = np.abs(state) ** 2\n",
    "    got_index = int(np.argmax(probs))\n",
    "\n",
    "    print(f\"CU^{m} |1⟩|1⟩ → |1⟩|{result}⟩ (expected index {expected_index}, got {got_index})\")\n",
    "    print(f\"Probability at expected index: {probs[expected_index]:.6f}\")\n",
    "    return got_index == expected_index"
   ]
  },
  {
   "cell_type": "code",
   "execution_count": 3,
   "id": "c7777191-379e-49e1-ac76-c965a9a9bb77",
   "metadata": {},
   "outputs": [
    {
     "name": "stdout",
     "output_type": "stream",
     "text": [
      "CU^0 |1⟩|1⟩ → |1⟩|1⟩ (expected index 68, got 68)\n",
      "Probability at expected index: 1.000000\n",
      "CU^1 |1⟩|1⟩ → |1⟩|2⟩ (expected index 72, got 72)\n",
      "Probability at expected index: 1.000000\n",
      "CU^2 |1⟩|1⟩ → |1⟩|4⟩ (expected index 80, got 80)\n",
      "Probability at expected index: 1.000000\n",
      "CU^3 |1⟩|1⟩ → |1⟩|8⟩ (expected index 96, got 96)\n",
      "Probability at expected index: 1.000000\n",
      "All tests pass!\n"
     ]
    }
   ],
   "source": [
    "# Run the check for m=0,1,2,3\n",
    "for m in range(4):\n",
    "    assert verify_controlled_modular_multiplication(m)\n",
    "print(\"All tests pass!\")"
   ]
  },
  {
   "cell_type": "code",
   "execution_count": null,
   "id": "50ea59e5-d82f-49d3-8573-fc0aec5acae4",
   "metadata": {},
   "outputs": [],
   "source": []
  }
 ],
 "metadata": {
  "kernelspec": {
   "display_name": "Python (venv)",
   "language": "python",
   "name": "venv"
  },
  "language_info": {
   "codemirror_mode": {
    "name": "ipython",
    "version": 3
   },
   "file_extension": ".py",
   "mimetype": "text/x-python",
   "name": "python",
   "nbconvert_exporter": "python",
   "pygments_lexer": "ipython3",
   "version": "3.13.1"
  }
 },
 "nbformat": 4,
 "nbformat_minor": 5
}
