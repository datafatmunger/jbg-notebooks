{
 "cells": [
  {
   "cell_type": "markdown",
   "id": "99d98c06-9e3b-4137-990f-17ba1f282887",
   "metadata": {},
   "source": [
    "NOTE: I'm providing a 3 implementations below with increasing complexity because if you only use the standard circuit that gives you p(0) = cos²(π·α), there’s an inherent ambiguity. This function is symmetric, meaning it can’t distinguish between α and 1 – α. The circuit “sees” only the effective phase modulo 1, and for any measurement you get two possible α values (one in [0, 0.5] and its complement in [0.5, 1]).\n",
    "\n",
    "To resolve this ambiguity and find α uniquely, one would need to add an additional measurement that can capture the sign (or full phase) information. One approach is to perform an extra measurement—such as a tomography-like measurement that obtains the expectation values of both Pauli‑X and Pauli‑Y on the control qubit—to reconstruct the full phase unambiguously."
   ]
  },
  {
   "cell_type": "code",
   "execution_count": 7,
   "id": "5d97ab43-b45c-4d5e-8293-20f50da41a43",
   "metadata": {},
   "outputs": [
    {
     "name": "stdout",
     "output_type": "stream",
     "text": [
      "True alpha: 0.9138306685445374\n",
      "Estimated probability of measuring 0: 0.9269\n",
      "Estimated alpha: 0.08714606739490566\n"
     ]
    }
   ],
   "source": [
    "import pennylane as qml\n",
    "import numpy as np\n",
    "\n",
    "alpha = np.random.uniform(0, np.pi/2)\n",
    "print(\"True alpha:\", alpha)\n",
    "\n",
    "dev = qml.device(\"default.qubit\", wires=2, shots=10000)\n",
    "\n",
    "@qml.qnode(dev)\n",
    "def phase_estimation_circuit(alpha):\n",
    "    qml.PauliX(wires=1)\n",
    "    qml.Hadamard(wires=0)\n",
    "    qml.CPhase(2 * np.pi * alpha, wires=[0, 1])\n",
    "    qml.Hadamard(wires=0)\n",
    "    return qml.sample(wires=0)\n",
    "\n",
    "samples = phase_estimation_circuit(alpha)\n",
    "\n",
    "p0 = np.mean(samples == 0)\n",
    "print(\"Estimated probability of measuring 0:\", p0)\n",
    "\n",
    "alpha_est = np.arccos(np.sqrt(p0)) / np.pi\n",
    "print(\"Estimated alpha:\", alpha_est)\n"
   ]
  },
  {
   "cell_type": "code",
   "execution_count": 2,
   "id": "82e284c5-7229-428f-83e3-d0d364980763",
   "metadata": {},
   "outputs": [
    {
     "name": "stdout",
     "output_type": "stream",
     "text": [
      "Effective alpha (alpha mod 1): 0.3785992634402485\n",
      "Estimated probability of measuring 0: 0.143\n",
      "Estimated effective alpha from the circuit could be either:\n",
      "Option 1 (direct inversion): 0.37655918158110135\n",
      "Option 2 (complement): 0.6234408184188986\n"
     ]
    }
   ],
   "source": [
    "import pennylane as qml\n",
    "import numpy as np\n",
    "\n",
    "alpha = np.random.uniform(0, np.pi/2)\n",
    "\n",
    "alpha_effective = alpha % 1\n",
    "print(\"Effective alpha (alpha mod 1):\", alpha_effective)\n",
    "\n",
    "dev = qml.device(\"default.qubit\", wires=2, shots=1000)\n",
    "\n",
    "@qml.qnode(dev)\n",
    "def phase_estimation_circuit(alpha):\n",
    "    qml.PauliX(wires=1)\n",
    "    qml.Hadamard(wires=0)\n",
    "    qml.CPhase(2 * np.pi * alpha, wires=[0, 1])\n",
    "    qml.Hadamard(wires=0)\n",
    "    return qml.sample(wires=0)\n",
    "\n",
    "samples = phase_estimation_circuit(alpha)\n",
    "p0 = np.mean(samples == 0)\n",
    "print(\"Estimated probability of measuring 0:\", p0)\n",
    "\n",
    "alpha_est = np.arccos(np.sqrt(p0)) / np.pi\n",
    "alpha_alt = 1 - alpha_est\n",
    "\n",
    "print(\"Estimated effective alpha from the circuit could be either:\")\n",
    "print(\"Option 1 (direct inversion):\", alpha_est)\n",
    "print(\"Option 2 (complement):\", alpha_alt)\n"
   ]
  },
  {
   "cell_type": "code",
   "execution_count": 3,
   "id": "bc51d6a5-111a-4af7-99df-488fc39966a1",
   "metadata": {},
   "outputs": [
    {
     "name": "stdout",
     "output_type": "stream",
     "text": [
      "True alpha: 1.2864672954615528\n",
      "Effective alpha (alpha mod 1): 0.2864672954615528\n",
      "\n",
      "Standard circuit:\n",
      "Estimated probability of measuring 0: 0.358\n",
      "Estimated effective alpha from p(0): 0.2958307862646798\n",
      "Complementary possibility: 0.7041692137353202\n",
      "\n",
      "Tomography circuit:\n",
      "⟨X⟩ = -0.238  ⟨Y⟩ = 0.974\n",
      "Extracted phase (phi): 1.810453317856403\n",
      "Estimated effective alpha from tomography: 0.2881425947739689\n"
     ]
    }
   ],
   "source": [
    "import pennylane as qml\n",
    "import numpy as np\n",
    "\n",
    "alpha = np.random.uniform(0, np.pi/2)\n",
    "print(\"True alpha:\", alpha)\n",
    "\n",
    "alpha_effective = alpha % 1\n",
    "print(\"Effective alpha (alpha mod 1):\", alpha_effective)\n",
    "\n",
    "dev_standard = qml.device(\"default.qubit\", wires=2, shots=1000)\n",
    "# Tomography device to extract phase information\n",
    "dev_tomo = qml.device(\"default.qubit\", wires=2, shots=1000)\n",
    "\n",
    "@qml.qnode(dev_standard)\n",
    "def standard_circuit(alpha):\n",
    "    qml.PauliX(wires=1)\n",
    "    qml.Hadamard(wires=0)\n",
    "    qml.CPhase(2 * np.pi * alpha, wires=[0, 1])\n",
    "    qml.Hadamard(wires=0)\n",
    "    return qml.sample(wires=0)\n",
    "\n",
    "@qml.qnode(dev_tomo)\n",
    "def tomography_circuit(alpha):\n",
    "    qml.PauliX(wires=1)\n",
    "    qml.Hadamard(wires=0)\n",
    "    qml.CPhase(2 * np.pi * alpha, wires=[0, 1])\n",
    "    exp_x = qml.expval(qml.PauliX(0))\n",
    "    exp_y = qml.expval(qml.PauliY(0))\n",
    "    return exp_x, exp_y\n",
    "\n",
    "samples = standard_circuit(alpha)\n",
    "p0 = np.mean(samples == 0)\n",
    "alpha_est_standard = np.arccos(np.sqrt(p0)) / np.pi\n",
    "print(\"\\nStandard circuit:\")\n",
    "print(\"Estimated probability of measuring 0:\", p0)\n",
    "print(\"Estimated effective alpha from p(0):\", alpha_est_standard)\n",
    "print(\"Complementary possibility:\", 1 - alpha_est_standard)\n",
    "\n",
    "# Run the tomography circuit to extract the full phase\n",
    "expX, expY = tomography_circuit(alpha)\n",
    "phi = np.arctan2(expY, expX)\n",
    "phi = phi if phi >= 0 else (phi + 2 * np.pi)\n",
    "alpha_est_tomo = phi / (2 * np.pi)\n",
    "print(\"\\nTomography circuit:\")\n",
    "print(\"⟨X⟩ =\", expX, \" ⟨Y⟩ =\", expY)\n",
    "print(\"Extracted phase (phi):\", phi)\n",
    "print(\"Estimated effective alpha from tomography:\", alpha_est_tomo)\n"
   ]
  }
 ],
 "metadata": {
  "kernelspec": {
   "display_name": "Python (venv)",
   "language": "python",
   "name": "venv"
  },
  "language_info": {
   "codemirror_mode": {
    "name": "ipython",
    "version": 3
   },
   "file_extension": ".py",
   "mimetype": "text/x-python",
   "name": "python",
   "nbconvert_exporter": "python",
   "pygments_lexer": "ipython3",
   "version": "3.13.1"
  }
 },
 "nbformat": 4,
 "nbformat_minor": 5
}
