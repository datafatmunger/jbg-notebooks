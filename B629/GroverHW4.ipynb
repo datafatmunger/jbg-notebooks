{
 "cells": [
  {
   "cell_type": "code",
   "execution_count": 1,
   "id": "dd7b897d-bbb5-4dcb-a6a8-4fee10a0c3c7",
   "metadata": {
    "tags": []
   },
   "outputs": [],
   "source": [
    "import pennylane as qml\n",
    "import matplotlib.pyplot as plt\n",
    "import numpy as np"
   ]
  },
  {
   "cell_type": "markdown",
   "id": "4ceab3d5",
   "metadata": {},
   "source": [
    "Grover with unknown number of solutions. Here $t$ is random. Below is the simple Grover algorithm that has *Niter* as an input argument that determines the number of  iterations.  \n",
    "\n",
    "There is also the oracle that implements a boolean function on NUM_QUBITS bits from its truth table. $T$ is the list of all input bit strings that are mapped to 1. In general $T$ and the number of solutions are unknown.  "
   ]
  },
  {
   "cell_type": "code",
   "execution_count": null,
   "id": "eb064891-0914-4489-921a-e67d9e7b0fec",
   "metadata": {
    "tags": []
   },
   "outputs": [],
   "source": [
    "NUM_QUBITS = 4\n",
    "TargetQubit = NUM_QUBITS\n",
    "dev = qml.device(\"default.qubit\", wires=NUM_QUBITS+1)\n",
    "wires = list(range(NUM_QUBITS))\n",
    "\n",
    "\n",
    "def HadamardLayer(wires):\n",
    "    for wire in wires:\n",
    "        qml.Hadamard(wires=wire)       \n",
    "\n",
    "# This oracle implements a boolean function on NUM_QUBITS bits from its truth table. \n",
    "# T is the list of all input bit strings that are mapped to 1. \n",
    "\n",
    "def Oracle(wires, T):\n",
    "    for value in T:\n",
    "        qml.MultiControlledX(wires, TargetQubit, value)\n",
    "\n",
    "# Next, we implement the Grover algorithm. It consists of three layers: Hadamrds, Oracle, and the diffusion operation. \n",
    "# The algorithm takes T and Niter. \n",
    "# T is used to implement the oracle\n",
    "#Niter determines the number of iterations the algorithm runs.  \n",
    "\n",
    "@qml.qnode(dev)\n",
    "def Grover(T,Niter):\n",
    "    HadamardLayer(wires)\n",
    "    qml.PauliX(TargetQubit)\n",
    "    qml.Hadamard(TargetQubit)\n",
    "    \n",
    "    for iter in range(Niter):\n",
    "        Oracle(wires, T)\n",
    "        qml.templates.GroverOperator(wires=wires)\n",
    "    return qml.probs(wires=wires)  # Probability of finding a computational basis state on the wires\n",
    "\n",
    "\n"
   ]
  },
  {
   "cell_type": "markdown",
   "id": "c6e22b7c",
   "metadata": {},
   "source": [
    "Here is an example. Suppose the correct answers are the input bits \"0101\" and \"1101\". \n",
    "We want the Grover algorithm to find these indices."
   ]
  },
  {
   "cell_type": "code",
   "execution_count": null,
   "id": "cd62daf2",
   "metadata": {},
   "outputs": [],
   "source": [
    "T =[\"0101\", \"1101\"]  #correct solutions\n",
    "\n",
    "# say Niter=1. Youc an put any integer here.\n",
    "# You can use the following code to show the output of the algorithm, \n",
    "\n",
    "Niter = 1\n",
    "qml.draw_mpl(Grover, show_all_wires=True)(T,Niter)\n",
    "plt.show()\n",
    "probs = Grover(T, Niter)\n",
    "print(\"Probabilities:\",  probs) \n",
    "y = np.real(probs)\n",
    "\n",
    "bit_strings = [f\"{x:0{NUM_QUBITS}b}\" for x in range(len(y))]\n",
    "bar_width = 0.4\n",
    "rect_1 = np.arange(0, len(y))\n",
    "\n",
    "plt.bar(\n",
    "    rect_1,\n",
    "    y,\n",
    "    width=bar_width,\n",
    "    edgecolor=\"white\",\n",
    "    color = \"#E28743\",\n",
    "    label=\"After diffusion\",\n",
    ")\n",
    "\n",
    "\n",
    "plt.xticks(rect_1 + 0.2, bit_strings, rotation=\"vertical\")\n",
    "plt.xlabel(\"State label\")\n",
    "plt.ylabel(\"Probabilities\")\n",
    "plt.title(\"States probabilities\")\n",
    "\n",
    "plt.legend()\n",
    "plt.show()"
   ]
  },
  {
   "cell_type": "markdown",
   "id": "e61bcc91",
   "metadata": {},
   "source": [
    "#### Part 1:\n",
    "Below write a code that generates a random list $T$ with random number of entries and random bit strings for each entry.  The number of entries must be less than $N /2$, where $N=2^{\\text{number of qubits}}$"
   ]
  },
  {
   "cell_type": "code",
   "execution_count": null,
   "id": "f1ecec8f",
   "metadata": {},
   "outputs": [],
   "source": [
    "## Your code should go here:\n"
   ]
  },
  {
   "cell_type": "markdown",
   "id": "683e40d1",
   "metadata": {},
   "source": [
    "### Part 2:\n",
    "Implement a modified grover algorithm as discussed in HW 4 with incremental number of iterations."
   ]
  },
  {
   "cell_type": "code",
   "execution_count": null,
   "id": "2ffef9ee",
   "metadata": {},
   "outputs": [],
   "source": [
    "## Your code should go here:\n"
   ]
  },
  {
   "cell_type": "markdown",
   "id": "05c40074",
   "metadata": {},
   "source": [
    "### Part 3:\n",
    "Test your algorithm on the random key list $T$ that you generated in Part 1. Show that the algorithm find atleast one correct key from $T$. You need to specify the multiplicative step size $b$ as mentioned in the asignment. "
   ]
  },
  {
   "cell_type": "code",
   "execution_count": null,
   "id": "27a7d88b",
   "metadata": {},
   "outputs": [],
   "source": [
    "## Your code should go here:"
   ]
  }
 ],
 "metadata": {
  "kernelspec": {
   "display_name": "Python 3",
   "language": "python",
   "name": "python3"
  },
  "language_info": {
   "codemirror_mode": {
    "name": "ipython",
    "version": 3
   },
   "file_extension": ".py",
   "mimetype": "text/x-python",
   "name": "python",
   "nbconvert_exporter": "python",
   "pygments_lexer": "ipython3",
   "version": "3.10.11"
  }
 },
 "nbformat": 4,
 "nbformat_minor": 5
}
