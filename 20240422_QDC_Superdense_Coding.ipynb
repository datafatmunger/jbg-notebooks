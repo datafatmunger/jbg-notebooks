{
 "cells": [
  {
   "cell_type": "code",
   "execution_count": 97,
   "id": "b6e70bb4",
   "metadata": {},
   "outputs": [],
   "source": [
    "#importing neccessary modules\n",
    "from qiskit import QuantumCircuit, transpile\n",
    "from qiskit.providers.basic_provider import BasicSimulator\n",
    "from qiskit.visualization import plot_histogram"
   ]
  },
  {
   "cell_type": "code",
   "execution_count": 31,
   "id": "45622e6d",
   "metadata": {},
   "outputs": [
    {
     "data": {
      "image/png": "[encoded data removed]",
      "text/plain": [
       "<Figure size 998.442x284.278 with 1 Axes>"
      ]
     },
     "execution_count": 31,
     "metadata": {},
     "output_type": "execute_result"
    }
   ],
   "source": [
    "#specify the bits to be transmitted\n",
    "c = \"0\"\n",
    "d = \"1\"\n",
    "\n",
    "#creating Two Quantum Bits Circuit\n",
    "qc = QuantumCircuit(2)\n",
    "\n",
    "# Prepare ebit used for superdense coding\n",
    "qc.h(0)\n",
    "qc.cx(0, 1)\n",
    "qc.barrier()\n",
    "\n",
    "# Alice's operations\n",
    "if c == \"1\":\n",
    "    qc.x(0)\n",
    "if d == \"1\":\n",
    "    qc.z(0)\n",
    "qc.barrier()\n",
    "\n",
    "# Bob's actions\n",
    "qc.cx(0, 1)\n",
    "qc.h(0)\n",
    "\n",
    "#measure it\n",
    "qc.measure_all()\n",
    "\n",
    "#draw the circuit\n",
    "qc.draw(output='mpl', style= 'iqp')"
   ]
  },
  {
   "cell_type": "code",
   "execution_count": 32,
   "id": "45629a85",
   "metadata": {},
   "outputs": [
    {
     "name": "stdout",
     "output_type": "stream",
     "text": [
      "{'01': 1024}\n"
     ]
    },
    {
     "data": {
      "image/png": "[encoded data removed]",
      "text/plain": [
       "<Figure size 700x500 with 1 Axes>"
      ]
     },
     "execution_count": 32,
     "metadata": {},
     "output_type": "execute_result"
    }
   ],
   "source": [
    "# Specify the backend (the simulator)\n",
    "simulator = BasicSimulator()\n",
    "\n",
    "# Transpile the circuit for the simulator\n",
    "compiled_circuit = transpile(qc, simulator)\n",
    "\n",
    "# Run the compiled circuit\n",
    "job = simulator.run(compiled_circuit)\n",
    "\n",
    "# Get the result\n",
    "result = job.result()\n",
    "\n",
    "# Print the counts\n",
    "print(result.get_counts())\n",
    "\n",
    "# Plot the histogram\n",
    "plot_histogram(result.get_counts())"
   ]
  },
  {
   "cell_type": "code",
   "execution_count": 242,
   "id": "bc8396ab",
   "metadata": {},
   "outputs": [
    {
     "name": "stdout",
     "output_type": "stream",
     "text": [
      "Pre-entangled state vector: [0.70710678+0.j 0.        +0.j 0.70710678+0.j 0.        +0.j]\n",
      "Pre-encoding state vector: [0.70710678+0.j 0.        +0.j 0.        +0.j 0.70710678+0.j]\n",
      "Post-encoding state vector: [ 0.        +0.j  0.70710678+0.j -0.70710678+0.j  0.        +0.j]\n",
      "Final state vector: [0.+0.j 0.+0.j 0.+0.j 1.+0.j]\n",
      "Measurement probabilities: [0. 0. 0. 1.]\n",
      "('1', '1')\n",
      "Decoded bit i: 1\n",
      "Decoded bit j: 1\n",
      "c and i match, d and j match.\n"
     ]
    }
   ],
   "source": [
    "import numpy as np\n",
    "\n",
    "#specify the bits to be transmitted\n",
    "c = \"1\"\n",
    "d = \"1\"\n",
    "\n",
    "# Define the basic quantum gates as matrices\n",
    "I = np.array([[1, 0], [0, 1]], dtype=complex)  # Identity\n",
    "X = np.array([[0, 1], [1, 0]], dtype=complex)  # Pauli-X\n",
    "Z = np.array([[1, 0], [0, -1]], dtype=complex) # Pauli-Z\n",
    "H = np.array([[1, 1], [1, -1]]) / np.sqrt(2)   # Hadamard\n",
    "CNOT = np.array([[1, 0, 0, 0],\n",
    "                 [0, 1, 0, 0],\n",
    "                 [0, 0, 0, 1],\n",
    "                 [0, 0, 1, 0]], dtype=complex) # CNOT gate\n",
    "\n",
    "# Initialize the quantum state |00⟩\n",
    "state = np.array([1, 0, 0, 0], dtype=complex)  # |00⟩\n",
    "\n",
    "# Prepare ebit used for superdense coding\n",
    "# Apply H on the first qubit\n",
    "state = np.kron(H, I) @ state\n",
    "\n",
    "print(\"Pre-entangled state vector:\", state)  \n",
    "\n",
    "# Apply CNOT with the first qubit as control and second as target\n",
    "state = CNOT @ state\n",
    "\n",
    "print(\"Pre-encoding state vector:\", state)   \n",
    "\n",
    "# Alice's operations\n",
    "if c == \"1\":\n",
    "    state = np.kron(X, I) @ state  # Apply X on the first qubit\n",
    "if d == \"1\":\n",
    "    state = np.kron(Z, I) @ state  # Apply Z on the first qubit\n",
    "    \n",
    "print(\"Post-encoding state vector:\", state)    \n",
    "\n",
    "# Bob's actions\n",
    "state = CNOT @ state  # Apply CNOT with the first qubit as control and second as target\n",
    "state = np.kron(H, I) @ state  # Apply H on the first qubit\n",
    "\n",
    "# Measure the state (probabilities)\n",
    "probabilities = np.abs(state)**2\n",
    "\n",
    "# Output the final state and measurement probabilities\n",
    "print(\"Final state vector:\", state)\n",
    "print(\"Measurement probabilities:\", probabilities)\n",
    "\n",
    "# Map the index to (c, d) bits\n",
    "mapping = [\n",
    "    (\"0\", \"0\"),  # |Φ+⟩\n",
    "    (\"0\", \"1\"),  # |Φ-⟩\n",
    "    (\"1\", \"0\"),  # |Ψ+⟩\n",
    "    (\"1\", \"1\")   # |Ψ-⟩\n",
    "]\n",
    "    \n",
    "# Find the index of the maximum probability\n",
    "max_index = np.argmax(probabilities)\n",
    "    \n",
    "print(mapping[max_index])\n",
    "\n",
    "# Interpret the results\n",
    "i = mapping[max_index][1]  # bit i from X state\n",
    "j = mapping[max_index][0]  # bit j from Z state\n",
    "\n",
    "print(\"Decoded bit i:\", i)\n",
    "print(\"Decoded bit j:\", j)\n",
    "\n",
    "# Verify if c == i and d == j\n",
    "assert c == i, f\"Error: c ({c}) != i ({i})\"\n",
    "assert d == j, f\"Error: d ({d}) != j ({j})\"\n",
    "\n",
    "print(\"c and i match, d and j match.\")"
   ]
  },
  {
   "cell_type": "code",
   "execution_count": 329,
   "id": "db6aafbf",
   "metadata": {},
   "outputs": [
    {
     "name": "stdout",
     "output_type": "stream",
     "text": [
      "-1\n"
     ]
    }
   ],
   "source": [
    "import numpy as np\n",
    "\n",
    "# Define Pauli matrices\n",
    "I = np.eye(2)\n",
    "X = np.array([[0, 1], [1, 0]])\n",
    "Z = np.array([[1, 0], [0, -1]])\n",
    "\n",
    "# Define the 2-qubit state psi as a column vector (example state)\n",
    "psi = np.array([0, 1])\n",
    "\n",
    "# Compute the conjugate transpose of psi\n",
    "psi_dagger = np.conjugate(psi.T)\n",
    "\n",
    "# Calculate <psi|X_first_qubit|psi>\n",
    "result = np.dot(psi_dagger, np.dot(Z, psi))\n",
    "\n",
    "print(result)\n",
    "\n"
   ]
  },
  {
   "cell_type": "code",
   "execution_count": 331,
   "id": "75c6cbce",
   "metadata": {},
   "outputs": [
    {
     "name": "stdout",
     "output_type": "stream",
     "text": [
      "Final Pauli operators for q1:\n",
      "q1x: [[ 0 -1]\n",
      " [ 1  0]]\n",
      "q1z: [[0 1]\n",
      " [1 0]]\n",
      "Final Pauli operators for q2:\n",
      "q2x: [[0 1]\n",
      " [1 0]]\n",
      "q2z: [[ 0  1]\n",
      " [-1  0]]\n",
      "q1 [0 1]\n",
      "q2 [ 0 -1]\n",
      "r1r2 0 -1\n"
     ]
    }
   ],
   "source": [
    "import numpy as np\n",
    "\n",
    "# Specify the bits to be transmitted\n",
    "c = \"1\"\n",
    "d = \"1\"\n",
    "\n",
    "# Define Pauli matrices\n",
    "I = np.eye(2)\n",
    "X = np.array([[0, 1], [1, 0]])\n",
    "Z = np.array([[1, 0], [0, -1]])\n",
    "H = (1 / np.sqrt(2)) * np.array([[1, 1], [1, -1]])\n",
    "\n",
    "# Initial Pauli operators for q(0)\n",
    "q1x, q1z = X, Z\n",
    "q2x, q2z = X, Z\n",
    "\n",
    "# Step-by-step transformations\n",
    "\n",
    "# Step 1: Apply Hadamard on q1\n",
    "q1x, q1z, q2x, q2z = q1z, q1x, q2x, q2z\n",
    "\n",
    "# Step 2: Apply CNOT (control q1, target q2)\n",
    "q1x, q1z, q2x, q2z = q1z @ q2x, q1x, q2x, q1x @ q2z\n",
    "\n",
    "if c == \"1\":\n",
    "    q1x, q1z, q2x, q2z = q1z @ q2x, -q1x, q2x, q1x @ q2z\n",
    "\n",
    "if d == \"1\":\n",
    "    q1x, q1z, q2x, q2z = -q1z @ q2x, -q1x, q2x, q1x @ q2z\n",
    "\n",
    "# Step 5: Apply CNOT again\n",
    "q1x, q1z, q2x, q2z = -q1z, -q1x, q2x, -q2z\n",
    "\n",
    "# Step 6: Apply Hadamard on q1 again\n",
    "q1x, q1z, q2x, q2z = -q1x, -q1z, q2x, -q2z\n",
    "\n",
    "# Final descriptors after all transformations\n",
    "q1_final = (q1x, q1z)\n",
    "q2_final = (q2x, q2z)\n",
    "\n",
    "print(\"Final Pauli operators for q1:\")\n",
    "print(\"q1x:\", q1_final[0])\n",
    "print(\"q1z:\", q1_final[1])\n",
    "\n",
    "print(\"Final Pauli operators for q2:\")\n",
    "print(\"q2x:\", q2_final[0])\n",
    "print(\"q2z:\", q2_final[1])\n",
    "\n",
    "q1 = [1, 0]\n",
    "q1 = np.dot(q1x, q1)\n",
    "print(\"q1\", q1)\n",
    "\n",
    "# Compute the conjugate transpose of psi\n",
    "q1_dagger = np.conjugate(q1.T)\n",
    "\n",
    "# Measure q1 in X basis <psi|X|psi>\n",
    "r1 = np.dot(q1_dagger, np.dot(X, q1))\n",
    "\n",
    "q2 = [1, 0]\n",
    "q2 = np.dot(q2z, q2)\n",
    "print(\"q2\", q2)\n",
    "\n",
    "# Compute the conjugate transpose of psi\n",
    "q2_dagger = np.conjugate(q2.T)\n",
    "\n",
    "# Measure q2 in Z basis <psi|X|psi>\n",
    "r2 = np.dot(q2_dagger, np.dot(Z, q2))\n",
    "\n",
    "print(\"r1r2\", r1, r2)\n",
    "\n"
   ]
  },
  {
   "cell_type": "code",
   "execution_count": null,
   "id": "80c200cb",
   "metadata": {},
   "outputs": [],
   "source": []
  }
 ],
 "metadata": {
  "kernelspec": {
   "display_name": "Python 3 (ipykernel)",
   "language": "python",
   "name": "python3"
  },
  "language_info": {
   "codemirror_mode": {
    "name": "ipython",
    "version": 3
   },
   "file_extension": ".py",
   "mimetype": "text/x-python",
   "name": "python",
   "nbconvert_exporter": "python",
   "pygments_lexer": "ipython3",
   "version": "3.11.5"
  }
 },
 "nbformat": 4,
 "nbformat_minor": 5
}
